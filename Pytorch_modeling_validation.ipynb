{
  "nbformat": 4,
  "nbformat_minor": 0,
  "metadata": {
    "colab": {
      "name": "Pytorch_modeling_validation.ipynb",
      "provenance": [],
      "authorship_tag": "ABX9TyOxphgYnIz3Sr0xwkY3v/h4",
      "include_colab_link": true
    },
    "kernelspec": {
      "name": "python3",
      "display_name": "Python 3"
    },
    "accelerator": "GPU",
    "widgets": {
      "application/vnd.jupyter.widget-state+json": {
        "132a80a204114462a41d571f700e7b31": {
          "model_module": "@jupyter-widgets/controls",
          "model_name": "HBoxModel",
          "state": {
            "_view_name": "HBoxView",
            "_dom_classes": [],
            "_model_name": "HBoxModel",
            "_view_module": "@jupyter-widgets/controls",
            "_model_module_version": "1.5.0",
            "_view_count": null,
            "_view_module_version": "1.5.0",
            "box_style": "",
            "layout": "IPY_MODEL_1a0763d5ea764a63b1839698399e8f3d",
            "_model_module": "@jupyter-widgets/controls",
            "children": [
              "IPY_MODEL_d6327133f1f2451aa03ef1662f7dfe4c",
              "IPY_MODEL_a4d6ecfff2dd4d979515758a0dc46095"
            ]
          }
        },
        "1a0763d5ea764a63b1839698399e8f3d": {
          "model_module": "@jupyter-widgets/base",
          "model_name": "LayoutModel",
          "state": {
            "_view_name": "LayoutView",
            "grid_template_rows": null,
            "right": null,
            "justify_content": null,
            "_view_module": "@jupyter-widgets/base",
            "overflow": null,
            "_model_module_version": "1.2.0",
            "_view_count": null,
            "flex_flow": null,
            "width": null,
            "min_width": null,
            "border": null,
            "align_items": null,
            "bottom": null,
            "_model_module": "@jupyter-widgets/base",
            "top": null,
            "grid_column": null,
            "overflow_y": null,
            "overflow_x": null,
            "grid_auto_flow": null,
            "grid_area": null,
            "grid_template_columns": null,
            "flex": null,
            "_model_name": "LayoutModel",
            "justify_items": null,
            "grid_row": null,
            "max_height": null,
            "align_content": null,
            "visibility": null,
            "align_self": null,
            "height": null,
            "min_height": null,
            "padding": null,
            "grid_auto_rows": null,
            "grid_gap": null,
            "max_width": null,
            "order": null,
            "_view_module_version": "1.2.0",
            "grid_template_areas": null,
            "object_position": null,
            "object_fit": null,
            "grid_auto_columns": null,
            "margin": null,
            "display": null,
            "left": null
          }
        },
        "d6327133f1f2451aa03ef1662f7dfe4c": {
          "model_module": "@jupyter-widgets/controls",
          "model_name": "FloatProgressModel",
          "state": {
            "_view_name": "ProgressView",
            "style": "IPY_MODEL_2a347757786f495593e1f397914def68",
            "_dom_classes": [],
            "description": "100%",
            "_model_name": "FloatProgressModel",
            "bar_style": "success",
            "max": 64,
            "_view_module": "@jupyter-widgets/controls",
            "_model_module_version": "1.5.0",
            "value": 64,
            "_view_count": null,
            "_view_module_version": "1.5.0",
            "orientation": "horizontal",
            "min": 0,
            "description_tooltip": null,
            "_model_module": "@jupyter-widgets/controls",
            "layout": "IPY_MODEL_94f735ec726045d0b9fed7d33ac4b0a7"
          }
        },
        "a4d6ecfff2dd4d979515758a0dc46095": {
          "model_module": "@jupyter-widgets/controls",
          "model_name": "HTMLModel",
          "state": {
            "_view_name": "HTMLView",
            "style": "IPY_MODEL_27cf95831f654d0a97b53b3973bc8bba",
            "_dom_classes": [],
            "description": "",
            "_model_name": "HTMLModel",
            "placeholder": "​",
            "_view_module": "@jupyter-widgets/controls",
            "_model_module_version": "1.5.0",
            "value": " 64/64 [3:43:59&lt;00:00, 209.99s/it]",
            "_view_count": null,
            "_view_module_version": "1.5.0",
            "description_tooltip": null,
            "_model_module": "@jupyter-widgets/controls",
            "layout": "IPY_MODEL_55b61b152f6843bf8938b0b8b4c922c3"
          }
        },
        "2a347757786f495593e1f397914def68": {
          "model_module": "@jupyter-widgets/controls",
          "model_name": "ProgressStyleModel",
          "state": {
            "_view_name": "StyleView",
            "_model_name": "ProgressStyleModel",
            "description_width": "initial",
            "_view_module": "@jupyter-widgets/base",
            "_model_module_version": "1.5.0",
            "_view_count": null,
            "_view_module_version": "1.2.0",
            "bar_color": null,
            "_model_module": "@jupyter-widgets/controls"
          }
        },
        "94f735ec726045d0b9fed7d33ac4b0a7": {
          "model_module": "@jupyter-widgets/base",
          "model_name": "LayoutModel",
          "state": {
            "_view_name": "LayoutView",
            "grid_template_rows": null,
            "right": null,
            "justify_content": null,
            "_view_module": "@jupyter-widgets/base",
            "overflow": null,
            "_model_module_version": "1.2.0",
            "_view_count": null,
            "flex_flow": null,
            "width": null,
            "min_width": null,
            "border": null,
            "align_items": null,
            "bottom": null,
            "_model_module": "@jupyter-widgets/base",
            "top": null,
            "grid_column": null,
            "overflow_y": null,
            "overflow_x": null,
            "grid_auto_flow": null,
            "grid_area": null,
            "grid_template_columns": null,
            "flex": null,
            "_model_name": "LayoutModel",
            "justify_items": null,
            "grid_row": null,
            "max_height": null,
            "align_content": null,
            "visibility": null,
            "align_self": null,
            "height": null,
            "min_height": null,
            "padding": null,
            "grid_auto_rows": null,
            "grid_gap": null,
            "max_width": null,
            "order": null,
            "_view_module_version": "1.2.0",
            "grid_template_areas": null,
            "object_position": null,
            "object_fit": null,
            "grid_auto_columns": null,
            "margin": null,
            "display": null,
            "left": null
          }
        },
        "27cf95831f654d0a97b53b3973bc8bba": {
          "model_module": "@jupyter-widgets/controls",
          "model_name": "DescriptionStyleModel",
          "state": {
            "_view_name": "StyleView",
            "_model_name": "DescriptionStyleModel",
            "description_width": "",
            "_view_module": "@jupyter-widgets/base",
            "_model_module_version": "1.5.0",
            "_view_count": null,
            "_view_module_version": "1.2.0",
            "_model_module": "@jupyter-widgets/controls"
          }
        },
        "55b61b152f6843bf8938b0b8b4c922c3": {
          "model_module": "@jupyter-widgets/base",
          "model_name": "LayoutModel",
          "state": {
            "_view_name": "LayoutView",
            "grid_template_rows": null,
            "right": null,
            "justify_content": null,
            "_view_module": "@jupyter-widgets/base",
            "overflow": null,
            "_model_module_version": "1.2.0",
            "_view_count": null,
            "flex_flow": null,
            "width": null,
            "min_width": null,
            "border": null,
            "align_items": null,
            "bottom": null,
            "_model_module": "@jupyter-widgets/base",
            "top": null,
            "grid_column": null,
            "overflow_y": null,
            "overflow_x": null,
            "grid_auto_flow": null,
            "grid_area": null,
            "grid_template_columns": null,
            "flex": null,
            "_model_name": "LayoutModel",
            "justify_items": null,
            "grid_row": null,
            "max_height": null,
            "align_content": null,
            "visibility": null,
            "align_self": null,
            "height": null,
            "min_height": null,
            "padding": null,
            "grid_auto_rows": null,
            "grid_gap": null,
            "max_width": null,
            "order": null,
            "_view_module_version": "1.2.0",
            "grid_template_areas": null,
            "object_position": null,
            "object_fit": null,
            "grid_auto_columns": null,
            "margin": null,
            "display": null,
            "left": null
          }
        }
      }
    }
  },
  "cells": [
    {
      "cell_type": "markdown",
      "metadata": {
        "id": "view-in-github",
        "colab_type": "text"
      },
      "source": [
        "<a href=\"https://colab.research.google.com/github/vimita/Predictive_Modeling-Deep-Learning-/blob/master/Pytorch_modeling_validation.ipynb\" target=\"_parent\"><img src=\"https://colab.research.google.com/assets/colab-badge.svg\" alt=\"Open In Colab\"/></a>"
      ]
    },
    {
      "cell_type": "code",
      "metadata": {
        "id": "p-kLExJM92t2",
        "colab_type": "code",
        "colab": {
          "base_uri": "https://localhost:8080/",
          "height": 54
        },
        "outputId": "7fcced97-0526-4e57-aabb-c2266dc111b3"
      },
      "source": [
        "from google.colab import drive \n",
        "drive.mount('/content/my-drive')\n"
      ],
      "execution_count": 24,
      "outputs": [
        {
          "output_type": "stream",
          "text": [
            "Drive already mounted at /content/my-drive; to attempt to forcibly remount, call drive.mount(\"/content/my-drive\", force_remount=True).\n"
          ],
          "name": "stdout"
        }
      ]
    },
    {
      "cell_type": "code",
      "metadata": {
        "id": "RQ1ob7-N-SZk",
        "colab_type": "code",
        "colab": {}
      },
      "source": [
        "import numpy as np\n",
        "import pandas as pd\n",
        "import seaborn as sns\n",
        "from tqdm.notebook import tqdm\n",
        "import matplotlib.pyplot as plt\n",
        "\n",
        "import torch\n",
        "import torch.nn as nn\n",
        "import torch.optim as optim\n",
        "from torch.utils.data import Dataset, DataLoader, WeightedRandomSampler\n",
        "\n",
        "from sklearn.preprocessing import MinMaxScaler    \n",
        "from sklearn.model_selection import train_test_split\n",
        "from sklearn.metrics import confusion_matrix, classification_report"
      ],
      "execution_count": 25,
      "outputs": []
    },
    {
      "cell_type": "code",
      "metadata": {
        "id": "3wh2llU--T5m",
        "colab_type": "code",
        "colab": {}
      },
      "source": [
        "nz_crime_data=pd.read_csv('my-drive/My Drive/Deep Learning(Predictive Policing)/nz_crime_dataset_new.csv', encoding='utf-8-sig')"
      ],
      "execution_count": 26,
      "outputs": []
    },
    {
      "cell_type": "code",
      "metadata": {
        "id": "ThEqZqRQ-uk4",
        "colab_type": "code",
        "colab": {
          "base_uri": "https://localhost:8080/",
          "height": 370
        },
        "outputId": "a3c1fe3b-ac54-4df7-df00-d9effc106816"
      },
      "source": [
        "# Count total NaN at each column in DataFrame\n",
        "print(nz_crime_data.isnull().sum())\n",
        "\n",
        "# Count all NaN in a DataFrame (both columns & Rows)\n",
        "print(nz_crime_data.isnull().sum().sum())\n",
        "\n",
        "# erase every row (axis=0) that has \"any\" Null value in it.\n",
        "nz_crime_data = nz_crime_data.dropna(how='any',axis=0)"
      ],
      "execution_count": 27,
      "outputs": [
        {
          "output_type": "stream",
          "text": [
            "DATE_NO_TIME                 0\n",
            "DATE_TIME                    0\n",
            "DAY_AREA_CRIME_COUNT_ROLL    0\n",
            "DAY_AREA_CRIME_COUNT         0\n",
            "MONTH_AREA_CRIME_COUNT       0\n",
            "YEAR_AREA_CRIME_COUNT        0\n",
            "TIME_SINCE_LAST_CRIME        0\n",
            "MONTH                        0\n",
            "QUARTER                      0\n",
            "DAY_OF_WEEK                  0\n",
            "DAY                          0\n",
            "HOUR                         0\n",
            "HOUR_PARTITION               0\n",
            "MESHBLOCK                    0\n",
            "AREA_0                       0\n",
            "AREA_1                       0\n",
            "WEAPON_TYPE                  0\n",
            "CRIME_TYPE                   0\n",
            "RISK                         0\n",
            "dtype: int64\n",
            "0\n"
          ],
          "name": "stdout"
        }
      ]
    },
    {
      "cell_type": "code",
      "metadata": {
        "id": "nhpZhhEP-957",
        "colab_type": "code",
        "colab": {}
      },
      "source": [
        "feature_var = ['DAY_AREA_CRIME_COUNT_ROLL', 'MONTH', 'DAY', 'QUARTER', 'HOUR_PARTITION', 'WEAPON_TYPE','AREA_0','AREA_1','CRIME_TYPE']\n",
        "response_var = 'RISK'\n",
        "\n",
        "X = nz_crime_data[feature_var]\n",
        "y = nz_crime_data.pop(response_var)\n",
        "\n"
      ],
      "execution_count": 28,
      "outputs": []
    },
    {
      "cell_type": "code",
      "metadata": {
        "id": "9dzJVh1r_9Bf",
        "colab_type": "code",
        "colab": {}
      },
      "source": [
        "# Encode categorical variables\n",
        "from sklearn.preprocessing import OrdinalEncoder\n",
        "oe = OrdinalEncoder()\n",
        "oe.fit(X)\n",
        "X = oe.transform(X)\n",
        "\n",
        "from sklearn.preprocessing import LabelEncoder\n",
        "le = LabelEncoder()\n",
        "le.fit(y)\n",
        "y = le.transform(y)"
      ],
      "execution_count": 29,
      "outputs": []
    },
    {
      "cell_type": "code",
      "metadata": {
        "id": "zTuGrM4j_NDd",
        "colab_type": "code",
        "colab": {}
      },
      "source": [
        "# Split into train+val and test\n",
        "X_trainval, X_test, y_trainval, y_test = train_test_split(X, y, test_size=0.4, stratify=y, random_state=69)\n",
        "\n",
        "# Split train into train-val\n",
        "X_train, X_val, y_train, y_val = train_test_split(X_trainval, y_trainval, test_size=0.2, stratify=y_trainval, random_state=21)"
      ],
      "execution_count": 30,
      "outputs": []
    },
    {
      "cell_type": "code",
      "metadata": {
        "id": "ZLD1Nrc-_1pQ",
        "colab_type": "code",
        "colab": {}
      },
      "source": [
        "scaler = MinMaxScaler()\n",
        "X_train = scaler.fit_transform(X_train)\n",
        "X_val = scaler.transform(X_val)\n",
        "X_test = scaler.transform(X_test)\n",
        "X_train, y_train = np.array(X_train), np.array(y_train)\n",
        "X_val, y_val = np.array(X_val), np.array(y_val)\n",
        "X_test, y_test = np.array(X_test), np.array(y_test)"
      ],
      "execution_count": 31,
      "outputs": []
    },
    {
      "cell_type": "code",
      "metadata": {
        "id": "yL_XF33XAHlE",
        "colab_type": "code",
        "colab": {}
      },
      "source": [
        "def get_class_distribution(obj):\n",
        "    count_dict = {\n",
        "        \"rating_3\": 0,\n",
        "        \"rating_4\": 0,\n",
        "        \"rating_5\": 0,\n",
        "        \"rating_6\": 0,\n",
        "        \"rating_7\": 0,\n",
        "        \"rating_8\": 0,\n",
        "    }\n",
        "    \n",
        "    for i in obj:\n",
        "        if i == 0: \n",
        "            count_dict['rating_3'] += 1\n",
        "        elif i == 1: \n",
        "            count_dict['rating_4'] += 1\n",
        "        elif i == 2: \n",
        "            count_dict['rating_5'] += 1\n",
        "        elif i == 3: \n",
        "            count_dict['rating_6'] += 1\n",
        "        elif i == 4: \n",
        "            count_dict['rating_7'] += 1  \n",
        "        elif i == 5: \n",
        "            count_dict['rating_8'] += 1              \n",
        "        else:\n",
        "            print(\"Check classes.\")\n",
        "            \n",
        "    return count_dict"
      ],
      "execution_count": 32,
      "outputs": []
    },
    {
      "cell_type": "code",
      "metadata": {
        "id": "OCXZoaE6AUn_",
        "colab_type": "code",
        "colab": {
          "base_uri": "https://localhost:8080/",
          "height": 242
        },
        "outputId": "f064b169-de8a-42cc-88f9-2fdd433405b2"
      },
      "source": [
        "fig, axes = plt.subplots(nrows=1, ncols=3, figsize=(25,7))\n",
        "# Train\n",
        "sns.barplot(data = pd.DataFrame.from_dict([get_class_distribution(y_train)]).melt(), x = \"variable\", y=\"value\", hue=\"variable\",  ax=axes[0]).set_title('Class Distribution in Train Set')\n",
        "# Validation\n",
        "sns.barplot(data = pd.DataFrame.from_dict([get_class_distribution(y_val)]).melt(), x = \"variable\", y=\"value\", hue=\"variable\",  ax=axes[1]).set_title('Class Distribution in Val Set')\n",
        "# Test\n",
        "sns.barplot(data = pd.DataFrame.from_dict([get_class_distribution(y_test)]).melt(), x = \"variable\", y=\"value\", hue=\"variable\",  ax=axes[2]).set_title('Class Distribution in Test Set')\n"
      ],
      "execution_count": 33,
      "outputs": [
        {
          "output_type": "execute_result",
          "data": {
            "text/plain": [
              "Text(0.5, 1.0, 'Class Distribution in Test Set')"
            ]
          },
          "metadata": {
            "tags": []
          },
          "execution_count": 33
        },
        {
          "output_type": "display_data",
          "data": {
            "image/png": "[encoded data removed]",
            "text/plain": [
              "<Figure size 1800x504 with 3 Axes>"
            ]
          },
          "metadata": {
            "tags": [],
            "needs_background": "light"
          }
        }
      ]
    },
    {
      "cell_type": "code",
      "metadata": {
        "id": "nFBc_xewAfoK",
        "colab_type": "code",
        "colab": {}
      },
      "source": [
        "class ClassifierDataset(Dataset):\n",
        "    \n",
        "    def __init__(self, X_data, y_data):\n",
        "        self.X_data = X_data\n",
        "        self.y_data = y_data\n",
        "        \n",
        "    def __getitem__(self, index):\n",
        "        return self.X_data[index], self.y_data[index]\n",
        "        \n",
        "    def __len__ (self):\n",
        "        return len(self.X_data)\n",
        "\n",
        "\n",
        "train_dataset = ClassifierDataset(torch.from_numpy(X_train).float(), torch.from_numpy(y_train).long())\n",
        "val_dataset = ClassifierDataset(torch.from_numpy(X_val).float(), torch.from_numpy(y_val).long())\n",
        "test_dataset = ClassifierDataset(torch.from_numpy(X_test).float(), torch.from_numpy(y_test).long())"
      ],
      "execution_count": 34,
      "outputs": []
    },
    {
      "cell_type": "code",
      "metadata": {
        "id": "p4KruUynAjOL",
        "colab_type": "code",
        "colab": {}
      },
      "source": [
        "target_list = []\n",
        "for _, t in train_dataset:\n",
        "    target_list.append(t)\n",
        "    \n",
        "target_list = torch.tensor(target_list)\n",
        "target_list = target_list[torch.randperm(len(target_list))]"
      ],
      "execution_count": 35,
      "outputs": []
    },
    {
      "cell_type": "code",
      "metadata": {
        "id": "6Jhc-2u0Ap1F",
        "colab_type": "code",
        "colab": {
          "base_uri": "https://localhost:8080/",
          "height": 34
        },
        "outputId": "75e1eae5-5411-4f03-f493-90f16b74a59c"
      },
      "source": [
        "class_count = [i for i in get_class_distribution(y_train).values()]\n",
        "class_weights = 1./torch.tensor(class_count, dtype=torch.float) \n",
        "print(class_weights)"
      ],
      "execution_count": 36,
      "outputs": [
        {
          "output_type": "stream",
          "text": [
            "tensor([5.9773e-06, 4.4832e-06, 5.8835e-06,        inf,        inf,        inf])\n"
          ],
          "name": "stdout"
        }
      ]
    },
    {
      "cell_type": "code",
      "metadata": {
        "id": "rnLtqFSiAt0I",
        "colab_type": "code",
        "colab": {}
      },
      "source": [
        "class_weights_all = class_weights[target_list]"
      ],
      "execution_count": 37,
      "outputs": []
    },
    {
      "cell_type": "code",
      "metadata": {
        "id": "wmQt0PTRAw1V",
        "colab_type": "code",
        "colab": {}
      },
      "source": [
        "weighted_sampler = WeightedRandomSampler(\n",
        "    weights=class_weights_all,\n",
        "    num_samples=len(class_weights_all),\n",
        "    replacement=True\n",
        ")"
      ],
      "execution_count": 38,
      "outputs": []
    },
    {
      "cell_type": "code",
      "metadata": {
        "id": "c9yk_EZkAzQU",
        "colab_type": "code",
        "colab": {}
      },
      "source": [
        "EPOCHS = 64\n",
        "BATCH_SIZE = 16\n",
        "LEARNING_RATE = 0.001\n",
        "NUM_FEATURES = 9\n",
        "NUM_CLASSES = 6"
      ],
      "execution_count": 39,
      "outputs": []
    },
    {
      "cell_type": "code",
      "metadata": {
        "id": "Z79na5dlBIgI",
        "colab_type": "code",
        "colab": {}
      },
      "source": [
        "train_loader = DataLoader(dataset=train_dataset,\n",
        "                          batch_size=BATCH_SIZE,\n",
        "                          sampler=weighted_sampler\n",
        ")\n",
        "val_loader = DataLoader(dataset=val_dataset, batch_size=1)\n",
        "test_loader = DataLoader(dataset=test_dataset, batch_size=1)"
      ],
      "execution_count": 40,
      "outputs": []
    },
    {
      "cell_type": "code",
      "metadata": {
        "id": "EfYxq5yFBLI1",
        "colab_type": "code",
        "colab": {}
      },
      "source": [
        "class MulticlassClassification(nn.Module):\n",
        "    def __init__(self, num_feature, num_class):\n",
        "        super(MulticlassClassification, self).__init__()\n",
        "        \n",
        "        self.layer_1 = nn.Linear(num_feature, 512)\n",
        "        self.layer_2 = nn.Linear(512, 128)\n",
        "        self.layer_3 = nn.Linear(128, 64)\n",
        "        self.layer_out = nn.Linear(64, num_class) \n",
        "        \n",
        "        self.relu = nn.ReLU()\n",
        "        self.dropout = nn.Dropout(p=0.2)\n",
        "        self.batchnorm1 = nn.BatchNorm1d(512)\n",
        "        self.batchnorm2 = nn.BatchNorm1d(128)\n",
        "        self.batchnorm3 = nn.BatchNorm1d(64)\n",
        "        \n",
        "    def forward(self, x):\n",
        "        x = self.layer_1(x)\n",
        "        x = self.batchnorm1(x)\n",
        "        x = self.relu(x)\n",
        "        \n",
        "        x = self.layer_2(x)\n",
        "        x = self.batchnorm2(x)\n",
        "        x = self.relu(x)\n",
        "        x = self.dropout(x)\n",
        "        \n",
        "        x = self.layer_3(x)\n",
        "        x = self.batchnorm3(x)\n",
        "        x = self.relu(x)\n",
        "        x = self.dropout(x)\n",
        "        \n",
        "        x = self.layer_out(x)\n",
        "        \n",
        "        return x"
      ],
      "execution_count": 41,
      "outputs": []
    },
    {
      "cell_type": "code",
      "metadata": {
        "id": "fvFA81b_BNp2",
        "colab_type": "code",
        "colab": {
          "base_uri": "https://localhost:8080/",
          "height": 34
        },
        "outputId": "1b38a788-de51-4f61-a6de-bb02e95a0a72"
      },
      "source": [
        "device = torch.device(\"cuda:0\" if torch.cuda.is_available() else \"cpu\")\n",
        "print(device)"
      ],
      "execution_count": 42,
      "outputs": [
        {
          "output_type": "stream",
          "text": [
            "cuda:0\n"
          ],
          "name": "stdout"
        }
      ]
    },
    {
      "cell_type": "code",
      "metadata": {
        "id": "6W1b2QyWBTDT",
        "colab_type": "code",
        "colab": {
          "base_uri": "https://localhost:8080/",
          "height": 222
        },
        "outputId": "f495872a-495a-4c95-d1f9-bc2e2170cfba"
      },
      "source": [
        "model = MulticlassClassification(num_feature = NUM_FEATURES, num_class=NUM_CLASSES)\n",
        "model.to(device)\n",
        "\n",
        "criterion = nn.CrossEntropyLoss(weight=class_weights.to(device))\n",
        "optimizer = optim.Adam(model.parameters(), lr=LEARNING_RATE)\n",
        "print(model)"
      ],
      "execution_count": 43,
      "outputs": [
        {
          "output_type": "stream",
          "text": [
            "MulticlassClassification(\n",
            "  (layer_1): Linear(in_features=9, out_features=512, bias=True)\n",
            "  (layer_2): Linear(in_features=512, out_features=128, bias=True)\n",
            "  (layer_3): Linear(in_features=128, out_features=64, bias=True)\n",
            "  (layer_out): Linear(in_features=64, out_features=6, bias=True)\n",
            "  (relu): ReLU()\n",
            "  (dropout): Dropout(p=0.2, inplace=False)\n",
            "  (batchnorm1): BatchNorm1d(512, eps=1e-05, momentum=0.1, affine=True, track_running_stats=True)\n",
            "  (batchnorm2): BatchNorm1d(128, eps=1e-05, momentum=0.1, affine=True, track_running_stats=True)\n",
            "  (batchnorm3): BatchNorm1d(64, eps=1e-05, momentum=0.1, affine=True, track_running_stats=True)\n",
            ")\n"
          ],
          "name": "stdout"
        }
      ]
    },
    {
      "cell_type": "code",
      "metadata": {
        "id": "JN8vNMvPBWRE",
        "colab_type": "code",
        "colab": {}
      },
      "source": [
        "def multi_acc(y_pred, y_test):\n",
        "    y_pred_softmax = torch.log_softmax(y_pred, dim = 1)\n",
        "    _, y_pred_tags = torch.max(y_pred_softmax, dim = 1)    \n",
        "    \n",
        "    correct_pred = (y_pred_tags == y_test).float()\n",
        "    acc = correct_pred.sum() / len(correct_pred)\n",
        "    \n",
        "    acc = torch.round(acc) * 100\n",
        "    \n",
        "    return acc"
      ],
      "execution_count": 44,
      "outputs": []
    },
    {
      "cell_type": "code",
      "metadata": {
        "id": "Ri8a2vyqBYgF",
        "colab_type": "code",
        "colab": {}
      },
      "source": [
        "accuracy_stats = {\n",
        "    'train': [],\n",
        "    \"val\": []\n",
        "}\n",
        "loss_stats = {\n",
        "    'train': [],\n",
        "    \"val\": []\n",
        "}"
      ],
      "execution_count": 45,
      "outputs": []
    },
    {
      "cell_type": "code",
      "metadata": {
        "id": "o6j2FpDWBb9n",
        "colab_type": "code",
        "colab": {
          "base_uri": "https://localhost:8080/",
          "height": 1000,
          "referenced_widgets": [
            "132a80a204114462a41d571f700e7b31",
            "1a0763d5ea764a63b1839698399e8f3d",
            "d6327133f1f2451aa03ef1662f7dfe4c",
            "a4d6ecfff2dd4d979515758a0dc46095",
            "2a347757786f495593e1f397914def68",
            "94f735ec726045d0b9fed7d33ac4b0a7",
            "27cf95831f654d0a97b53b3973bc8bba",
            "55b61b152f6843bf8938b0b8b4c922c3"
          ]
        },
        "outputId": "dcceba16-4447-4dc6-8c53-32705aea2653"
      },
      "source": [
        "print(\"Begin training.\")\n",
        "for e in tqdm(range(1, EPOCHS+1)):\n",
        "    \n",
        "    # TRAINING\n",
        "    train_epoch_loss = 0\n",
        "    train_epoch_acc = 0\n",
        "    model.train()\n",
        "    for X_train_batch, y_train_batch in train_loader:\n",
        "        X_train_batch, y_train_batch = X_train_batch.to(device), y_train_batch.to(device)\n",
        "        optimizer.zero_grad()\n",
        "        \n",
        "        y_train_pred = model(X_train_batch)\n",
        "        \n",
        "        train_loss = criterion(y_train_pred, y_train_batch)\n",
        "        train_acc = multi_acc(y_train_pred, y_train_batch)\n",
        "        \n",
        "        train_loss.backward()\n",
        "        optimizer.step()\n",
        "        \n",
        "        train_epoch_loss += train_loss.item()\n",
        "        train_epoch_acc += train_acc.item()\n",
        "        \n",
        "        \n",
        "    # VALIDATION    \n",
        "    with torch.no_grad():\n",
        "        \n",
        "        val_epoch_loss = 0\n",
        "        val_epoch_acc = 0\n",
        "        \n",
        "        model.eval()\n",
        "        for X_val_batch, y_val_batch in val_loader:\n",
        "            X_val_batch, y_val_batch = X_val_batch.to(device), y_val_batch.to(device)\n",
        "            \n",
        "            y_val_pred = model(X_val_batch)\n",
        "                        \n",
        "            val_loss = criterion(y_val_pred, y_val_batch)\n",
        "            val_acc = multi_acc(y_val_pred, y_val_batch)\n",
        "            \n",
        "            val_epoch_loss += val_loss.item()\n",
        "            val_epoch_acc += val_acc.item()\n",
        "        loss_stats['train'].append(train_epoch_loss/len(train_loader))\n",
        "        loss_stats['val'].append(val_epoch_loss/len(val_loader))\n",
        "        accuracy_stats['train'].append(train_epoch_acc/len(train_loader))\n",
        "        accuracy_stats['val'].append(val_epoch_acc/len(val_loader))\n",
        "                              \n",
        "    \n",
        "    print(f'Epoch {e+0:03}: | Train Loss: {train_epoch_loss/len(train_loader):.5f} | Val Loss: {val_epoch_loss/len(val_loader):.5f} | Train Acc: {train_epoch_acc/len(train_loader):.3f}| Val Acc: {val_epoch_acc/len(val_loader):.3f}')\n"
      ],
      "execution_count": 46,
      "outputs": [
        {
          "output_type": "stream",
          "text": [
            "Begin training.\n"
          ],
          "name": "stdout"
        },
        {
          "output_type": "display_data",
          "data": {
            "application/vnd.jupyter.widget-view+json": {
              "model_id": "132a80a204114462a41d571f700e7b31",
              "version_minor": 0,
              "version_major": 2
            },
            "text/plain": [
              "HBox(children=(FloatProgress(value=0.0, max=64.0), HTML(value='')))"
            ]
          },
          "metadata": {
            "tags": []
          }
        },
        {
          "output_type": "stream",
          "text": [
            "Epoch 001: | Train Loss: 1.04325 | Val Loss: 1.01769 | Train Acc: 24.074| Val Acc: 47.182\n",
            "Epoch 002: | Train Loss: 1.02916 | Val Loss: 1.01215 | Train Acc: 27.926| Val Acc: 47.491\n",
            "Epoch 003: | Train Loss: 1.02425 | Val Loss: 1.00610 | Train Acc: 29.916| Val Acc: 48.906\n",
            "Epoch 004: | Train Loss: 1.02241 | Val Loss: 1.00623 | Train Acc: 30.196| Val Acc: 47.801\n",
            "Epoch 005: | Train Loss: 1.01913 | Val Loss: 0.99965 | Train Acc: 31.238| Val Acc: 48.352\n",
            "Epoch 006: | Train Loss: 1.01832 | Val Loss: 1.00835 | Train Acc: 31.039| Val Acc: 46.943\n",
            "Epoch 007: | Train Loss: 1.01730 | Val Loss: 1.00055 | Train Acc: 31.678| Val Acc: 49.040\n",
            "Epoch 008: | Train Loss: 1.01434 | Val Loss: 0.99941 | Train Acc: 32.743| Val Acc: 48.602\n",
            "Epoch 009: | Train Loss: 1.01496 | Val Loss: 0.99280 | Train Acc: 32.232| Val Acc: 49.624\n",
            "Epoch 010: | Train Loss: 1.01486 | Val Loss: 0.99124 | Train Acc: 32.292| Val Acc: 49.815\n",
            "Epoch 011: | Train Loss: 1.01479 | Val Loss: 0.99304 | Train Acc: 32.578| Val Acc: 49.862\n",
            "Epoch 012: | Train Loss: 1.01366 | Val Loss: 1.00282 | Train Acc: 32.669| Val Acc: 48.301\n",
            "Epoch 013: | Train Loss: 1.01274 | Val Loss: 0.99519 | Train Acc: 32.623| Val Acc: 49.891\n",
            "Epoch 014: | Train Loss: 1.01220 | Val Loss: 0.99519 | Train Acc: 33.106| Val Acc: 48.768\n",
            "Epoch 015: | Train Loss: 1.01208 | Val Loss: 0.99706 | Train Acc: 33.212| Val Acc: 48.873\n",
            "Epoch 016: | Train Loss: 1.01181 | Val Loss: 0.99473 | Train Acc: 33.234| Val Acc: 49.007\n",
            "Epoch 017: | Train Loss: 1.01091 | Val Loss: 1.00095 | Train Acc: 33.163| Val Acc: 48.913\n",
            "Epoch 018: | Train Loss: 1.01120 | Val Loss: 1.00578 | Train Acc: 33.474| Val Acc: 48.107\n",
            "Epoch 019: | Train Loss: 1.01035 | Val Loss: 0.98852 | Train Acc: 33.651| Val Acc: 50.094\n",
            "Epoch 020: | Train Loss: 1.01026 | Val Loss: 0.99103 | Train Acc: 33.717| Val Acc: 50.139\n",
            "Epoch 021: | Train Loss: 1.01048 | Val Loss: 1.00157 | Train Acc: 33.628| Val Acc: 48.861\n",
            "Epoch 022: | Train Loss: 1.00890 | Val Loss: 0.99844 | Train Acc: 34.297| Val Acc: 49.375\n",
            "Epoch 023: | Train Loss: 1.00892 | Val Loss: 1.00567 | Train Acc: 33.703| Val Acc: 49.018\n",
            "Epoch 024: | Train Loss: 1.00833 | Val Loss: 0.99505 | Train Acc: 34.317| Val Acc: 48.759\n",
            "Epoch 025: | Train Loss: 1.00912 | Val Loss: 1.00612 | Train Acc: 33.783| Val Acc: 47.894\n",
            "Epoch 026: | Train Loss: 1.00798 | Val Loss: 1.00775 | Train Acc: 34.268| Val Acc: 47.860\n",
            "Epoch 027: | Train Loss: 1.00861 | Val Loss: 0.99650 | Train Acc: 33.657| Val Acc: 50.070\n",
            "Epoch 028: | Train Loss: 1.00718 | Val Loss: 1.00147 | Train Acc: 34.442| Val Acc: 49.011\n",
            "Epoch 029: | Train Loss: 1.00834 | Val Loss: 1.00369 | Train Acc: 34.339| Val Acc: 47.789\n",
            "Epoch 030: | Train Loss: 1.00764 | Val Loss: 1.00390 | Train Acc: 33.745| Val Acc: 48.972\n",
            "Epoch 031: | Train Loss: 1.00645 | Val Loss: 0.99197 | Train Acc: 34.374| Val Acc: 49.810\n",
            "Epoch 032: | Train Loss: 1.00553 | Val Loss: 0.99494 | Train Acc: 34.753| Val Acc: 49.088\n",
            "Epoch 033: | Train Loss: 1.00644 | Val Loss: 1.00127 | Train Acc: 34.645| Val Acc: 49.196\n",
            "Epoch 034: | Train Loss: 1.00566 | Val Loss: 1.00294 | Train Acc: 35.030| Val Acc: 48.667\n",
            "Epoch 035: | Train Loss: 1.00610 | Val Loss: 0.99675 | Train Acc: 34.485| Val Acc: 48.972\n",
            "Epoch 036: | Train Loss: 1.00540 | Val Loss: 0.99801 | Train Acc: 35.110| Val Acc: 48.783\n",
            "Epoch 037: | Train Loss: 1.00534 | Val Loss: 1.00052 | Train Acc: 35.022| Val Acc: 48.161\n",
            "Epoch 038: | Train Loss: 1.00598 | Val Loss: 0.98868 | Train Acc: 34.771| Val Acc: 50.372\n",
            "Epoch 039: | Train Loss: 1.00413 | Val Loss: 1.00214 | Train Acc: 34.871| Val Acc: 48.807\n",
            "Epoch 040: | Train Loss: 1.00452 | Val Loss: 0.99923 | Train Acc: 34.985| Val Acc: 48.557\n",
            "Epoch 041: | Train Loss: 1.00588 | Val Loss: 1.00597 | Train Acc: 34.925| Val Acc: 47.423\n",
            "Epoch 042: | Train Loss: 1.00438 | Val Loss: 0.99437 | Train Acc: 34.831| Val Acc: 48.863\n",
            "Epoch 043: | Train Loss: 1.00397 | Val Loss: 1.00123 | Train Acc: 35.533| Val Acc: 48.488\n",
            "Epoch 044: | Train Loss: 1.00369 | Val Loss: 0.99263 | Train Acc: 35.265| Val Acc: 49.931\n",
            "Epoch 045: | Train Loss: 1.00369 | Val Loss: 0.99838 | Train Acc: 35.033| Val Acc: 49.084\n",
            "Epoch 046: | Train Loss: 1.00409 | Val Loss: 0.99602 | Train Acc: 34.979| Val Acc: 49.081\n",
            "Epoch 047: | Train Loss: 1.00320 | Val Loss: 0.98261 | Train Acc: 35.807| Val Acc: 50.498\n",
            "Epoch 048: | Train Loss: 1.00282 | Val Loss: 1.00597 | Train Acc: 35.276| Val Acc: 47.801\n",
            "Epoch 049: | Train Loss: 1.00292 | Val Loss: 1.00505 | Train Acc: 35.487| Val Acc: 47.800\n",
            "Epoch 050: | Train Loss: 1.00361 | Val Loss: 1.00429 | Train Acc: 35.196| Val Acc: 49.115\n",
            "Epoch 051: | Train Loss: 1.00214 | Val Loss: 0.99621 | Train Acc: 35.870| Val Acc: 49.463\n",
            "Epoch 052: | Train Loss: 1.00313 | Val Loss: 0.99639 | Train Acc: 34.902| Val Acc: 49.876\n",
            "Epoch 053: | Train Loss: 1.00269 | Val Loss: 0.99137 | Train Acc: 35.364| Val Acc: 50.173\n",
            "Epoch 054: | Train Loss: 1.00221 | Val Loss: 1.00103 | Train Acc: 35.624| Val Acc: 48.214\n",
            "Epoch 055: | Train Loss: 1.00370 | Val Loss: 0.99209 | Train Acc: 34.788| Val Acc: 49.946\n",
            "Epoch 056: | Train Loss: 1.00322 | Val Loss: 1.00027 | Train Acc: 35.199| Val Acc: 48.781\n",
            "Epoch 057: | Train Loss: 1.00264 | Val Loss: 1.00137 | Train Acc: 35.473| Val Acc: 49.193\n",
            "Epoch 058: | Train Loss: 1.00281 | Val Loss: 0.99124 | Train Acc: 35.790| Val Acc: 50.130\n",
            "Epoch 059: | Train Loss: 1.00208 | Val Loss: 0.99325 | Train Acc: 35.647| Val Acc: 48.674\n",
            "Epoch 060: | Train Loss: 1.00296 | Val Loss: 1.00145 | Train Acc: 35.910| Val Acc: 48.461\n",
            "Epoch 061: | Train Loss: 1.00211 | Val Loss: 1.00005 | Train Acc: 35.527| Val Acc: 47.856\n",
            "Epoch 062: | Train Loss: 1.00249 | Val Loss: 0.99252 | Train Acc: 35.262| Val Acc: 49.404\n",
            "Epoch 063: | Train Loss: 1.00233 | Val Loss: 0.99210 | Train Acc: 35.607| Val Acc: 49.152\n",
            "Epoch 064: | Train Loss: 1.00152 | Val Loss: 0.99731 | Train Acc: 35.619| Val Acc: 48.912\n",
            "\n"
          ],
          "name": "stdout"
        }
      ]
    },
    {
      "cell_type": "code",
      "metadata": {
        "id": "OE0fQ6eyBjnV",
        "colab_type": "code",
        "colab": {
          "base_uri": "https://localhost:8080/",
          "height": 475
        },
        "outputId": "aa6ed4bc-e615-411e-a966-efd6bc90d098"
      },
      "source": [
        "# Create dataframes\n",
        "train_val_acc_df = pd.DataFrame.from_dict(accuracy_stats).reset_index().melt(id_vars=['index']).rename(columns={\"index\":\"epochs\"})\n",
        "train_val_loss_df = pd.DataFrame.from_dict(loss_stats).reset_index().melt(id_vars=['index']).rename(columns={\"index\":\"epochs\"})\n",
        "# Plot the dataframes\n",
        "fig, axes = plt.subplots(nrows=1, ncols=2, figsize=(20,7))\n",
        "sns.lineplot(data=train_val_acc_df, x = \"epochs\", y=\"value\", hue=\"variable\",  ax=axes[0]).set_title('Train-Val Accuracy/Epoch')\n",
        "sns.lineplot(data=train_val_loss_df, x = \"epochs\", y=\"value\", hue=\"variable\", ax=axes[1]).set_title('Train-Val Loss/Epoch')"
      ],
      "execution_count": 47,
      "outputs": [
        {
          "output_type": "execute_result",
          "data": {
            "text/plain": [
              "Text(0.5, 1.0, 'Train-Val Loss/Epoch')"
            ]
          },
          "metadata": {
            "tags": []
          },
          "execution_count": 47
        },
        {
          "output_type": "display_data",
          "data": {
            "image/png": "[encoded data removed]",
            "text/plain": [
              "<Figure size 1440x504 with 2 Axes>"
            ]
          },
          "metadata": {
            "tags": [],
            "needs_background": "light"
          }
        }
      ]
    },
    {
      "cell_type": "code",
      "metadata": {
        "id": "-4up8E-YEDix",
        "colab_type": "code",
        "colab": {}
      },
      "source": [
        "y_pred_list = []\n",
        "with torch.no_grad():\n",
        "    model.eval()\n",
        "    for X_batch, _ in test_loader:\n",
        "        X_batch = X_batch.to(device)\n",
        "        y_test_pred = model(X_batch)\n",
        "        y_pred_softmax = torch.log_softmax(y_test_pred, dim = 1)\n",
        "        _, y_pred_tags = torch.max(y_pred_softmax, dim = 1)\n",
        "        y_pred_list.append(y_pred_tags.cpu().numpy())\n",
        "y_pred_list = [a.squeeze().tolist() for a in y_pred_list]\n"
      ],
      "execution_count": 51,
      "outputs": []
    },
    {
      "cell_type": "code",
      "metadata": {
        "id": "uzsoleWZEJZP",
        "colab_type": "code",
        "colab": {
          "base_uri": "https://localhost:8080/",
          "height": 282
        },
        "outputId": "03cfce7f-f046-43d3-fb3e-98f8fd8ee5cf"
      },
      "source": [
        "confusion_matrix_df = pd.DataFrame(confusion_matrix(y_test, y_pred_list))\n",
        "\n",
        "sns.heatmap(confusion_matrix_df, annot=True)"
      ],
      "execution_count": 53,
      "outputs": [
        {
          "output_type": "execute_result",
          "data": {
            "text/plain": [
              "<matplotlib.axes._subplots.AxesSubplot at 0x7f1b0bab8b00>"
            ]
          },
          "metadata": {
            "tags": []
          },
          "execution_count": 53
        },
        {
          "output_type": "display_data",
          "data": {
            "image/png": "[encoded data removed]",
            "text/plain": [
              "<Figure size 432x288 with 2 Axes>"
            ]
          },
          "metadata": {
            "tags": [],
            "needs_background": "light"
          }
        }
      ]
    },
    {
      "cell_type": "code",
      "metadata": {
        "id": "vgXGMKTkELv_",
        "colab_type": "code",
        "colab": {
          "base_uri": "https://localhost:8080/",
          "height": 185
        },
        "outputId": "eca03ba0-63cf-4195-b005-0d2d830a5ffd"
      },
      "source": [
        "print(classification_report(y_test, y_pred_list))"
      ],
      "execution_count": 52,
      "outputs": [
        {
          "output_type": "stream",
          "text": [
            "              precision    recall  f1-score   support\n",
            "\n",
            "           0       0.46      0.52      0.49    139417\n",
            "           1       0.51      0.36      0.43    185882\n",
            "           2       0.49      0.62      0.55    141640\n",
            "\n",
            "    accuracy                           0.49    466939\n",
            "   macro avg       0.49      0.50      0.49    466939\n",
            "weighted avg       0.49      0.49      0.48    466939\n",
            "\n"
          ],
          "name": "stdout"
        }
      ]
    }
  ]
}