{
  "nbformat": 4,
  "nbformat_minor": 0,
  "metadata": {
    "colab": {
      "name": "Pytorch_modeling_4.ipynb",
      "provenance": [],
      "collapsed_sections": [],
      "authorship_tag": "ABX9TyP0nVIQCPqiWuMVeIA8Cj34",
      "include_colab_link": true
    },
    "kernelspec": {
      "name": "python3",
      "display_name": "Python 3"
    },
    "accelerator": "GPU",
    "widgets": {
      "application/vnd.jupyter.widget-state+json": {
        "ea954b9ca933455e9220e42a2af38e72": {
          "model_module": "@jupyter-widgets/controls",
          "model_name": "HBoxModel",
          "state": {
            "_view_name": "HBoxView",
            "_dom_classes": [],
            "_model_name": "HBoxModel",
            "_view_module": "@jupyter-widgets/controls",
            "_model_module_version": "1.5.0",
            "_view_count": null,
            "_view_module_version": "1.5.0",
            "box_style": "",
            "layout": "IPY_MODEL_c8e59601958843db8be403d695b0145d",
            "_model_module": "@jupyter-widgets/controls",
            "children": [
              "IPY_MODEL_f9932ce5c3b8407e84d7c972dbf3e38b",
              "IPY_MODEL_2e78bfbd8fa54a318e66388a6ce37ebe"
            ]
          }
        },
        "c8e59601958843db8be403d695b0145d": {
          "model_module": "@jupyter-widgets/base",
          "model_name": "LayoutModel",
          "state": {
            "_view_name": "LayoutView",
            "grid_template_rows": null,
            "right": null,
            "justify_content": null,
            "_view_module": "@jupyter-widgets/base",
            "overflow": null,
            "_model_module_version": "1.2.0",
            "_view_count": null,
            "flex_flow": null,
            "width": null,
            "min_width": null,
            "border": null,
            "align_items": null,
            "bottom": null,
            "_model_module": "@jupyter-widgets/base",
            "top": null,
            "grid_column": null,
            "overflow_y": null,
            "overflow_x": null,
            "grid_auto_flow": null,
            "grid_area": null,
            "grid_template_columns": null,
            "flex": null,
            "_model_name": "LayoutModel",
            "justify_items": null,
            "grid_row": null,
            "max_height": null,
            "align_content": null,
            "visibility": null,
            "align_self": null,
            "height": null,
            "min_height": null,
            "padding": null,
            "grid_auto_rows": null,
            "grid_gap": null,
            "max_width": null,
            "order": null,
            "_view_module_version": "1.2.0",
            "grid_template_areas": null,
            "object_position": null,
            "object_fit": null,
            "grid_auto_columns": null,
            "margin": null,
            "display": null,
            "left": null
          }
        },
        "f9932ce5c3b8407e84d7c972dbf3e38b": {
          "model_module": "@jupyter-widgets/controls",
          "model_name": "FloatProgressModel",
          "state": {
            "_view_name": "ProgressView",
            "style": "IPY_MODEL_4ebe433bb32f46d7b33d7b82420672de",
            "_dom_classes": [],
            "description": "100%",
            "_model_name": "FloatProgressModel",
            "bar_style": "success",
            "max": 32,
            "_view_module": "@jupyter-widgets/controls",
            "_model_module_version": "1.5.0",
            "value": 32,
            "_view_count": null,
            "_view_module_version": "1.5.0",
            "orientation": "horizontal",
            "min": 0,
            "description_tooltip": null,
            "_model_module": "@jupyter-widgets/controls",
            "layout": "IPY_MODEL_690879a69268455988d2ca11d3bbbef1"
          }
        },
        "2e78bfbd8fa54a318e66388a6ce37ebe": {
          "model_module": "@jupyter-widgets/controls",
          "model_name": "HTMLModel",
          "state": {
            "_view_name": "HTMLView",
            "style": "IPY_MODEL_5e897a74272644f4af1deaac614c992e",
            "_dom_classes": [],
            "description": "",
            "_model_name": "HTMLModel",
            "placeholder": "​",
            "_view_module": "@jupyter-widgets/controls",
            "_model_module_version": "1.5.0",
            "value": " 32/32 [3:18:05&lt;00:00, 371.44s/it]",
            "_view_count": null,
            "_view_module_version": "1.5.0",
            "description_tooltip": null,
            "_model_module": "@jupyter-widgets/controls",
            "layout": "IPY_MODEL_ae8340f2c2734471a56cda766c9c8300"
          }
        },
        "4ebe433bb32f46d7b33d7b82420672de": {
          "model_module": "@jupyter-widgets/controls",
          "model_name": "ProgressStyleModel",
          "state": {
            "_view_name": "StyleView",
            "_model_name": "ProgressStyleModel",
            "description_width": "initial",
            "_view_module": "@jupyter-widgets/base",
            "_model_module_version": "1.5.0",
            "_view_count": null,
            "_view_module_version": "1.2.0",
            "bar_color": null,
            "_model_module": "@jupyter-widgets/controls"
          }
        },
        "690879a69268455988d2ca11d3bbbef1": {
          "model_module": "@jupyter-widgets/base",
          "model_name": "LayoutModel",
          "state": {
            "_view_name": "LayoutView",
            "grid_template_rows": null,
            "right": null,
            "justify_content": null,
            "_view_module": "@jupyter-widgets/base",
            "overflow": null,
            "_model_module_version": "1.2.0",
            "_view_count": null,
            "flex_flow": null,
            "width": null,
            "min_width": null,
            "border": null,
            "align_items": null,
            "bottom": null,
            "_model_module": "@jupyter-widgets/base",
            "top": null,
            "grid_column": null,
            "overflow_y": null,
            "overflow_x": null,
            "grid_auto_flow": null,
            "grid_area": null,
            "grid_template_columns": null,
            "flex": null,
            "_model_name": "LayoutModel",
            "justify_items": null,
            "grid_row": null,
            "max_height": null,
            "align_content": null,
            "visibility": null,
            "align_self": null,
            "height": null,
            "min_height": null,
            "padding": null,
            "grid_auto_rows": null,
            "grid_gap": null,
            "max_width": null,
            "order": null,
            "_view_module_version": "1.2.0",
            "grid_template_areas": null,
            "object_position": null,
            "object_fit": null,
            "grid_auto_columns": null,
            "margin": null,
            "display": null,
            "left": null
          }
        },
        "5e897a74272644f4af1deaac614c992e": {
          "model_module": "@jupyter-widgets/controls",
          "model_name": "DescriptionStyleModel",
          "state": {
            "_view_name": "StyleView",
            "_model_name": "DescriptionStyleModel",
            "description_width": "",
            "_view_module": "@jupyter-widgets/base",
            "_model_module_version": "1.5.0",
            "_view_count": null,
            "_view_module_version": "1.2.0",
            "_model_module": "@jupyter-widgets/controls"
          }
        },
        "ae8340f2c2734471a56cda766c9c8300": {
          "model_module": "@jupyter-widgets/base",
          "model_name": "LayoutModel",
          "state": {
            "_view_name": "LayoutView",
            "grid_template_rows": null,
            "right": null,
            "justify_content": null,
            "_view_module": "@jupyter-widgets/base",
            "overflow": null,
            "_model_module_version": "1.2.0",
            "_view_count": null,
            "flex_flow": null,
            "width": null,
            "min_width": null,
            "border": null,
            "align_items": null,
            "bottom": null,
            "_model_module": "@jupyter-widgets/base",
            "top": null,
            "grid_column": null,
            "overflow_y": null,
            "overflow_x": null,
            "grid_auto_flow": null,
            "grid_area": null,
            "grid_template_columns": null,
            "flex": null,
            "_model_name": "LayoutModel",
            "justify_items": null,
            "grid_row": null,
            "max_height": null,
            "align_content": null,
            "visibility": null,
            "align_self": null,
            "height": null,
            "min_height": null,
            "padding": null,
            "grid_auto_rows": null,
            "grid_gap": null,
            "max_width": null,
            "order": null,
            "_view_module_version": "1.2.0",
            "grid_template_areas": null,
            "object_position": null,
            "object_fit": null,
            "grid_auto_columns": null,
            "margin": null,
            "display": null,
            "left": null
          }
        }
      }
    }
  },
  "cells": [
    {
      "cell_type": "markdown",
      "metadata": {
        "id": "view-in-github",
        "colab_type": "text"
      },
      "source": [
        "<a href=\"https://colab.research.google.com/github/vimita/Predictive_Modeling-Deep-Learning-/blob/master/Pytorch_modeling_4.ipynb\" target=\"_parent\"><img src=\"https://colab.research.google.com/assets/colab-badge.svg\" alt=\"Open In Colab\"/></a>"
      ]
    },
    {
      "cell_type": "code",
      "metadata": {
        "id": "p-kLExJM92t2",
        "colab_type": "code",
        "colab": {
          "base_uri": "https://localhost:8080/",
          "height": 121
        },
        "outputId": "557144df-0cda-4f04-cc7a-b5fdd83e9c86"
      },
      "source": [
        "from google.colab import drive \n",
        "drive.mount('/content/my-drive')\n"
      ],
      "execution_count": 1,
      "outputs": [
        {
          "output_type": "stream",
          "text": [
            "Go to this URL in a browser: https://accounts.google.com/o/oauth2/auth?client_id=947318989803-6bn6qk8qdgf4n4g3pfee6491hc0brc4i.apps.googleusercontent.com&redirect_uri=urn%3aietf%3awg%3aoauth%3a2.0%3aoob&response_type=code&scope=email%20https%3a%2f%2fwww.googleapis.com%2fauth%2fdocs.test%20https%3a%2f%2fwww.googleapis.com%2fauth%2fdrive%20https%3a%2f%2fwww.googleapis.com%2fauth%2fdrive.photos.readonly%20https%3a%2f%2fwww.googleapis.com%2fauth%2fpeopleapi.readonly\n",
            "\n",
            "Enter your authorization code:\n",
            "··········\n",
            "Mounted at /content/my-drive\n"
          ],
          "name": "stdout"
        }
      ]
    },
    {
      "cell_type": "code",
      "metadata": {
        "id": "RQ1ob7-N-SZk",
        "colab_type": "code",
        "colab": {
          "base_uri": "https://localhost:8080/",
          "height": 70
        },
        "outputId": "5b482376-5a27-4016-9180-2ae7055852b6"
      },
      "source": [
        "import numpy as np\n",
        "import pandas as pd\n",
        "import seaborn as sns\n",
        "from tqdm.notebook import tqdm\n",
        "import matplotlib.pyplot as plt\n",
        "\n",
        "import torch\n",
        "import torch.nn as nn\n",
        "import torch.optim as optim\n",
        "from torch.utils.data import Dataset, DataLoader, WeightedRandomSampler\n",
        "\n",
        "from sklearn.preprocessing import MinMaxScaler    \n",
        "from sklearn.model_selection import train_test_split\n",
        "from sklearn.metrics import confusion_matrix, classification_report"
      ],
      "execution_count": 2,
      "outputs": [
        {
          "output_type": "stream",
          "text": [
            "/usr/local/lib/python3.6/dist-packages/statsmodels/tools/_testing.py:19: FutureWarning: pandas.util.testing is deprecated. Use the functions in the public API at pandas.testing instead.\n",
            "  import pandas.util.testing as tm\n"
          ],
          "name": "stderr"
        }
      ]
    },
    {
      "cell_type": "code",
      "metadata": {
        "id": "3wh2llU--T5m",
        "colab_type": "code",
        "colab": {}
      },
      "source": [
        "nz_crime_data=pd.read_csv('my-drive/My Drive/Deep Learning(Predictive Policing)/nz_crime_dataset_v3.csv', encoding='utf-8-sig')"
      ],
      "execution_count": 3,
      "outputs": []
    },
    {
      "cell_type": "code",
      "metadata": {
        "id": "ThEqZqRQ-uk4",
        "colab_type": "code",
        "colab": {
          "base_uri": "https://localhost:8080/",
          "height": 403
        },
        "outputId": "0588b1d1-93a2-48da-cba6-9a649385d8ab"
      },
      "source": [
        "# Count total NaN at each column in DataFrame\n",
        "print(nz_crime_data.isnull().sum())\n",
        "\n",
        "# Count all NaN in a DataFrame (both columns & Rows)\n",
        "print(nz_crime_data.isnull().sum().sum())\n",
        "\n",
        "# erase every row (axis=0) that has \"any\" Null value in it.\n",
        "nz_crime_data = nz_crime_data.dropna(how='any',axis=0)"
      ],
      "execution_count": 4,
      "outputs": [
        {
          "output_type": "stream",
          "text": [
            "YEAR                           0\n",
            "MONTH                          0\n",
            "QUARTER                        0\n",
            "DAY_OF_WEEK                    0\n",
            "DAY                            0\n",
            "HOUR                           0\n",
            "HOUR_PARTITION                 0\n",
            "MESHBLOCK                      0\n",
            "AREA_0                         0\n",
            "AREA_1                         0\n",
            "WEAPON_TYPE                    0\n",
            "CRIME_TYPE                     0\n",
            "3_DAY_AREA_CRIME_MEAN          0\n",
            "DAY_AREA_CRIME_COUNT           0\n",
            "MONTH_AREA_CRIME_TYPE_COUNT    0\n",
            "MONTH_AREA_CRIME_COUNT         0\n",
            "DAY_AREA_CRIME_RATIO           0\n",
            "MONTH_AREA_CRIME_RATIO         0\n",
            "CRIME_RATIO                    0\n",
            "CRIME_RANK                     0\n",
            "RISK                           0\n",
            "dtype: int64\n",
            "0\n"
          ],
          "name": "stdout"
        }
      ]
    },
    {
      "cell_type": "code",
      "metadata": {
        "id": "TKEnn5lcXuBH",
        "colab_type": "code",
        "colab": {
          "base_uri": "https://localhost:8080/",
          "height": 383
        },
        "outputId": "e542f049-b8df-48d3-a021-823e85f2b8ee"
      },
      "source": [
        "nz_crime_data.head(5)"
      ],
      "execution_count": 5,
      "outputs": [
        {
          "output_type": "execute_result",
          "data": {
            "text/html": [
              "<div>\n",
              "<style scoped>\n",
              "    .dataframe tbody tr th:only-of-type {\n",
              "        vertical-align: middle;\n",
              "    }\n",
              "\n",
              "    .dataframe tbody tr th {\n",
              "        vertical-align: top;\n",
              "    }\n",
              "\n",
              "    .dataframe thead th {\n",
              "        text-align: right;\n",
              "    }\n",
              "</style>\n",
              "<table border=\"1\" class=\"dataframe\">\n",
              "  <thead>\n",
              "    <tr style=\"text-align: right;\">\n",
              "      <th></th>\n",
              "      <th>YEAR</th>\n",
              "      <th>MONTH</th>\n",
              "      <th>QUARTER</th>\n",
              "      <th>DAY_OF_WEEK</th>\n",
              "      <th>DAY</th>\n",
              "      <th>HOUR</th>\n",
              "      <th>HOUR_PARTITION</th>\n",
              "      <th>MESHBLOCK</th>\n",
              "      <th>AREA_0</th>\n",
              "      <th>AREA_1</th>\n",
              "      <th>WEAPON_TYPE</th>\n",
              "      <th>CRIME_TYPE</th>\n",
              "      <th>3_DAY_AREA_CRIME_MEAN</th>\n",
              "      <th>DAY_AREA_CRIME_COUNT</th>\n",
              "      <th>MONTH_AREA_CRIME_TYPE_COUNT</th>\n",
              "      <th>MONTH_AREA_CRIME_COUNT</th>\n",
              "      <th>DAY_AREA_CRIME_RATIO</th>\n",
              "      <th>MONTH_AREA_CRIME_RATIO</th>\n",
              "      <th>CRIME_RATIO</th>\n",
              "      <th>CRIME_RANK</th>\n",
              "      <th>RISK</th>\n",
              "    </tr>\n",
              "  </thead>\n",
              "  <tbody>\n",
              "    <tr>\n",
              "      <th>0</th>\n",
              "      <td>2014</td>\n",
              "      <td>7</td>\n",
              "      <td>3.0</td>\n",
              "      <td>Wednesday</td>\n",
              "      <td>3.0</td>\n",
              "      <td>22.000000</td>\n",
              "      <td>21.0</td>\n",
              "      <td>1190602</td>\n",
              "      <td>Bethlehem.</td>\n",
              "      <td>Tauranga City.</td>\n",
              "      <td>0</td>\n",
              "      <td>Theft and Related Offences</td>\n",
              "      <td>4.705636</td>\n",
              "      <td>4</td>\n",
              "      <td>202</td>\n",
              "      <td>321</td>\n",
              "      <td>0.012461</td>\n",
              "      <td>0.629283</td>\n",
              "      <td>0.007842</td>\n",
              "      <td>0.746548</td>\n",
              "      <td>2.0</td>\n",
              "    </tr>\n",
              "    <tr>\n",
              "      <th>1</th>\n",
              "      <td>2014</td>\n",
              "      <td>7</td>\n",
              "      <td>3.0</td>\n",
              "      <td>Wednesday</td>\n",
              "      <td>3.0</td>\n",
              "      <td>8.000000</td>\n",
              "      <td>6.0</td>\n",
              "      <td>1191100</td>\n",
              "      <td>Bethlehem.</td>\n",
              "      <td>Tauranga City.</td>\n",
              "      <td>0</td>\n",
              "      <td>Theft and Related Offences</td>\n",
              "      <td>4.705636</td>\n",
              "      <td>4</td>\n",
              "      <td>202</td>\n",
              "      <td>321</td>\n",
              "      <td>0.012461</td>\n",
              "      <td>0.629283</td>\n",
              "      <td>0.007842</td>\n",
              "      <td>0.746548</td>\n",
              "      <td>2.0</td>\n",
              "    </tr>\n",
              "    <tr>\n",
              "      <th>2</th>\n",
              "      <td>2014</td>\n",
              "      <td>7</td>\n",
              "      <td>3.0</td>\n",
              "      <td>Wednesday</td>\n",
              "      <td>3.0</td>\n",
              "      <td>14.000000</td>\n",
              "      <td>12.0</td>\n",
              "      <td>1191100</td>\n",
              "      <td>Bethlehem.</td>\n",
              "      <td>Tauranga City.</td>\n",
              "      <td>0</td>\n",
              "      <td>Theft and Related Offences</td>\n",
              "      <td>4.705636</td>\n",
              "      <td>4</td>\n",
              "      <td>202</td>\n",
              "      <td>321</td>\n",
              "      <td>0.012461</td>\n",
              "      <td>0.629283</td>\n",
              "      <td>0.007842</td>\n",
              "      <td>0.746548</td>\n",
              "      <td>2.0</td>\n",
              "    </tr>\n",
              "    <tr>\n",
              "      <th>3</th>\n",
              "      <td>2014</td>\n",
              "      <td>7</td>\n",
              "      <td>3.0</td>\n",
              "      <td>Wednesday</td>\n",
              "      <td>3.0</td>\n",
              "      <td>20.000000</td>\n",
              "      <td>18.0</td>\n",
              "      <td>1191206</td>\n",
              "      <td>Bethlehem.</td>\n",
              "      <td>Tauranga City.</td>\n",
              "      <td>0</td>\n",
              "      <td>Theft and Related Offences</td>\n",
              "      <td>4.705636</td>\n",
              "      <td>4</td>\n",
              "      <td>202</td>\n",
              "      <td>321</td>\n",
              "      <td>0.012461</td>\n",
              "      <td>0.629283</td>\n",
              "      <td>0.007842</td>\n",
              "      <td>0.746548</td>\n",
              "      <td>2.0</td>\n",
              "    </tr>\n",
              "    <tr>\n",
              "      <th>4</th>\n",
              "      <td>2014</td>\n",
              "      <td>7</td>\n",
              "      <td>3.0</td>\n",
              "      <td>Friday</td>\n",
              "      <td>5.0</td>\n",
              "      <td>14.006892</td>\n",
              "      <td>12.0</td>\n",
              "      <td>1167104</td>\n",
              "      <td>Tauranga South.</td>\n",
              "      <td>Tauranga City.</td>\n",
              "      <td>0</td>\n",
              "      <td>Theft and Related Offences</td>\n",
              "      <td>2.000000</td>\n",
              "      <td>4</td>\n",
              "      <td>202</td>\n",
              "      <td>321</td>\n",
              "      <td>0.012461</td>\n",
              "      <td>0.629283</td>\n",
              "      <td>0.007842</td>\n",
              "      <td>0.746548</td>\n",
              "      <td>2.0</td>\n",
              "    </tr>\n",
              "  </tbody>\n",
              "</table>\n",
              "</div>"
            ],
            "text/plain": [
              "   YEAR  MONTH  QUARTER  ... CRIME_RATIO  CRIME_RANK  RISK\n",
              "0  2014      7      3.0  ...    0.007842    0.746548   2.0\n",
              "1  2014      7      3.0  ...    0.007842    0.746548   2.0\n",
              "2  2014      7      3.0  ...    0.007842    0.746548   2.0\n",
              "3  2014      7      3.0  ...    0.007842    0.746548   2.0\n",
              "4  2014      7      3.0  ...    0.007842    0.746548   2.0\n",
              "\n",
              "[5 rows x 21 columns]"
            ]
          },
          "metadata": {
            "tags": []
          },
          "execution_count": 5
        }
      ]
    },
    {
      "cell_type": "code",
      "metadata": {
        "id": "AfndflZtXgxK",
        "colab_type": "code",
        "colab": {
          "base_uri": "https://localhost:8080/",
          "height": 296
        },
        "outputId": "4c67f31b-32d9-47ce-d275-30665ab40402"
      },
      "source": [
        "sns.countplot(x ='RISK', data=nz_crime_data)"
      ],
      "execution_count": 6,
      "outputs": [
        {
          "output_type": "execute_result",
          "data": {
            "text/plain": [
              "<matplotlib.axes._subplots.AxesSubplot at 0x7f3ce29f5710>"
            ]
          },
          "metadata": {
            "tags": []
          },
          "execution_count": 6
        },
        {
          "output_type": "display_data",
          "data": {
            "image/png": "[encoded data removed]",
            "text/plain": [
              "<Figure size 432x288 with 1 Axes>"
            ]
          },
          "metadata": {
            "tags": [],
            "needs_background": "light"
          }
        }
      ]
    },
    {
      "cell_type": "code",
      "metadata": {
        "id": "nhpZhhEP-957",
        "colab_type": "code",
        "colab": {}
      },
      "source": [
        "feature_var = ['3_DAY_AREA_CRIME_MEAN', 'MONTH', 'DAY', 'QUARTER', 'HOUR_PARTITION', 'AREA_0', 'AREA_1', 'WEAPON_TYPE', 'CRIME_TYPE']\n",
        "response_var = 'RISK'\n",
        "\n",
        "X = nz_crime_data[feature_var]\n",
        "y = nz_crime_data.pop(response_var)\n",
        "\n"
      ],
      "execution_count": 7,
      "outputs": []
    },
    {
      "cell_type": "code",
      "metadata": {
        "id": "9dzJVh1r_9Bf",
        "colab_type": "code",
        "colab": {}
      },
      "source": [
        "# Encode categorical variables\n",
        "from sklearn.preprocessing import OrdinalEncoder\n",
        "oe = OrdinalEncoder()\n",
        "oe.fit(X)\n",
        "X = oe.transform(X)\n",
        "\n",
        "from sklearn.preprocessing import LabelEncoder\n",
        "le = LabelEncoder()\n",
        "le.fit(y)\n",
        "y = le.transform(y)"
      ],
      "execution_count": 8,
      "outputs": []
    },
    {
      "cell_type": "code",
      "metadata": {
        "id": "zTuGrM4j_NDd",
        "colab_type": "code",
        "colab": {}
      },
      "source": [
        "# Split into train+val and test\n",
        "X_trainval, X_test, y_trainval, y_test = train_test_split(X, y, test_size=0.4, stratify=y, random_state=69)\n",
        "\n",
        "# Split train into train-val\n",
        "X_train, X_val, y_train, y_val = train_test_split(X_trainval, y_trainval, test_size=0.2, stratify=y_trainval, random_state=21)"
      ],
      "execution_count": 9,
      "outputs": []
    },
    {
      "cell_type": "code",
      "metadata": {
        "id": "ZLD1Nrc-_1pQ",
        "colab_type": "code",
        "colab": {}
      },
      "source": [
        "scaler = MinMaxScaler()\n",
        "X_train = scaler.fit_transform(X_train)\n",
        "X_val = scaler.transform(X_val)\n",
        "X_test = scaler.transform(X_test)\n",
        "X_train, y_train = np.array(X_train), np.array(y_train)\n",
        "X_val, y_val = np.array(X_val), np.array(y_val)\n",
        "X_test, y_test = np.array(X_test), np.array(y_test)"
      ],
      "execution_count": 10,
      "outputs": []
    },
    {
      "cell_type": "code",
      "metadata": {
        "id": "7QPa51F9YW3V",
        "colab_type": "code",
        "colab": {}
      },
      "source": [
        "def get_class_distribution(obj):\n",
        "    count_dict = {\n",
        "        \"rating_0\": 0,\n",
        "        \"rating_1\": 0,\n",
        "        \"rating_2\": 0,\n",
        "        \n",
        "    }\n",
        "    \n",
        "    for i in obj:\n",
        "        if i == 0: \n",
        "            count_dict['rating_0'] += 1\n",
        "        elif i == 1: \n",
        "            count_dict['rating_1'] += 1\n",
        "        elif i == 2: \n",
        "            count_dict['rating_2'] += 1        \n",
        "        else:\n",
        "            print(\"Check classes.\")\n",
        "            \n",
        "    return count_dict"
      ],
      "execution_count": 11,
      "outputs": []
    },
    {
      "cell_type": "code",
      "metadata": {
        "id": "nFBc_xewAfoK",
        "colab_type": "code",
        "colab": {}
      },
      "source": [
        "class ClassifierDataset(Dataset):\n",
        "    \n",
        "    def __init__(self, X_data, y_data):\n",
        "        self.X_data = X_data\n",
        "        self.y_data = y_data\n",
        "        \n",
        "    def __getitem__(self, index):\n",
        "        return self.X_data[index], self.y_data[index]\n",
        "        \n",
        "    def __len__ (self):\n",
        "        return len(self.X_data)\n",
        "\n",
        "\n",
        "train_dataset = ClassifierDataset(torch.from_numpy(X_train).float(), torch.from_numpy(y_train).long())\n",
        "val_dataset = ClassifierDataset(torch.from_numpy(X_val).float(), torch.from_numpy(y_val).long())\n",
        "test_dataset = ClassifierDataset(torch.from_numpy(X_test).float(), torch.from_numpy(y_test).long())"
      ],
      "execution_count": 12,
      "outputs": []
    },
    {
      "cell_type": "code",
      "metadata": {
        "id": "p4KruUynAjOL",
        "colab_type": "code",
        "colab": {}
      },
      "source": [
        "target_list = []\n",
        "for _, t in train_dataset:\n",
        "    target_list.append(t)\n",
        "    \n",
        "target_list = torch.tensor(target_list)\n",
        "target_list = target_list[torch.randperm(len(target_list))]"
      ],
      "execution_count": 13,
      "outputs": []
    },
    {
      "cell_type": "code",
      "metadata": {
        "id": "6Jhc-2u0Ap1F",
        "colab_type": "code",
        "colab": {
          "base_uri": "https://localhost:8080/",
          "height": 34
        },
        "outputId": "c1730a40-9ac6-487e-af7d-d67a24f4d1fc"
      },
      "source": [
        "class_count = [i for i in get_class_distribution(y_train).values()]\n",
        "class_weights = 1./torch.tensor(class_count, dtype=torch.float) \n",
        "print(class_weights)"
      ],
      "execution_count": 14,
      "outputs": [
        {
          "output_type": "stream",
          "text": [
            "tensor([5.9754e-06, 4.4728e-06, 5.9672e-06])\n"
          ],
          "name": "stdout"
        }
      ]
    },
    {
      "cell_type": "code",
      "metadata": {
        "id": "rnLtqFSiAt0I",
        "colab_type": "code",
        "colab": {}
      },
      "source": [
        "class_weights_all = class_weights[target_list]"
      ],
      "execution_count": 15,
      "outputs": []
    },
    {
      "cell_type": "code",
      "metadata": {
        "id": "wmQt0PTRAw1V",
        "colab_type": "code",
        "colab": {}
      },
      "source": [
        "weighted_sampler = WeightedRandomSampler(\n",
        "    weights=class_weights_all,\n",
        "    num_samples=len(class_weights_all),\n",
        "    replacement=True\n",
        ")"
      ],
      "execution_count": 16,
      "outputs": []
    },
    {
      "cell_type": "code",
      "metadata": {
        "id": "c9yk_EZkAzQU",
        "colab_type": "code",
        "colab": {}
      },
      "source": [
        "EPOCHS = 32\n",
        "BATCH_SIZE = 16\n",
        "LEARNING_RATE = 0.001\n",
        "NUM_FEATURES = 9\n",
        "NUM_CLASSES = 3"
      ],
      "execution_count": 17,
      "outputs": []
    },
    {
      "cell_type": "code",
      "metadata": {
        "id": "Z79na5dlBIgI",
        "colab_type": "code",
        "colab": {}
      },
      "source": [
        "train_loader = DataLoader(dataset=train_dataset,\n",
        "                          batch_size=BATCH_SIZE,\n",
        "                          sampler=weighted_sampler\n",
        ")\n",
        "val_loader = DataLoader(dataset=val_dataset, batch_size=1)\n",
        "test_loader = DataLoader(dataset=test_dataset, batch_size=1)"
      ],
      "execution_count": 18,
      "outputs": []
    },
    {
      "cell_type": "code",
      "metadata": {
        "id": "EfYxq5yFBLI1",
        "colab_type": "code",
        "colab": {}
      },
      "source": [
        "class MulticlassClassification(nn.Module):\n",
        "    def __init__(self, num_feature, num_class):\n",
        "        super(MulticlassClassification, self).__init__()\n",
        "        \n",
        "        self.layer_1 = nn.Linear(num_feature, 512)\n",
        "        self.layer_2 = nn.Linear(512, 128)\n",
        "        self.layer_3 = nn.Linear(128, 64)\n",
        "        self.layer_out = nn.Linear(64, num_class) \n",
        "        \n",
        "        self.relu = nn.ReLU()\n",
        "        self.dropout = nn.Dropout(p=0.2)\n",
        "        self.batchnorm1 = nn.BatchNorm1d(512)\n",
        "        self.batchnorm2 = nn.BatchNorm1d(128)\n",
        "        self.batchnorm3 = nn.BatchNorm1d(64)\n",
        "        \n",
        "    def forward(self, x):\n",
        "        x = self.layer_1(x)\n",
        "        x = self.batchnorm1(x)\n",
        "        x = self.relu(x)\n",
        "        \n",
        "        x = self.layer_2(x)\n",
        "        x = self.batchnorm2(x)\n",
        "        x = self.relu(x)\n",
        "        x = self.dropout(x)\n",
        "        \n",
        "        x = self.layer_3(x)\n",
        "        x = self.batchnorm3(x)\n",
        "        x = self.relu(x)\n",
        "        x = self.dropout(x)\n",
        "        \n",
        "        x = self.layer_out(x)\n",
        "        \n",
        "        return x"
      ],
      "execution_count": 19,
      "outputs": []
    },
    {
      "cell_type": "code",
      "metadata": {
        "id": "fvFA81b_BNp2",
        "colab_type": "code",
        "colab": {
          "base_uri": "https://localhost:8080/",
          "height": 34
        },
        "outputId": "3021b3b1-0a5d-44f3-f715-8ff224ceec38"
      },
      "source": [
        "device = torch.device(\"cuda:0\" if torch.cuda.is_available() else \"cpu\")\n",
        "print(device)"
      ],
      "execution_count": 20,
      "outputs": [
        {
          "output_type": "stream",
          "text": [
            "cpu\n"
          ],
          "name": "stdout"
        }
      ]
    },
    {
      "cell_type": "code",
      "metadata": {
        "id": "6W1b2QyWBTDT",
        "colab_type": "code",
        "colab": {
          "base_uri": "https://localhost:8080/",
          "height": 202
        },
        "outputId": "37301049-de30-4fe3-a611-aaba5ea26cf9"
      },
      "source": [
        "model = MulticlassClassification(num_feature = NUM_FEATURES, num_class=NUM_CLASSES)\n",
        "model.to(device)\n",
        "\n",
        "criterion = nn.CrossEntropyLoss(weight=class_weights.to(device))\n",
        "optimizer = optim.Adam(model.parameters(), lr=LEARNING_RATE)\n",
        "print(model)"
      ],
      "execution_count": 21,
      "outputs": [
        {
          "output_type": "stream",
          "text": [
            "MulticlassClassification(\n",
            "  (layer_1): Linear(in_features=9, out_features=512, bias=True)\n",
            "  (layer_2): Linear(in_features=512, out_features=128, bias=True)\n",
            "  (layer_3): Linear(in_features=128, out_features=64, bias=True)\n",
            "  (layer_out): Linear(in_features=64, out_features=3, bias=True)\n",
            "  (relu): ReLU()\n",
            "  (dropout): Dropout(p=0.2, inplace=False)\n",
            "  (batchnorm1): BatchNorm1d(512, eps=1e-05, momentum=0.1, affine=True, track_running_stats=True)\n",
            "  (batchnorm2): BatchNorm1d(128, eps=1e-05, momentum=0.1, affine=True, track_running_stats=True)\n",
            "  (batchnorm3): BatchNorm1d(64, eps=1e-05, momentum=0.1, affine=True, track_running_stats=True)\n",
            ")\n"
          ],
          "name": "stdout"
        }
      ]
    },
    {
      "cell_type": "code",
      "metadata": {
        "id": "JN8vNMvPBWRE",
        "colab_type": "code",
        "colab": {}
      },
      "source": [
        "def multi_acc(y_pred, y_test):\n",
        "    y_pred_softmax = torch.log_softmax(y_pred, dim = 1)\n",
        "    _, y_pred_tags = torch.max(y_pred_softmax, dim = 1)    \n",
        "    \n",
        "    correct_pred = (y_pred_tags == y_test).float()\n",
        "    acc = correct_pred.sum() / len(correct_pred)\n",
        "    \n",
        "    acc = torch.round(acc) * 100\n",
        "    \n",
        "    return acc"
      ],
      "execution_count": 22,
      "outputs": []
    },
    {
      "cell_type": "code",
      "metadata": {
        "id": "Ri8a2vyqBYgF",
        "colab_type": "code",
        "colab": {}
      },
      "source": [
        "accuracy_stats = {\n",
        "    'train': [],\n",
        "    \"val\": []\n",
        "}\n",
        "loss_stats = {\n",
        "    'train': [],\n",
        "    \"val\": []\n",
        "}"
      ],
      "execution_count": 23,
      "outputs": []
    },
    {
      "cell_type": "code",
      "metadata": {
        "id": "o6j2FpDWBb9n",
        "colab_type": "code",
        "colab": {
          "base_uri": "https://localhost:8080/",
          "height": 620,
          "referenced_widgets": [
            "ea954b9ca933455e9220e42a2af38e72",
            "c8e59601958843db8be403d695b0145d",
            "f9932ce5c3b8407e84d7c972dbf3e38b",
            "2e78bfbd8fa54a318e66388a6ce37ebe",
            "4ebe433bb32f46d7b33d7b82420672de",
            "690879a69268455988d2ca11d3bbbef1",
            "5e897a74272644f4af1deaac614c992e",
            "ae8340f2c2734471a56cda766c9c8300"
          ]
        },
        "outputId": "976d06a4-baa9-4b43-8523-1bb96348c171"
      },
      "source": [
        "print(\"Begin training.\")\n",
        "for e in tqdm(range(1, EPOCHS+1)):\n",
        "    \n",
        "    # TRAINING\n",
        "    train_epoch_loss = 0\n",
        "    train_epoch_acc = 0\n",
        "    model.train()\n",
        "    for X_train_batch, y_train_batch in train_loader:\n",
        "        X_train_batch, y_train_batch = X_train_batch.to(device), y_train_batch.to(device)\n",
        "        optimizer.zero_grad()\n",
        "        \n",
        "        y_train_pred = model(X_train_batch)\n",
        "        \n",
        "        train_loss = criterion(y_train_pred, y_train_batch)\n",
        "        train_acc = multi_acc(y_train_pred, y_train_batch)\n",
        "        \n",
        "        train_loss.backward()\n",
        "        optimizer.step()\n",
        "        \n",
        "        train_epoch_loss += train_loss.item()\n",
        "        train_epoch_acc += train_acc.item()\n",
        "        \n",
        "        \n",
        "    # VALIDATION    \n",
        "    with torch.no_grad():\n",
        "        \n",
        "        val_epoch_loss = 0\n",
        "        val_epoch_acc = 0\n",
        "        \n",
        "        model.eval()\n",
        "        for X_val_batch, y_val_batch in val_loader:\n",
        "            X_val_batch, y_val_batch = X_val_batch.to(device), y_val_batch.to(device)\n",
        "            \n",
        "            y_val_pred = model(X_val_batch)\n",
        "                        \n",
        "            val_loss = criterion(y_val_pred, y_val_batch)\n",
        "            val_acc = multi_acc(y_val_pred, y_val_batch)\n",
        "            \n",
        "            val_epoch_loss += val_loss.item()\n",
        "            val_epoch_acc += val_acc.item()\n",
        "        loss_stats['train'].append(train_epoch_loss/len(train_loader))\n",
        "        loss_stats['val'].append(val_epoch_loss/len(val_loader))\n",
        "        accuracy_stats['train'].append(train_epoch_acc/len(train_loader))\n",
        "        accuracy_stats['val'].append(val_epoch_acc/len(val_loader))\n",
        "                              \n",
        "    \n",
        "    print(f'Epoch {e+0:03}: | Train Loss: {train_epoch_loss/len(train_loader):.5f} | Val Loss: {val_epoch_loss/len(val_loader):.5f} | Train Acc: {train_epoch_acc/len(train_loader):.3f}| Val Acc: {val_epoch_acc/len(val_loader):.3f}')\n"
      ],
      "execution_count": 45,
      "outputs": [
        {
          "output_type": "stream",
          "text": [
            "Begin training.\n"
          ],
          "name": "stdout"
        },
        {
          "output_type": "display_data",
          "data": {
            "application/vnd.jupyter.widget-view+json": {
              "model_id": "ea954b9ca933455e9220e42a2af38e72",
              "version_minor": 0,
              "version_major": 2
            },
            "text/plain": [
              "HBox(children=(FloatProgress(value=0.0, max=32.0), HTML(value='')))"
            ]
          },
          "metadata": {
            "tags": []
          }
        },
        {
          "output_type": "stream",
          "text": [
            "Epoch 001: | Train Loss: 0.65746 | Val Loss: 0.63435 | Train Acc: 87.948| Val Acc: 70.011\n",
            "Epoch 002: | Train Loss: 0.62234 | Val Loss: 0.71718 | Train Acc: 90.598| Val Acc: 63.748\n",
            "Epoch 003: | Train Loss: 0.61216 | Val Loss: 0.70508 | Train Acc: 91.025| Val Acc: 63.402\n",
            "Epoch 004: | Train Loss: 0.60641 | Val Loss: 0.69357 | Train Acc: 91.486| Val Acc: 63.888\n",
            "Epoch 005: | Train Loss: 0.60413 | Val Loss: 10.63325 | Train Acc: 91.658| Val Acc: 40.420\n",
            "Epoch 006: | Train Loss: 0.59906 | Val Loss: 0.66465 | Train Acc: 91.747| Val Acc: 66.624\n",
            "Epoch 007: | Train Loss: 0.59549 | Val Loss: 0.69771 | Train Acc: 91.839| Val Acc: 63.301\n",
            "Epoch 008: | Train Loss: 0.59420 | Val Loss: 0.75799 | Train Acc: 92.154| Val Acc: 61.165\n",
            "Epoch 009: | Train Loss: 0.59204 | Val Loss: 0.68914 | Train Acc: 92.008| Val Acc: 65.401\n",
            "Epoch 010: | Train Loss: 0.59075 | Val Loss: 0.60090 | Train Acc: 92.128| Val Acc: 70.096\n",
            "Epoch 011: | Train Loss: 0.59010 | Val Loss: 0.81773 | Train Acc: 92.283| Val Acc: 58.356\n",
            "Epoch 012: | Train Loss: 0.58716 | Val Loss: 0.92209 | Train Acc: 92.251| Val Acc: 54.753\n",
            "Epoch 013: | Train Loss: 0.58741 | Val Loss: 0.69958 | Train Acc: 92.346| Val Acc: 65.093\n",
            "Epoch 014: | Train Loss: 0.58668 | Val Loss: 47.03346 | Train Acc: 92.646| Val Acc: 37.907\n",
            "Epoch 015: | Train Loss: 0.58386 | Val Loss: 0.72719 | Train Acc: 92.374| Val Acc: 62.210\n",
            "Epoch 016: | Train Loss: 0.58622 | Val Loss: 0.71923 | Train Acc: 92.583| Val Acc: 62.789\n",
            "Epoch 017: | Train Loss: 0.58260 | Val Loss: 0.79831 | Train Acc: 92.833| Val Acc: 59.448\n",
            "Epoch 018: | Train Loss: 0.58300 | Val Loss: 0.77796 | Train Acc: 92.629| Val Acc: 59.069\n",
            "Epoch 019: | Train Loss: 0.58232 | Val Loss: 0.73023 | Train Acc: 92.727| Val Acc: 61.790\n",
            "Epoch 020: | Train Loss: 0.58297 | Val Loss: 0.84540 | Train Acc: 92.810| Val Acc: 54.600\n",
            "Epoch 021: | Train Loss: 0.58128 | Val Loss: 0.74906 | Train Acc: 92.804| Val Acc: 62.574\n",
            "Epoch 022: | Train Loss: 0.58276 | Val Loss: 0.75642 | Train Acc: 92.715| Val Acc: 58.883\n",
            "Epoch 023: | Train Loss: 0.58230 | Val Loss: 0.72226 | Train Acc: 92.555| Val Acc: 63.609\n",
            "Epoch 024: | Train Loss: 0.58105 | Val Loss: 0.69525 | Train Acc: 92.898| Val Acc: 64.811\n",
            "Epoch 025: | Train Loss: 0.57812 | Val Loss: 0.70011 | Train Acc: 92.770| Val Acc: 64.785\n",
            "Epoch 026: | Train Loss: 0.57905 | Val Loss: 0.74212 | Train Acc: 93.010| Val Acc: 60.414\n",
            "Epoch 027: | Train Loss: 0.57983 | Val Loss: 0.74727 | Train Acc: 92.752| Val Acc: 62.562\n",
            "Epoch 028: | Train Loss: 0.57800 | Val Loss: 0.66975 | Train Acc: 93.067| Val Acc: 66.685\n",
            "Epoch 029: | Train Loss: 0.57720 | Val Loss: 0.72029 | Train Acc: 93.039| Val Acc: 63.337\n",
            "Epoch 030: | Train Loss: 0.57760 | Val Loss: 0.74820 | Train Acc: 93.022| Val Acc: 61.843\n",
            "Epoch 031: | Train Loss: 0.57860 | Val Loss: 0.85199 | Train Acc: 92.841| Val Acc: 57.073\n",
            "Epoch 032: | Train Loss: 0.57598 | Val Loss: 1.11496 | Train Acc: 92.987| Val Acc: 51.422\n",
            "\n"
          ],
          "name": "stdout"
        }
      ]
    },
    {
      "cell_type": "code",
      "metadata": {
        "id": "OE0fQ6eyBjnV",
        "colab_type": "code",
        "colab": {
          "base_uri": "https://localhost:8080/",
          "height": 475
        },
        "outputId": "036f0a4b-958d-461e-f56c-a1d8eab65bd6"
      },
      "source": [
        "# Create dataframes\n",
        "train_val_acc_df = pd.DataFrame.from_dict(accuracy_stats).reset_index().melt(id_vars=['index']).rename(columns={\"index\":\"epochs\"})\n",
        "train_val_loss_df = pd.DataFrame.from_dict(loss_stats).reset_index().melt(id_vars=['index']).rename(columns={\"index\":\"epochs\"})\n",
        "# Plot the dataframes\n",
        "fig, axes = plt.subplots(nrows=1, ncols=2, figsize=(20,7))\n",
        "sns.lineplot(data=train_val_acc_df, x = \"epochs\", y=\"value\", hue=\"variable\",  ax=axes[0]).set_title('Train-Val Accuracy/Epoch')\n",
        "sns.lineplot(data=train_val_loss_df, x = \"epochs\", y=\"value\", hue=\"variable\", ax=axes[1]).set_title('Train-Val Loss/Epoch')"
      ],
      "execution_count": 46,
      "outputs": [
        {
          "output_type": "execute_result",
          "data": {
            "text/plain": [
              "Text(0.5, 1.0, 'Train-Val Loss/Epoch')"
            ]
          },
          "metadata": {
            "tags": []
          },
          "execution_count": 46
        },
        {
          "output_type": "display_data",
          "data": {
            "image/png": "[encoded data removed]",
            "text/plain": [
              "<Figure size 1440x504 with 2 Axes>"
            ]
          },
          "metadata": {
            "tags": [],
            "needs_background": "light"
          }
        }
      ]
    },
    {
      "cell_type": "code",
      "metadata": {
        "id": "-4up8E-YEDix",
        "colab_type": "code",
        "colab": {}
      },
      "source": [
        "y_pred_list = []\n",
        "with torch.no_grad():\n",
        "    model.eval()\n",
        "    for X_batch, _ in test_loader:\n",
        "        X_batch = X_batch.to(device)\n",
        "        y_test_pred = model(X_batch)\n",
        "        y_pred_softmax = torch.log_softmax(y_test_pred, dim = 1)\n",
        "        _, y_pred_tags = torch.max(y_pred_softmax, dim = 1)\n",
        "        y_pred_list.append(y_pred_tags.cpu().numpy())\n",
        "y_pred_list = [a.squeeze().tolist() for a in y_pred_list]\n"
      ],
      "execution_count": 47,
      "outputs": []
    },
    {
      "cell_type": "code",
      "metadata": {
        "id": "uzsoleWZEJZP",
        "colab_type": "code",
        "colab": {}
      },
      "source": [
        "confusion_matrix_df = pd.DataFrame(confusion_matrix(y_test, y_pred_list))\n",
        "\n",
        "sns.heatmap(confusion_matrix_df, annot=True)"
      ],
      "execution_count": null,
      "outputs": []
    },
    {
      "cell_type": "code",
      "metadata": {
        "id": "vgXGMKTkELv_",
        "colab_type": "code",
        "colab": {}
      },
      "source": [
        "print(classification_report(y_test, y_pred_list))"
      ],
      "execution_count": null,
      "outputs": []
    }
  ]
}