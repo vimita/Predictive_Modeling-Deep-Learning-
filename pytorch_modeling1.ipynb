{
  "nbformat": 4,
  "nbformat_minor": 0,
  "metadata": {
    "colab": {
      "name": "pytorch_modeling1.ipynb",
      "provenance": [],
      "collapsed_sections": [],
      "authorship_tag": "ABX9TyPsUWE6S3+8iF6c7Cl8O4nk",
      "include_colab_link": true
    },
    "kernelspec": {
      "name": "python3",
      "display_name": "Python 3"
    }
  },
  "cells": [
    {
      "cell_type": "markdown",
      "metadata": {
        "id": "view-in-github",
        "colab_type": "text"
      },
      "source": [
        "<a href=\"https://colab.research.google.com/github/vimita/Predictive_Modeling-Deep-Learning-/blob/master/pytorch_modeling1.ipynb\" target=\"_parent\"><img src=\"https://colab.research.google.com/assets/colab-badge.svg\" alt=\"Open In Colab\"/></a>"
      ]
    },
    {
      "cell_type": "code",
      "metadata": {
        "id": "jTQcySE2aLMz",
        "colab_type": "code",
        "colab": {
          "base_uri": "https://localhost:8080/",
          "height": 121
        },
        "outputId": "73eb1632-00be-4e6e-a1c1-440e8ce7ea55"
      },
      "source": [
        "from google.colab import drive \n",
        "drive.mount('/content/my-drive')"
      ],
      "execution_count": 6,
      "outputs": [
        {
          "output_type": "stream",
          "text": [
            "Go to this URL in a browser: https://accounts.google.com/o/oauth2/auth?client_id=947318989803-6bn6qk8qdgf4n4g3pfee6491hc0brc4i.apps.googleusercontent.com&redirect_uri=urn%3aietf%3awg%3aoauth%3a2.0%3aoob&response_type=code&scope=email%20https%3a%2f%2fwww.googleapis.com%2fauth%2fdocs.test%20https%3a%2f%2fwww.googleapis.com%2fauth%2fdrive%20https%3a%2f%2fwww.googleapis.com%2fauth%2fdrive.photos.readonly%20https%3a%2f%2fwww.googleapis.com%2fauth%2fpeopleapi.readonly\n",
            "\n",
            "Enter your authorization code:\n",
            "··········\n",
            "Mounted at /content/my-drive\n"
          ],
          "name": "stdout"
        }
      ]
    },
    {
      "cell_type": "code",
      "metadata": {
        "id": "I-y_V7rqqEH3",
        "colab_type": "code",
        "colab": {}
      },
      "source": [
        "import torch\n",
        "import torch.nn as nn\n",
        "import numpy as np\n",
        "import pandas as pd\n",
        "import matplotlib.pyplot as plt\n",
        "import seaborn as sns\n",
        "%matplotlib inline"
      ],
      "execution_count": 7,
      "outputs": []
    },
    {
      "cell_type": "code",
      "metadata": {
        "id": "hYLLfj1watG4",
        "colab_type": "code",
        "colab": {}
      },
      "source": [
        "import pandas as pd \n",
        "nz_crime_data=pd.read_csv('my-drive/My Drive/Deep Learning(Predictive Policing)/nz_crime_dataset.csv', encoding='utf-8-sig')"
      ],
      "execution_count": 8,
      "outputs": []
    },
    {
      "cell_type": "code",
      "metadata": {
        "id": "ZG3tYFfOb_95",
        "colab_type": "code",
        "colab": {
          "base_uri": "https://localhost:8080/",
          "height": 687
        },
        "outputId": "2f109fc9-1989-4c25-a680-ace59a2af96e"
      },
      "source": [
        "nz_crime_data.info()\n",
        "nz_crime_data.describe()"
      ],
      "execution_count": 9,
      "outputs": [
        {
          "output_type": "stream",
          "text": [
            "<class 'pandas.core.frame.DataFrame'>\n",
            "RangeIndex: 1048575 entries, 0 to 1048574\n",
            "Data columns (total 17 columns):\n",
            " #   Column                 Non-Null Count    Dtype  \n",
            "---  ------                 --------------    -----  \n",
            " 0   DATE_NO_TIME           1048575 non-null  object \n",
            " 1   DATE_TIME              1048575 non-null  object \n",
            " 2   7_DAYS_CRIME           1048575 non-null  float64\n",
            " 3   1_MONTH_CRIME          1048575 non-null  float64\n",
            " 4   1_YEAR_CRIME           1048575 non-null  float64\n",
            " 5   TIME_SINCE_LAST_CRIME  1048575 non-null  float64\n",
            " 6   MONTH                  1048575 non-null  int64  \n",
            " 7   QUARTER                1048575 non-null  int64  \n",
            " 8   DAY_OF_WEEK            1048575 non-null  object \n",
            " 9   DAY                    1048575 non-null  int64  \n",
            " 10  HOUR                   1048575 non-null  float64\n",
            " 11  HOUR_PARTITION         1048575 non-null  int64  \n",
            " 12  MESHBLOCK              1048575 non-null  int64  \n",
            " 13  AREA_0                 1048575 non-null  object \n",
            " 14  AREA_1                 1048575 non-null  object \n",
            " 15  WEAPON_TYPE            1048575 non-null  int64  \n",
            " 16  CRIME_TYPE             1048575 non-null  object \n",
            "dtypes: float64(5), int64(6), object(6)\n",
            "memory usage: 136.0+ MB\n"
          ],
          "name": "stdout"
        },
        {
          "output_type": "execute_result",
          "data": {
            "text/html": [
              "<div>\n",
              "<style scoped>\n",
              "    .dataframe tbody tr th:only-of-type {\n",
              "        vertical-align: middle;\n",
              "    }\n",
              "\n",
              "    .dataframe tbody tr th {\n",
              "        vertical-align: top;\n",
              "    }\n",
              "\n",
              "    .dataframe thead th {\n",
              "        text-align: right;\n",
              "    }\n",
              "</style>\n",
              "<table border=\"1\" class=\"dataframe\">\n",
              "  <thead>\n",
              "    <tr style=\"text-align: right;\">\n",
              "      <th></th>\n",
              "      <th>7_DAYS_CRIME</th>\n",
              "      <th>1_MONTH_CRIME</th>\n",
              "      <th>1_YEAR_CRIME</th>\n",
              "      <th>TIME_SINCE_LAST_CRIME</th>\n",
              "      <th>MONTH</th>\n",
              "      <th>QUARTER</th>\n",
              "      <th>DAY</th>\n",
              "      <th>HOUR</th>\n",
              "      <th>HOUR_PARTITION</th>\n",
              "      <th>MESHBLOCK</th>\n",
              "      <th>WEAPON_TYPE</th>\n",
              "    </tr>\n",
              "  </thead>\n",
              "  <tbody>\n",
              "    <tr>\n",
              "      <th>count</th>\n",
              "      <td>1.048575e+06</td>\n",
              "      <td>1.048575e+06</td>\n",
              "      <td>1.048575e+06</td>\n",
              "      <td>1.048575e+06</td>\n",
              "      <td>1.048575e+06</td>\n",
              "      <td>1.048575e+06</td>\n",
              "      <td>1.048575e+06</td>\n",
              "      <td>1.048575e+06</td>\n",
              "      <td>1.048575e+06</td>\n",
              "      <td>1.048575e+06</td>\n",
              "      <td>1.048575e+06</td>\n",
              "    </tr>\n",
              "    <tr>\n",
              "      <th>mean</th>\n",
              "      <td>8.746608e+00</td>\n",
              "      <td>9.552179e+00</td>\n",
              "      <td>1.202949e+01</td>\n",
              "      <td>1.323947e-01</td>\n",
              "      <td>6.565765e+00</td>\n",
              "      <td>2.527687e+00</td>\n",
              "      <td>5.017298e+00</td>\n",
              "      <td>1.309222e+01</td>\n",
              "      <td>1.204526e+01</td>\n",
              "      <td>1.301130e+06</td>\n",
              "      <td>9.760866e-03</td>\n",
              "    </tr>\n",
              "    <tr>\n",
              "      <th>std</th>\n",
              "      <td>9.993918e-01</td>\n",
              "      <td>2.603248e-01</td>\n",
              "      <td>5.844355e-01</td>\n",
              "      <td>7.593980e+00</td>\n",
              "      <td>3.414083e+00</td>\n",
              "      <td>1.108513e+00</td>\n",
              "      <td>2.150842e+00</td>\n",
              "      <td>4.183857e+00</td>\n",
              "      <td>4.167451e+00</td>\n",
              "      <td>8.587112e+05</td>\n",
              "      <td>1.044471e-01</td>\n",
              "    </tr>\n",
              "    <tr>\n",
              "      <th>min</th>\n",
              "      <td>0.000000e+00</td>\n",
              "      <td>0.000000e+00</td>\n",
              "      <td>0.000000e+00</td>\n",
              "      <td>0.000000e+00</td>\n",
              "      <td>1.000000e+00</td>\n",
              "      <td>1.000000e+00</td>\n",
              "      <td>1.000000e+00</td>\n",
              "      <td>0.000000e+00</td>\n",
              "      <td>0.000000e+00</td>\n",
              "      <td>-1.461000e+03</td>\n",
              "      <td>0.000000e+00</td>\n",
              "    </tr>\n",
              "    <tr>\n",
              "      <th>25%</th>\n",
              "      <td>8.358901e+00</td>\n",
              "      <td>9.465603e+00</td>\n",
              "      <td>1.216261e+01</td>\n",
              "      <td>0.000000e+00</td>\n",
              "      <td>4.000000e+00</td>\n",
              "      <td>2.000000e+00</td>\n",
              "      <td>3.000000e+00</td>\n",
              "      <td>1.263709e+01</td>\n",
              "      <td>1.200000e+01</td>\n",
              "      <td>6.025040e+05</td>\n",
              "      <td>0.000000e+00</td>\n",
              "    </tr>\n",
              "    <tr>\n",
              "      <th>50%</th>\n",
              "      <td>9.053219e+00</td>\n",
              "      <td>9.599202e+00</td>\n",
              "      <td>1.221849e+01</td>\n",
              "      <td>0.000000e+00</td>\n",
              "      <td>7.000000e+00</td>\n",
              "      <td>3.000000e+00</td>\n",
              "      <td>6.000000e+00</td>\n",
              "      <td>1.317855e+01</td>\n",
              "      <td>1.200000e+01</td>\n",
              "      <td>1.165000e+06</td>\n",
              "      <td>0.000000e+00</td>\n",
              "    </tr>\n",
              "    <tr>\n",
              "      <th>75%</th>\n",
              "      <td>9.456653e+00</td>\n",
              "      <td>9.685021e+00</td>\n",
              "      <td>1.223691e+01</td>\n",
              "      <td>0.000000e+00</td>\n",
              "      <td>9.000000e+00</td>\n",
              "      <td>3.000000e+00</td>\n",
              "      <td>7.000000e+00</td>\n",
              "      <td>1.400000e+01</td>\n",
              "      <td>1.200000e+01</td>\n",
              "      <td>2.028400e+06</td>\n",
              "      <td>0.000000e+00</td>\n",
              "    </tr>\n",
              "    <tr>\n",
              "      <th>max</th>\n",
              "      <td>9.896614e+00</td>\n",
              "      <td>1.021002e+01</td>\n",
              "      <td>1.228038e+01</td>\n",
              "      <td>5.770000e+02</td>\n",
              "      <td>1.200000e+01</td>\n",
              "      <td>4.000000e+00</td>\n",
              "      <td>7.000000e+00</td>\n",
              "      <td>2.300000e+01</td>\n",
              "      <td>2.100000e+01</td>\n",
              "      <td>3.210003e+06</td>\n",
              "      <td>2.000000e+00</td>\n",
              "    </tr>\n",
              "  </tbody>\n",
              "</table>\n",
              "</div>"
            ],
            "text/plain": [
              "       7_DAYS_CRIME  1_MONTH_CRIME  ...     MESHBLOCK   WEAPON_TYPE\n",
              "count  1.048575e+06   1.048575e+06  ...  1.048575e+06  1.048575e+06\n",
              "mean   8.746608e+00   9.552179e+00  ...  1.301130e+06  9.760866e-03\n",
              "std    9.993918e-01   2.603248e-01  ...  8.587112e+05  1.044471e-01\n",
              "min    0.000000e+00   0.000000e+00  ... -1.461000e+03  0.000000e+00\n",
              "25%    8.358901e+00   9.465603e+00  ...  6.025040e+05  0.000000e+00\n",
              "50%    9.053219e+00   9.599202e+00  ...  1.165000e+06  0.000000e+00\n",
              "75%    9.456653e+00   9.685021e+00  ...  2.028400e+06  0.000000e+00\n",
              "max    9.896614e+00   1.021002e+01  ...  3.210003e+06  2.000000e+00\n",
              "\n",
              "[8 rows x 11 columns]"
            ]
          },
          "metadata": {
            "tags": []
          },
          "execution_count": 9
        }
      ]
    },
    {
      "cell_type": "code",
      "metadata": {
        "id": "jvE8YdUTcJ39",
        "colab_type": "code",
        "colab": {
          "base_uri": "https://localhost:8080/",
          "height": 336
        },
        "outputId": "e74843f2-8628-4173-ef4d-44d48022ec0c"
      },
      "source": [
        "# Count total NaN at each column in DataFrame\n",
        "print(nz_crime_data.isnull().sum())\n",
        "\n",
        "# Count all NaN in a DataFrame (both columns & Rows)\n",
        "print(nz_crime_data.isnull().sum().sum())\n",
        "\n",
        "# erase every row (axis=0) that has \"any\" Null value in it.\n",
        "nz_crime_data = nz_crime_data.dropna(how='any',axis=0)"
      ],
      "execution_count": 10,
      "outputs": [
        {
          "output_type": "stream",
          "text": [
            "DATE_NO_TIME             0\n",
            "DATE_TIME                0\n",
            "7_DAYS_CRIME             0\n",
            "1_MONTH_CRIME            0\n",
            "1_YEAR_CRIME             0\n",
            "TIME_SINCE_LAST_CRIME    0\n",
            "MONTH                    0\n",
            "QUARTER                  0\n",
            "DAY_OF_WEEK              0\n",
            "DAY                      0\n",
            "HOUR                     0\n",
            "HOUR_PARTITION           0\n",
            "MESHBLOCK                0\n",
            "AREA_0                   0\n",
            "AREA_1                   0\n",
            "WEAPON_TYPE              0\n",
            "CRIME_TYPE               0\n",
            "dtype: int64\n",
            "0\n"
          ],
          "name": "stdout"
        }
      ]
    },
    {
      "cell_type": "code",
      "metadata": {
        "id": "WjVqOh1gliG9",
        "colab_type": "code",
        "colab": {
          "base_uri": "https://localhost:8080/",
          "height": 319
        },
        "outputId": "5d70201a-8cfa-43b9-dfd7-39583144da17"
      },
      "source": [
        "nz_crime_data.dtypes"
      ],
      "execution_count": 11,
      "outputs": [
        {
          "output_type": "execute_result",
          "data": {
            "text/plain": [
              "DATE_NO_TIME              object\n",
              "DATE_TIME                 object\n",
              "7_DAYS_CRIME             float64\n",
              "1_MONTH_CRIME            float64\n",
              "1_YEAR_CRIME             float64\n",
              "TIME_SINCE_LAST_CRIME    float64\n",
              "MONTH                      int64\n",
              "QUARTER                    int64\n",
              "DAY_OF_WEEK               object\n",
              "DAY                        int64\n",
              "HOUR                     float64\n",
              "HOUR_PARTITION             int64\n",
              "MESHBLOCK                  int64\n",
              "AREA_0                    object\n",
              "AREA_1                    object\n",
              "WEAPON_TYPE                int64\n",
              "CRIME_TYPE                object\n",
              "dtype: object"
            ]
          },
          "metadata": {
            "tags": []
          },
          "execution_count": 11
        }
      ]
    },
    {
      "cell_type": "code",
      "metadata": {
        "id": "4wHI_AVTl44F",
        "colab_type": "code",
        "colab": {}
      },
      "source": [
        "categorical_columns = ['DATE_NO_TIME', 'DATE_TIME', 'DAY_OF_WEEK','AREA_0','AREA_1']"
      ],
      "execution_count": 12,
      "outputs": []
    },
    {
      "cell_type": "code",
      "metadata": {
        "id": "xSqwpEN7mG_q",
        "colab_type": "code",
        "colab": {}
      },
      "source": [
        "numerical_columns  = ['7_DAYS_CRIME', '1_MONTH_CRIME', '1_YEAR_CRIME', 'TIME_SINCE_LAST_CRIME', 'MONTH', 'DAY', 'QUARTER', 'HOUR_PARTITION', 'WEAPON_TYPE']"
      ],
      "execution_count": 13,
      "outputs": []
    },
    {
      "cell_type": "code",
      "metadata": {
        "id": "5qqcd_hQmiI6",
        "colab_type": "code",
        "colab": {}
      },
      "source": [
        "outputs = ['CRIME_TYPE'] "
      ],
      "execution_count": 14,
      "outputs": []
    },
    {
      "cell_type": "code",
      "metadata": {
        "id": "elBMVKLmlvM1",
        "colab_type": "code",
        "colab": {}
      },
      "source": [
        "for category in categorical_columns:\n",
        "    nz_crime_data[category] = nz_crime_data[category].astype('category')"
      ],
      "execution_count": 15,
      "outputs": []
    },
    {
      "cell_type": "code",
      "metadata": {
        "id": "BkXpW6Fiz9Pj",
        "colab_type": "code",
        "colab": {}
      },
      "source": [
        "convert_crime = {\"CRIME_TYPE\": {\"Theft and Related Offences\": 0,\n",
        "                                 \"Unlawful Entry With Intent/Burglary, Break and Enter\": 1,\n",
        "                                 \"Acts Intended to Cause Injury\": 2,\n",
        "                                 \"Robbery, Extortion and Related Offences\": 6,\n",
        "                                 \"Sexual Assault and Related Offences\": 3,\n",
        "                                 \"Abduction, Harassment and Other Related Offences Against a Person\": 5}}\n",
        "nz_crime_data.replace(convert_crime, inplace=True)"
      ],
      "execution_count": 16,
      "outputs": []
    },
    {
      "cell_type": "code",
      "metadata": {
        "id": "dDuStPUAnK9T",
        "colab_type": "code",
        "colab": {}
      },
      "source": [
        "nz_crime_data['CRIME_TYPE'] = nz_crime_data['CRIME_TYPE'].astype(object).astype(int)"
      ],
      "execution_count": 17,
      "outputs": []
    },
    {
      "cell_type": "code",
      "metadata": {
        "id": "-MgYxR5Om2N_",
        "colab_type": "code",
        "colab": {
          "base_uri": "https://localhost:8080/",
          "height": 319
        },
        "outputId": "0e1c4903-0776-454a-943d-1874e5961ab4"
      },
      "source": [
        "nz_crime_data.dtypes"
      ],
      "execution_count": 18,
      "outputs": [
        {
          "output_type": "execute_result",
          "data": {
            "text/plain": [
              "DATE_NO_TIME             category\n",
              "DATE_TIME                category\n",
              "7_DAYS_CRIME              float64\n",
              "1_MONTH_CRIME             float64\n",
              "1_YEAR_CRIME              float64\n",
              "TIME_SINCE_LAST_CRIME     float64\n",
              "MONTH                       int64\n",
              "QUARTER                     int64\n",
              "DAY_OF_WEEK              category\n",
              "DAY                         int64\n",
              "HOUR                      float64\n",
              "HOUR_PARTITION              int64\n",
              "MESHBLOCK                   int64\n",
              "AREA_0                   category\n",
              "AREA_1                   category\n",
              "WEAPON_TYPE                 int64\n",
              "CRIME_TYPE                  int64\n",
              "dtype: object"
            ]
          },
          "metadata": {
            "tags": []
          },
          "execution_count": 18
        }
      ]
    },
    {
      "cell_type": "code",
      "metadata": {
        "id": "u4qDvXwN0zM4",
        "colab_type": "code",
        "colab": {
          "base_uri": "https://localhost:8080/",
          "height": 282
        },
        "outputId": "fee97863-7380-4b44-a0b9-b53e8ba0efca"
      },
      "source": [
        "nz_crime_data.head()"
      ],
      "execution_count": 19,
      "outputs": [
        {
          "output_type": "execute_result",
          "data": {
            "text/html": [
              "<div>\n",
              "<style scoped>\n",
              "    .dataframe tbody tr th:only-of-type {\n",
              "        vertical-align: middle;\n",
              "    }\n",
              "\n",
              "    .dataframe tbody tr th {\n",
              "        vertical-align: top;\n",
              "    }\n",
              "\n",
              "    .dataframe thead th {\n",
              "        text-align: right;\n",
              "    }\n",
              "</style>\n",
              "<table border=\"1\" class=\"dataframe\">\n",
              "  <thead>\n",
              "    <tr style=\"text-align: right;\">\n",
              "      <th></th>\n",
              "      <th>DATE_NO_TIME</th>\n",
              "      <th>DATE_TIME</th>\n",
              "      <th>7_DAYS_CRIME</th>\n",
              "      <th>1_MONTH_CRIME</th>\n",
              "      <th>1_YEAR_CRIME</th>\n",
              "      <th>TIME_SINCE_LAST_CRIME</th>\n",
              "      <th>MONTH</th>\n",
              "      <th>QUARTER</th>\n",
              "      <th>DAY_OF_WEEK</th>\n",
              "      <th>DAY</th>\n",
              "      <th>HOUR</th>\n",
              "      <th>HOUR_PARTITION</th>\n",
              "      <th>MESHBLOCK</th>\n",
              "      <th>AREA_0</th>\n",
              "      <th>AREA_1</th>\n",
              "      <th>WEAPON_TYPE</th>\n",
              "      <th>CRIME_TYPE</th>\n",
              "    </tr>\n",
              "  </thead>\n",
              "  <tbody>\n",
              "    <tr>\n",
              "      <th>0</th>\n",
              "      <td>00:00.0</td>\n",
              "      <td>00:00.0</td>\n",
              "      <td>8.302266</td>\n",
              "      <td>8.302266</td>\n",
              "      <td>8.302266</td>\n",
              "      <td>0.000000</td>\n",
              "      <td>7</td>\n",
              "      <td>3</td>\n",
              "      <td>Wednesday</td>\n",
              "      <td>3</td>\n",
              "      <td>22.000000</td>\n",
              "      <td>21</td>\n",
              "      <td>1190602</td>\n",
              "      <td>Bethlehem.</td>\n",
              "      <td>Tauranga City.</td>\n",
              "      <td>0</td>\n",
              "      <td>0</td>\n",
              "    </tr>\n",
              "    <tr>\n",
              "      <th>1</th>\n",
              "      <td>00:00.0</td>\n",
              "      <td>35:49.4</td>\n",
              "      <td>8.333511</td>\n",
              "      <td>8.333511</td>\n",
              "      <td>8.333511</td>\n",
              "      <td>0.000000</td>\n",
              "      <td>7</td>\n",
              "      <td>3</td>\n",
              "      <td>Wednesday</td>\n",
              "      <td>3</td>\n",
              "      <td>12.597056</td>\n",
              "      <td>12</td>\n",
              "      <td>2752700</td>\n",
              "      <td>Methven.</td>\n",
              "      <td>Ashburton District.</td>\n",
              "      <td>0</td>\n",
              "      <td>0</td>\n",
              "    </tr>\n",
              "    <tr>\n",
              "      <th>2</th>\n",
              "      <td>00:00.0</td>\n",
              "      <td>11:48.9</td>\n",
              "      <td>8.333270</td>\n",
              "      <td>8.333270</td>\n",
              "      <td>8.333270</td>\n",
              "      <td>0.000000</td>\n",
              "      <td>7</td>\n",
              "      <td>3</td>\n",
              "      <td>Wednesday</td>\n",
              "      <td>3</td>\n",
              "      <td>13.196904</td>\n",
              "      <td>12</td>\n",
              "      <td>579200</td>\n",
              "      <td>Wesley.</td>\n",
              "      <td>Auckland.</td>\n",
              "      <td>0</td>\n",
              "      <td>0</td>\n",
              "    </tr>\n",
              "    <tr>\n",
              "      <th>3</th>\n",
              "      <td>00:00.0</td>\n",
              "      <td>09:59.2</td>\n",
              "      <td>8.343554</td>\n",
              "      <td>8.343554</td>\n",
              "      <td>8.343554</td>\n",
              "      <td>0.008715</td>\n",
              "      <td>7</td>\n",
              "      <td>3</td>\n",
              "      <td>Wednesday</td>\n",
              "      <td>3</td>\n",
              "      <td>13.166455</td>\n",
              "      <td>12</td>\n",
              "      <td>2472800</td>\n",
              "      <td>Riccarton.</td>\n",
              "      <td>Christchurch City.</td>\n",
              "      <td>0</td>\n",
              "      <td>0</td>\n",
              "    </tr>\n",
              "    <tr>\n",
              "      <th>4</th>\n",
              "      <td>00:00.0</td>\n",
              "      <td>10:39.7</td>\n",
              "      <td>8.336630</td>\n",
              "      <td>8.336630</td>\n",
              "      <td>8.336630</td>\n",
              "      <td>0.000000</td>\n",
              "      <td>7</td>\n",
              "      <td>3</td>\n",
              "      <td>Wednesday</td>\n",
              "      <td>3</td>\n",
              "      <td>13.177693</td>\n",
              "      <td>12</td>\n",
              "      <td>900100</td>\n",
              "      <td>Beerescourt.</td>\n",
              "      <td>Hamilton City.</td>\n",
              "      <td>0</td>\n",
              "      <td>0</td>\n",
              "    </tr>\n",
              "  </tbody>\n",
              "</table>\n",
              "</div>"
            ],
            "text/plain": [
              "  DATE_NO_TIME DATE_TIME  ...  WEAPON_TYPE  CRIME_TYPE\n",
              "0      00:00.0   00:00.0  ...            0           0\n",
              "1      00:00.0   35:49.4  ...            0           0\n",
              "2      00:00.0   11:48.9  ...            0           0\n",
              "3      00:00.0   09:59.2  ...            0           0\n",
              "4      00:00.0   10:39.7  ...            0           0\n",
              "\n",
              "[5 rows x 17 columns]"
            ]
          },
          "metadata": {
            "tags": []
          },
          "execution_count": 19
        }
      ]
    },
    {
      "cell_type": "code",
      "metadata": {
        "id": "sAtYKoOT1OaZ",
        "colab_type": "code",
        "colab": {}
      },
      "source": [
        ""
      ],
      "execution_count": 19,
      "outputs": []
    },
    {
      "cell_type": "code",
      "metadata": {
        "id": "6prwFR5usX-i",
        "colab_type": "code",
        "colab": {
          "base_uri": "https://localhost:8080/",
          "height": 34
        },
        "outputId": "09bed53e-fcfd-45d1-ccd8-38d68ea9cdae"
      },
      "source": [
        "outputs = np.stack(nz_crime_data['CRIME_TYPE'])\n",
        "outputs[:5]"
      ],
      "execution_count": 20,
      "outputs": [
        {
          "output_type": "execute_result",
          "data": {
            "text/plain": [
              "array([0, 0, 0, 0, 0])"
            ]
          },
          "metadata": {
            "tags": []
          },
          "execution_count": 20
        }
      ]
    },
    {
      "cell_type": "code",
      "metadata": {
        "id": "jOMEW1SToNVT",
        "colab_type": "code",
        "colab": {
          "base_uri": "https://localhost:8080/",
          "height": 185
        },
        "outputId": "d3900a61-1e9e-47e4-9fbf-cd917c8e56e5"
      },
      "source": [
        "DATE_NO_TIME = nz_crime_data['DATE_NO_TIME'].cat.codes.values\n",
        "DATE_TIME = nz_crime_data['DATE_TIME'].cat.codes.values\n",
        "DAY_OF_WEEK = nz_crime_data['DAY_OF_WEEK'].cat.codes.values\n",
        "AREA_0 = nz_crime_data['AREA_0'].cat.codes.values\n",
        "AREA_1 = nz_crime_data['AREA_1'].cat.codes.values\n",
        "\n",
        "\n",
        "categorical_data = np.stack([DATE_NO_TIME, DATE_TIME, DAY_OF_WEEK, AREA_0,AREA_1], 1)\n",
        "\n",
        "categorical_data[:10]"
      ],
      "execution_count": 21,
      "outputs": [
        {
          "output_type": "execute_result",
          "data": {
            "text/plain": [
              "array([[   0,    0,    8,  126,   49],\n",
              "       [   0,   43,    8,  925,    0],\n",
              "       [   0,   23,    8, 1854,    1],\n",
              "       [   0,   18,    8, 1387,    6],\n",
              "       [   0,   19,    8,  113,   13],\n",
              "       [   0,   19,    8,  443,   13],\n",
              "       [   0,   16,    8, 1808,   31],\n",
              "       [   0,   13,    8, 1199,   34],\n",
              "       [   0,   26,    8,  489,   52],\n",
              "       [   0,    0,    1,  206,   60]], dtype=int16)"
            ]
          },
          "metadata": {
            "tags": []
          },
          "execution_count": 21
        }
      ]
    },
    {
      "cell_type": "code",
      "metadata": {
        "id": "eEpUi8FCcTZm",
        "colab_type": "code",
        "colab": {
          "base_uri": "https://localhost:8080/",
          "height": 185
        },
        "outputId": "abd5aa9d-bae0-464f-d812-e5d035552a7d"
      },
      "source": [
        "# creating tensor from aforementioned numpy array\n",
        "# convert the categorial data numpy array into a tensor object\n",
        "categorical_data = torch.tensor(categorical_data, dtype=torch.int64)\n",
        "categorical_data[:10]"
      ],
      "execution_count": 22,
      "outputs": [
        {
          "output_type": "execute_result",
          "data": {
            "text/plain": [
              "tensor([[   0,    0,    8,  126,   49],\n",
              "        [   0,   43,    8,  925,    0],\n",
              "        [   0,   23,    8, 1854,    1],\n",
              "        [   0,   18,    8, 1387,    6],\n",
              "        [   0,   19,    8,  113,   13],\n",
              "        [   0,   19,    8,  443,   13],\n",
              "        [   0,   16,    8, 1808,   31],\n",
              "        [   0,   13,    8, 1199,   34],\n",
              "        [   0,   26,    8,  489,   52],\n",
              "        [   0,    0,    1,  206,   60]])"
            ]
          },
          "metadata": {
            "tags": []
          },
          "execution_count": 22
        }
      ]
    },
    {
      "cell_type": "code",
      "metadata": {
        "id": "yRPz9TiPqCXA",
        "colab_type": "code",
        "colab": {
          "base_uri": "https://localhost:8080/",
          "height": 185
        },
        "outputId": "763d05b7-d9d6-4526-abfe-d973b39ddcb1"
      },
      "source": [
        "# convert the numerical data numpy array into a tensor object\n",
        "numerical_data = np.stack([nz_crime_data[col].values for col in numerical_columns], 1)\n",
        "numerical_data = torch.tensor(numerical_data, dtype=torch.float)\n",
        "numerical_data[:5]\n",
        "\n"
      ],
      "execution_count": 23,
      "outputs": [
        {
          "output_type": "execute_result",
          "data": {
            "text/plain": [
              "tensor([[8.3023e+00, 8.3023e+00, 8.3023e+00, 0.0000e+00, 7.0000e+00, 3.0000e+00,\n",
              "         3.0000e+00, 2.1000e+01, 0.0000e+00],\n",
              "        [8.3335e+00, 8.3335e+00, 8.3335e+00, 0.0000e+00, 7.0000e+00, 3.0000e+00,\n",
              "         3.0000e+00, 1.2000e+01, 0.0000e+00],\n",
              "        [8.3333e+00, 8.3333e+00, 8.3333e+00, 0.0000e+00, 7.0000e+00, 3.0000e+00,\n",
              "         3.0000e+00, 1.2000e+01, 0.0000e+00],\n",
              "        [8.3436e+00, 8.3436e+00, 8.3436e+00, 8.7146e-03, 7.0000e+00, 3.0000e+00,\n",
              "         3.0000e+00, 1.2000e+01, 0.0000e+00],\n",
              "        [8.3366e+00, 8.3366e+00, 8.3366e+00, 0.0000e+00, 7.0000e+00, 3.0000e+00,\n",
              "         3.0000e+00, 1.2000e+01, 0.0000e+00]])"
            ]
          },
          "metadata": {
            "tags": []
          },
          "execution_count": 23
        }
      ]
    },
    {
      "cell_type": "code",
      "metadata": {
        "id": "vECkA6KDuGZS",
        "colab_type": "code",
        "colab": {
          "base_uri": "https://localhost:8080/",
          "height": 34
        },
        "outputId": "22175c00-5b5c-4caf-cf71-a74e920e1dba"
      },
      "source": [
        "outputs = np.stack(outputs)\n",
        "outputs = torch.tensor(outputs, dtype=torch.float).flatten()\n",
        "outputs[:5]\n",
        "\n"
      ],
      "execution_count": 24,
      "outputs": [
        {
          "output_type": "execute_result",
          "data": {
            "text/plain": [
              "tensor([0., 0., 0., 0., 0.])"
            ]
          },
          "metadata": {
            "tags": []
          },
          "execution_count": 24
        }
      ]
    },
    {
      "cell_type": "code",
      "metadata": {
        "id": "0khYHrAovW39",
        "colab_type": "code",
        "colab": {
          "base_uri": "https://localhost:8080/",
          "height": 67
        },
        "outputId": "1ba32f7f-45c2-401f-e58c-8b421ddcd04f"
      },
      "source": [
        "print(categorical_data.shape)\n",
        "print(numerical_data.shape)\n",
        "print(outputs.shape)"
      ],
      "execution_count": 25,
      "outputs": [
        {
          "output_type": "stream",
          "text": [
            "torch.Size([1048575, 5])\n",
            "torch.Size([1048575, 9])\n",
            "torch.Size([1048575])\n"
          ],
          "name": "stdout"
        }
      ]
    },
    {
      "cell_type": "code",
      "metadata": {
        "id": "GUu64kFpvo_p",
        "colab_type": "code",
        "colab": {
          "base_uri": "https://localhost:8080/",
          "height": 34
        },
        "outputId": "c47053ce-eaac-4c89-8fb1-e676ed11afd5"
      },
      "source": [
        "# creates a tuple that contains the number of unique values and the dimension sizes for all the categorical columns:\n",
        "categorical_column_sizes = [len(nz_crime_data[column].cat.categories) for column in categorical_columns]\n",
        "categorical_embedding_sizes = [(col_size, min(50, (col_size+1)//2)) for col_size in categorical_column_sizes]\n",
        "print(categorical_embedding_sizes)"
      ],
      "execution_count": 26,
      "outputs": [
        {
          "output_type": "stream",
          "text": [
            "[(1, 1), (67, 34), (9, 5), (1937, 50), (66, 33)]\n"
          ],
          "name": "stdout"
        }
      ]
    },
    {
      "cell_type": "code",
      "metadata": {
        "id": "lQePxePtwEym",
        "colab_type": "code",
        "colab": {}
      },
      "source": [
        "# divide our dataset into training and test sets\n",
        "\n",
        "total_records = 1048575\n",
        "test_records = int(total_records * .3)\n",
        "\n",
        "categorical_train_data = categorical_data[:total_records-test_records]\n",
        "categorical_test_data = categorical_data[total_records-test_records:total_records]\n",
        "numerical_train_data = numerical_data[:total_records-test_records]\n",
        "numerical_test_data = numerical_data[total_records-test_records:total_records]\n",
        "train_outputs = outputs[:total_records-test_records]\n",
        "test_outputs = outputs[total_records-test_records:total_records]"
      ],
      "execution_count": 27,
      "outputs": []
    },
    {
      "cell_type": "code",
      "metadata": {
        "id": "iJF9lrRNwUYO",
        "colab_type": "code",
        "colab": {
          "base_uri": "https://localhost:8080/",
          "height": 118
        },
        "outputId": "47011446-469b-487d-dcbe-e207f24afb67"
      },
      "source": [
        "print(len(categorical_train_data))\n",
        "print(len(numerical_train_data))\n",
        "print(len(train_outputs))\n",
        "\n",
        "print(len(categorical_test_data))\n",
        "print(len(numerical_test_data))\n",
        "print(len(test_outputs))"
      ],
      "execution_count": 28,
      "outputs": [
        {
          "output_type": "stream",
          "text": [
            "734003\n",
            "734003\n",
            "734003\n",
            "314572\n",
            "314572\n",
            "314572\n"
          ],
          "name": "stdout"
        }
      ]
    },
    {
      "cell_type": "code",
      "metadata": {
        "id": "ZlsH4-sdwZTM",
        "colab_type": "code",
        "colab": {}
      },
      "source": [
        "# define our model.\n",
        "class Model(nn.Module):\n",
        "\n",
        "    def __init__(self, embedding_size, num_numerical_cols, output_size, layers, p=0.4):\n",
        "        super().__init__()\n",
        "        self.all_embeddings = nn.ModuleList([nn.Embedding(ni, nf) for ni, nf in embedding_size])\n",
        "        self.embedding_dropout = nn.Dropout(p)\n",
        "        self.batch_norm_num = nn.BatchNorm1d(num_numerical_cols)\n",
        "\n",
        "        all_layers = []\n",
        "        num_categorical_cols = sum((nf for ni, nf in embedding_size))\n",
        "        input_size = num_categorical_cols + num_numerical_cols\n",
        "\n",
        "        for i in layers:\n",
        "            all_layers.append(nn.Linear(input_size, i))\n",
        "            all_layers.append(nn.ReLU(inplace=True))\n",
        "            all_layers.append(nn.BatchNorm1d(i))\n",
        "            all_layers.append(nn.Dropout(p))\n",
        "            input_size = i\n",
        "\n",
        "        all_layers.append(nn.Linear(layers[-1], output_size))\n",
        "\n",
        "        self.layers = nn.Sequential(*all_layers)\n",
        "\n",
        "    def forward(self, x_categorical, x_numerical):\n",
        "        embeddings = []\n",
        "        for i,e in enumerate(self.all_embeddings):\n",
        "            embeddings.append(e(x_categorical[:,i]))\n",
        "        x = torch.cat(embeddings, 1)\n",
        "        x = self.embedding_dropout(x)\n",
        "\n",
        "        x_numerical = self.batch_norm_num(x_numerical)\n",
        "        x = torch.cat([x, x_numerical], 1)\n",
        "        x = self.layers(x)\n",
        "        return x"
      ],
      "execution_count": 29,
      "outputs": []
    },
    {
      "cell_type": "code",
      "metadata": {
        "id": "_q6phJ8Bw-aI",
        "colab_type": "code",
        "colab": {}
      },
      "source": [
        "#To create the model\n",
        "model = Model(categorical_embedding_sizes, numerical_data.shape[1], 3, [200,100,50], p=0.4)"
      ],
      "execution_count": 30,
      "outputs": []
    },
    {
      "cell_type": "code",
      "metadata": {
        "id": "EdOoTrwIxtki",
        "colab_type": "code",
        "colab": {
          "base_uri": "https://localhost:8080/",
          "height": 454
        },
        "outputId": "168906cd-f75a-407f-bf0a-770aec328218"
      },
      "source": [
        "print(model)"
      ],
      "execution_count": 31,
      "outputs": [
        {
          "output_type": "stream",
          "text": [
            "Model(\n",
            "  (all_embeddings): ModuleList(\n",
            "    (0): Embedding(1, 1)\n",
            "    (1): Embedding(67, 34)\n",
            "    (2): Embedding(9, 5)\n",
            "    (3): Embedding(1937, 50)\n",
            "    (4): Embedding(66, 33)\n",
            "  )\n",
            "  (embedding_dropout): Dropout(p=0.4, inplace=False)\n",
            "  (batch_norm_num): BatchNorm1d(9, eps=1e-05, momentum=0.1, affine=True, track_running_stats=True)\n",
            "  (layers): Sequential(\n",
            "    (0): Linear(in_features=132, out_features=200, bias=True)\n",
            "    (1): ReLU(inplace=True)\n",
            "    (2): BatchNorm1d(200, eps=1e-05, momentum=0.1, affine=True, track_running_stats=True)\n",
            "    (3): Dropout(p=0.4, inplace=False)\n",
            "    (4): Linear(in_features=200, out_features=100, bias=True)\n",
            "    (5): ReLU(inplace=True)\n",
            "    (6): BatchNorm1d(100, eps=1e-05, momentum=0.1, affine=True, track_running_stats=True)\n",
            "    (7): Dropout(p=0.4, inplace=False)\n",
            "    (8): Linear(in_features=100, out_features=50, bias=True)\n",
            "    (9): ReLU(inplace=True)\n",
            "    (10): BatchNorm1d(50, eps=1e-05, momentum=0.1, affine=True, track_running_stats=True)\n",
            "    (11): Dropout(p=0.4, inplace=False)\n",
            "    (12): Linear(in_features=50, out_features=3, bias=True)\n",
            "  )\n",
            ")\n"
          ],
          "name": "stdout"
        }
      ]
    },
    {
      "cell_type": "code",
      "metadata": {
        "id": "vT_2s4PUya62",
        "colab_type": "code",
        "colab": {}
      },
      "source": [
        " # define the loss function and the optimizer that will be used to train the model.\n",
        "loss_function = nn.CrossEntropyLoss()\n",
        "optimizer = torch.optim.Adam(model.parameters(), lr=0.001)"
      ],
      "execution_count": 32,
      "outputs": []
    },
    {
      "cell_type": "code",
      "metadata": {
        "id": "T32hk21jyiSa",
        "colab_type": "code",
        "colab": {
          "base_uri": "https://localhost:8080/",
          "height": 67
        },
        "outputId": "d5b13ad6-9824-4e53-fb17-43751dc4eb1e"
      },
      "source": [
        "# trains the model:\n",
        "epochs = 32\n",
        "aggregated_losses = []\n",
        "\n",
        "for i in range(epochs):\n",
        "    i += 1\n",
        "    y_pred = model(categorical_train_data, numerical_train_data)\n",
        "    single_loss = loss_function(y_pred, train_outputs.long())\n",
        "    aggregated_losses.append(single_loss)\n",
        "\n",
        "    if i%25 == 1:\n",
        "        print(f'epoch: {i:3} loss: {single_loss.item():10.8f}')\n",
        "\n",
        "    optimizer.zero_grad()\n",
        "    single_loss.backward()\n",
        "    optimizer.step()\n",
        "\n",
        "print(f'epoch: {i:3} loss: {single_loss.item():10.10f}')"
      ],
      "execution_count": 33,
      "outputs": [
        {
          "output_type": "stream",
          "text": [
            "epoch:   1 loss: 1.30936360\n",
            "epoch:  26 loss: 1.06072164\n",
            "epoch:  32 loss: 1.0381207466\n"
          ],
          "name": "stdout"
        }
      ]
    },
    {
      "cell_type": "code",
      "metadata": {
        "id": "YPeTtfA9r8sa",
        "colab_type": "code",
        "colab": {
          "base_uri": "https://localhost:8080/",
          "height": 279
        },
        "outputId": "a15d13ed-215f-4af7-b4d9-bd0ecbfa7b2e"
      },
      "source": [
        "plt.plot(range(epochs), aggregated_losses)\n",
        "plt.ylabel('Loss')\n",
        "plt.xlabel('epoch');"
      ],
      "execution_count": 34,
      "outputs": [
        {
          "output_type": "display_data",
          "data": {
            "image/png": "[encoded data removed]",
            "text/plain": [
              "<Figure size 432x288 with 1 Axes>"
            ]
          },
          "metadata": {
            "tags": [],
            "needs_background": "light"
          }
        }
      ]
    },
    {
      "cell_type": "code",
      "metadata": {
        "id": "9koVTh8MvFvp",
        "colab_type": "code",
        "colab": {
          "base_uri": "https://localhost:8080/",
          "height": 235
        },
        "outputId": "cc56e21e-dc93-49ec-8b63-5ef9eb1a247c"
      },
      "source": [
        "# trains the model:\n",
        "epochs = 64\n",
        "aggregated_losses = []\n",
        "\n",
        "for i in range(epochs):\n",
        "    i += 1\n",
        "    y_pred = model(categorical_train_data, numerical_train_data)\n",
        "    single_loss = loss_function(y_pred, train_outputs.long())\n",
        "    aggregated_losses.append(single_loss)\n",
        "\n",
        "    if i%25 == 1:\n",
        "        print(f'epoch: {i:3} loss: {single_loss.item():10.8f}')\n",
        "\n",
        "    optimizer.zero_grad()\n",
        "    single_loss.backward()\n",
        "    optimizer.step()\n",
        "\n",
        "print(f'epoch: {i:3} loss: {single_loss.item():10.10f}')"
      ],
      "execution_count": 35,
      "outputs": [
        {
          "output_type": "stream",
          "text": [
            "epoch:   1 loss: 1.03473556\n",
            "epoch:  26 loss: 0.95594031\n",
            "epoch:  51 loss: 0.89067841\n",
            "epoch:  76 loss: 0.84543753\n",
            "epoch: 101 loss: 0.82051420\n",
            "epoch: 126 loss: 0.80636108\n",
            "epoch: 151 loss: 0.79778278\n",
            "epoch: 176 loss: 0.79255509\n",
            "epoch: 201 loss: 0.78808850\n",
            "epoch: 226 loss: 0.78488004\n",
            "epoch: 251 loss: 0.78193212\n",
            "epoch: 276 loss: 0.77917343\n",
            "epoch: 300 loss: 0.7758900523\n"
          ],
          "name": "stdout"
        }
      ]
    },
    {
      "cell_type": "code",
      "metadata": {
        "id": "DZ09rCzIWpK1",
        "colab_type": "code",
        "colab": {
          "base_uri": "https://localhost:8080/",
          "height": 279
        },
        "outputId": "78efd2e1-e0cd-4190-f9c4-10a0bb5152e0"
      },
      "source": [
        "plt.plot(range(epochs), aggregated_losses)\n",
        "plt.ylabel('Loss')\n",
        "plt.xlabel('epoch');"
      ],
      "execution_count": 42,
      "outputs": [
        {
          "output_type": "display_data",
          "data": {
            "image/png": "[encoded data removed]",
            "text/plain": [
              "<Figure size 432x288 with 1 Axes>"
            ]
          },
          "metadata": {
            "tags": [],
            "needs_background": "light"
          }
        }
      ]
    },
    {
      "cell_type": "code",
      "metadata": {
        "id": "F_B_5mRqsUb7",
        "colab_type": "code",
        "colab": {}
      },
      "source": [
        "# Making Predictions on the test class and prints the cross entropy loss for the test data\n",
        "\n",
        "#with torch.no_grad():\n",
        " #   y_val = model(categorical_test_data, numerical_test_data)\n",
        "  #  loss = loss_function(y_val, test_outputs.long)\n",
        "#print(f'Loss: {loss:.8f}')"
      ],
      "execution_count": 41,
      "outputs": []
    },
    {
      "cell_type": "code",
      "metadata": {
        "id": "bI1XwERDsdZp",
        "colab_type": "code",
        "colab": {
          "base_uri": "https://localhost:8080/",
          "height": 101
        },
        "outputId": "018dacf3-902d-48c5-a75f-f457f341a602"
      },
      "source": [
        "# It is important to note that since we specified that our output layer will contain 2 neurons, each prediction will contain 3 values. For instance, the first 5 predicted values look like this:\n",
        "print(y_val[:5])"
      ],
      "execution_count": 37,
      "outputs": [
        {
          "output_type": "stream",
          "text": [
            "tensor([[ 0.9556,  0.4886, -1.9719],\n",
            "        [ 0.7935,  0.5638, -0.9722],\n",
            "        [ 0.5905,  0.3938, -1.5042],\n",
            "        [ 0.8398,  0.6466, -1.3540],\n",
            "        [ 0.7178,  0.5976, -1.2209]])\n"
          ],
          "name": "stdout"
        }
      ]
    },
    {
      "cell_type": "code",
      "metadata": {
        "id": "Fegyt56vsv8w",
        "colab_type": "code",
        "colab": {}
      },
      "source": [
        "y_val = np.argmax(y_val, axis=1)"
      ],
      "execution_count": 38,
      "outputs": []
    },
    {
      "cell_type": "code",
      "metadata": {
        "id": "6I7Jw_ADs0oi",
        "colab_type": "code",
        "colab": {
          "base_uri": "https://localhost:8080/",
          "height": 34
        },
        "outputId": "2b016a8c-7c16-4df2-80c2-fe04c7d37d61"
      },
      "source": [
        "print(y_val[:5])"
      ],
      "execution_count": 39,
      "outputs": [
        {
          "output_type": "stream",
          "text": [
            "tensor([0, 0, 0, 0, 0])\n"
          ],
          "name": "stdout"
        }
      ]
    },
    {
      "cell_type": "code",
      "metadata": {
        "id": "Jynq_tXys3Lh",
        "colab_type": "code",
        "colab": {
          "base_uri": "https://localhost:8080/",
          "height": 252
        },
        "outputId": "3c9b39f8-4e15-4188-a8e9-76f4062f3cdc"
      },
      "source": [
        "from sklearn.metrics import classification_report, confusion_matrix, accuracy_score\n",
        "\n",
        "print(confusion_matrix(test_outputs,y_val))\n",
        "print(classification_report(test_outputs,y_val))\n",
        "print(accuracy_score(test_outputs, y_val))"
      ],
      "execution_count": 40,
      "outputs": [
        {
          "output_type": "stream",
          "text": [
            "[[143416  36474   1558]\n",
            " [ 50351  46990    876]\n",
            " [ 25623   4057   5227]]\n",
            "              precision    recall  f1-score   support\n",
            "\n",
            "         0.0       0.65      0.79      0.72    181448\n",
            "         1.0       0.54      0.48      0.51     98217\n",
            "         2.0       0.68      0.15      0.25     34907\n",
            "\n",
            "    accuracy                           0.62    314572\n",
            "   macro avg       0.62      0.47      0.49    314572\n",
            "weighted avg       0.62      0.62      0.60    314572\n",
            "\n",
            "0.6219021400506084\n"
          ],
          "name": "stdout"
        }
      ]
    }
  ]
}