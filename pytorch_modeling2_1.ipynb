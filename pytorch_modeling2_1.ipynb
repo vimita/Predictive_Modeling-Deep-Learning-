{
  "nbformat": 4,
  "nbformat_minor": 0,
  "metadata": {
    "colab": {
      "name": "pytorch_modeling2_1.ipynb",
      "provenance": [],
      "collapsed_sections": [],
      "authorship_tag": "ABX9TyN6uU9oqYMpk1/b1M02eMVT",
      "include_colab_link": true
    },
    "kernelspec": {
      "name": "python3",
      "display_name": "Python 3"
    }
  },
  "cells": [
    {
      "cell_type": "markdown",
      "metadata": {
        "id": "view-in-github",
        "colab_type": "text"
      },
      "source": [
        "<a href=\"https://colab.research.google.com/github/vimita/Predictive_Modeling-Deep-Learning-/blob/master/pytorch_modeling2_1.ipynb\" target=\"_parent\"><img src=\"https://colab.research.google.com/assets/colab-badge.svg\" alt=\"Open In Colab\"/></a>"
      ]
    },
    {
      "cell_type": "code",
      "metadata": {
        "id": "jTQcySE2aLMz",
        "colab_type": "code",
        "colab": {
          "base_uri": "https://localhost:8080/",
          "height": 121
        },
        "outputId": "21983d1a-f532-4c5b-c279-ff32041b4d95"
      },
      "source": [
        "from google.colab import drive \n",
        "drive.mount('/content/my-drive')"
      ],
      "execution_count": 1,
      "outputs": [
        {
          "output_type": "stream",
          "text": [
            "Go to this URL in a browser: https://accounts.google.com/o/oauth2/auth?client_id=947318989803-6bn6qk8qdgf4n4g3pfee6491hc0brc4i.apps.googleusercontent.com&redirect_uri=urn%3aietf%3awg%3aoauth%3a2.0%3aoob&response_type=code&scope=email%20https%3a%2f%2fwww.googleapis.com%2fauth%2fdocs.test%20https%3a%2f%2fwww.googleapis.com%2fauth%2fdrive%20https%3a%2f%2fwww.googleapis.com%2fauth%2fdrive.photos.readonly%20https%3a%2f%2fwww.googleapis.com%2fauth%2fpeopleapi.readonly\n",
            "\n",
            "Enter your authorization code:\n",
            "··········\n",
            "Mounted at /content/my-drive\n"
          ],
          "name": "stdout"
        }
      ]
    },
    {
      "cell_type": "code",
      "metadata": {
        "id": "I-y_V7rqqEH3",
        "colab_type": "code",
        "colab": {
          "base_uri": "https://localhost:8080/",
          "height": 70
        },
        "outputId": "80a5e4cb-8e49-4ebe-98ca-bfa350fe5cc9"
      },
      "source": [
        "import torch\n",
        "import torch.nn as nn\n",
        "import numpy as np\n",
        "import pandas as pd\n",
        "import matplotlib.pyplot as plt\n",
        "import seaborn as sns\n",
        "%matplotlib inline"
      ],
      "execution_count": 2,
      "outputs": [
        {
          "output_type": "stream",
          "text": [
            "/usr/local/lib/python3.6/dist-packages/statsmodels/tools/_testing.py:19: FutureWarning: pandas.util.testing is deprecated. Use the functions in the public API at pandas.testing instead.\n",
            "  import pandas.util.testing as tm\n"
          ],
          "name": "stderr"
        }
      ]
    },
    {
      "cell_type": "code",
      "metadata": {
        "id": "hYLLfj1watG4",
        "colab_type": "code",
        "colab": {}
      },
      "source": [
        "import pandas as pd \n",
        "nz_crime_data=pd.read_csv('my-drive/My Drive/Deep Learning(Predictive Policing)/nz_crime_dataset_new.csv', encoding='utf-8-sig')"
      ],
      "execution_count": 3,
      "outputs": []
    },
    {
      "cell_type": "code",
      "metadata": {
        "id": "6rgMJu1Y1vQF",
        "colab_type": "code",
        "colab": {
          "base_uri": "https://localhost:8080/",
          "height": 34
        },
        "outputId": "cf7100af-79e8-4e2e-eb82-f1aab902f771"
      },
      "source": [
        "nz_crime_data.shape"
      ],
      "execution_count": 4,
      "outputs": [
        {
          "output_type": "execute_result",
          "data": {
            "text/plain": [
              "(1167347, 19)"
            ]
          },
          "metadata": {
            "tags": []
          },
          "execution_count": 4
        }
      ]
    },
    {
      "cell_type": "code",
      "metadata": {
        "id": "ZG3tYFfOb_95",
        "colab_type": "code",
        "colab": {
          "base_uri": "https://localhost:8080/",
          "height": 741
        },
        "outputId": "9b1bfac4-af57-4c68-dbfc-b574f461b8cf"
      },
      "source": [
        "nz_crime_data.info()\n",
        "nz_crime_data.describe()"
      ],
      "execution_count": 5,
      "outputs": [
        {
          "output_type": "stream",
          "text": [
            "<class 'pandas.core.frame.DataFrame'>\n",
            "RangeIndex: 1167347 entries, 0 to 1167346\n",
            "Data columns (total 19 columns):\n",
            " #   Column                     Non-Null Count    Dtype  \n",
            "---  ------                     --------------    -----  \n",
            " 0   DATE_NO_TIME               1167347 non-null  object \n",
            " 1   DATE_TIME                  1167347 non-null  object \n",
            " 2   DAY_AREA_CRIME_COUNT_ROLL  1167347 non-null  float64\n",
            " 3   DAY_AREA_CRIME_COUNT       1167347 non-null  int64  \n",
            " 4   MONTH_AREA_CRIME_COUNT     1167347 non-null  int64  \n",
            " 5   YEAR_AREA_CRIME_COUNT      1167347 non-null  int64  \n",
            " 6   TIME_SINCE_LAST_CRIME      1167347 non-null  float64\n",
            " 7   MONTH                      1167347 non-null  int64  \n",
            " 8   QUARTER                    1167347 non-null  float64\n",
            " 9   DAY_OF_WEEK                1167347 non-null  object \n",
            " 10  DAY                        1167347 non-null  float64\n",
            " 11  HOUR                       1167347 non-null  float64\n",
            " 12  HOUR_PARTITION             1167347 non-null  float64\n",
            " 13  MESHBLOCK                  1167347 non-null  int64  \n",
            " 14  AREA_0                     1167347 non-null  object \n",
            " 15  AREA_1                     1167347 non-null  object \n",
            " 16  WEAPON_TYPE                1167347 non-null  int64  \n",
            " 17  CRIME_TYPE                 1167347 non-null  object \n",
            " 18  RISK                       1167347 non-null  float64\n",
            "dtypes: float64(7), int64(6), object(6)\n",
            "memory usage: 169.2+ MB\n"
          ],
          "name": "stdout"
        },
        {
          "output_type": "execute_result",
          "data": {
            "text/html": [
              "<div>\n",
              "<style scoped>\n",
              "    .dataframe tbody tr th:only-of-type {\n",
              "        vertical-align: middle;\n",
              "    }\n",
              "\n",
              "    .dataframe tbody tr th {\n",
              "        vertical-align: top;\n",
              "    }\n",
              "\n",
              "    .dataframe thead th {\n",
              "        text-align: right;\n",
              "    }\n",
              "</style>\n",
              "<table border=\"1\" class=\"dataframe\">\n",
              "  <thead>\n",
              "    <tr style=\"text-align: right;\">\n",
              "      <th></th>\n",
              "      <th>DAY_AREA_CRIME_COUNT_ROLL</th>\n",
              "      <th>DAY_AREA_CRIME_COUNT</th>\n",
              "      <th>MONTH_AREA_CRIME_COUNT</th>\n",
              "      <th>YEAR_AREA_CRIME_COUNT</th>\n",
              "      <th>TIME_SINCE_LAST_CRIME</th>\n",
              "      <th>MONTH</th>\n",
              "      <th>QUARTER</th>\n",
              "      <th>DAY</th>\n",
              "      <th>HOUR</th>\n",
              "      <th>HOUR_PARTITION</th>\n",
              "      <th>MESHBLOCK</th>\n",
              "      <th>WEAPON_TYPE</th>\n",
              "      <th>RISK</th>\n",
              "    </tr>\n",
              "  </thead>\n",
              "  <tbody>\n",
              "    <tr>\n",
              "      <th>count</th>\n",
              "      <td>1.167347e+06</td>\n",
              "      <td>1.167347e+06</td>\n",
              "      <td>1.167347e+06</td>\n",
              "      <td>1.167347e+06</td>\n",
              "      <td>1.167347e+06</td>\n",
              "      <td>1.167347e+06</td>\n",
              "      <td>1.167347e+06</td>\n",
              "      <td>1.167347e+06</td>\n",
              "      <td>1.167347e+06</td>\n",
              "      <td>1.167347e+06</td>\n",
              "      <td>1.167347e+06</td>\n",
              "      <td>1.167347e+06</td>\n",
              "      <td>1.167347e+06</td>\n",
              "    </tr>\n",
              "    <tr>\n",
              "      <th>mean</th>\n",
              "      <td>1.740339e+04</td>\n",
              "      <td>4.102593e+03</td>\n",
              "      <td>3.252062e+01</td>\n",
              "      <td>3.397887e+02</td>\n",
              "      <td>1.281016e-01</td>\n",
              "      <td>6.536036e+00</td>\n",
              "      <td>2.512512e+00</td>\n",
              "      <td>4.694526e+00</td>\n",
              "      <td>1.310084e+01</td>\n",
              "      <td>1.205440e+01</td>\n",
              "      <td>1.302863e+06</td>\n",
              "      <td>9.731468e-03</td>\n",
              "      <td>1.004760e+00</td>\n",
              "    </tr>\n",
              "    <tr>\n",
              "      <th>std</th>\n",
              "      <td>1.485673e+03</td>\n",
              "      <td>2.827224e+03</td>\n",
              "      <td>3.752400e+01</td>\n",
              "      <td>4.161401e+02</td>\n",
              "      <td>7.455829e+00</td>\n",
              "      <td>3.552330e+00</td>\n",
              "      <td>1.149184e+00</td>\n",
              "      <td>1.891168e+00</td>\n",
              "      <td>4.183061e+00</td>\n",
              "      <td>4.167649e+00</td>\n",
              "      <td>8.577749e+05</td>\n",
              "      <td>1.042445e-01</td>\n",
              "      <td>7.758172e-01</td>\n",
              "    </tr>\n",
              "    <tr>\n",
              "      <th>min</th>\n",
              "      <td>1.418400e+04</td>\n",
              "      <td>1.179000e+03</td>\n",
              "      <td>1.000000e+00</td>\n",
              "      <td>1.000000e+00</td>\n",
              "      <td>0.000000e+00</td>\n",
              "      <td>1.000000e+00</td>\n",
              "      <td>1.000000e+00</td>\n",
              "      <td>1.000000e+00</td>\n",
              "      <td>0.000000e+00</td>\n",
              "      <td>0.000000e+00</td>\n",
              "      <td>-1.461000e+03</td>\n",
              "      <td>0.000000e+00</td>\n",
              "      <td>0.000000e+00</td>\n",
              "    </tr>\n",
              "    <tr>\n",
              "      <th>25%</th>\n",
              "      <td>1.655300e+04</td>\n",
              "      <td>1.628000e+03</td>\n",
              "      <td>1.000000e+01</td>\n",
              "      <td>9.300000e+01</td>\n",
              "      <td>0.000000e+00</td>\n",
              "      <td>3.000000e+00</td>\n",
              "      <td>1.000000e+00</td>\n",
              "      <td>3.000000e+00</td>\n",
              "      <td>1.262178e+01</td>\n",
              "      <td>1.200000e+01</td>\n",
              "      <td>6.075000e+05</td>\n",
              "      <td>0.000000e+00</td>\n",
              "      <td>0.000000e+00</td>\n",
              "    </tr>\n",
              "    <tr>\n",
              "      <th>50%</th>\n",
              "      <td>1.718400e+04</td>\n",
              "      <td>1.971000e+03</td>\n",
              "      <td>1.900000e+01</td>\n",
              "      <td>1.960000e+02</td>\n",
              "      <td>0.000000e+00</td>\n",
              "      <td>7.000000e+00</td>\n",
              "      <td>3.000000e+00</td>\n",
              "      <td>6.000000e+00</td>\n",
              "      <td>1.317855e+01</td>\n",
              "      <td>1.200000e+01</td>\n",
              "      <td>1.167000e+06</td>\n",
              "      <td>0.000000e+00</td>\n",
              "      <td>1.000000e+00</td>\n",
              "    </tr>\n",
              "    <tr>\n",
              "      <th>75%</th>\n",
              "      <td>1.789000e+04</td>\n",
              "      <td>7.184000e+03</td>\n",
              "      <td>3.900000e+01</td>\n",
              "      <td>3.970000e+02</td>\n",
              "      <td>0.000000e+00</td>\n",
              "      <td>1.000000e+01</td>\n",
              "      <td>4.000000e+00</td>\n",
              "      <td>6.000000e+00</td>\n",
              "      <td>1.400000e+01</td>\n",
              "      <td>1.200000e+01</td>\n",
              "      <td>2.029200e+06</td>\n",
              "      <td>0.000000e+00</td>\n",
              "      <td>2.000000e+00</td>\n",
              "    </tr>\n",
              "    <tr>\n",
              "      <th>max</th>\n",
              "      <td>2.263600e+04</td>\n",
              "      <td>8.902000e+03</td>\n",
              "      <td>2.760000e+02</td>\n",
              "      <td>2.294000e+03</td>\n",
              "      <td>5.770000e+02</td>\n",
              "      <td>1.200000e+01</td>\n",
              "      <td>4.000000e+00</td>\n",
              "      <td>7.000000e+00</td>\n",
              "      <td>2.300000e+01</td>\n",
              "      <td>2.100000e+01</td>\n",
              "      <td>3.210003e+06</td>\n",
              "      <td>2.000000e+00</td>\n",
              "      <td>2.000000e+00</td>\n",
              "    </tr>\n",
              "  </tbody>\n",
              "</table>\n",
              "</div>"
            ],
            "text/plain": [
              "       DAY_AREA_CRIME_COUNT_ROLL  ...          RISK\n",
              "count               1.167347e+06  ...  1.167347e+06\n",
              "mean                1.740339e+04  ...  1.004760e+00\n",
              "std                 1.485673e+03  ...  7.758172e-01\n",
              "min                 1.418400e+04  ...  0.000000e+00\n",
              "25%                 1.655300e+04  ...  0.000000e+00\n",
              "50%                 1.718400e+04  ...  1.000000e+00\n",
              "75%                 1.789000e+04  ...  2.000000e+00\n",
              "max                 2.263600e+04  ...  2.000000e+00\n",
              "\n",
              "[8 rows x 13 columns]"
            ]
          },
          "metadata": {
            "tags": []
          },
          "execution_count": 5
        }
      ]
    },
    {
      "cell_type": "code",
      "metadata": {
        "id": "jvE8YdUTcJ39",
        "colab_type": "code",
        "colab": {
          "base_uri": "https://localhost:8080/",
          "height": 370
        },
        "outputId": "62741523-ec01-45d8-a216-ca94d96b19ec"
      },
      "source": [
        "# Count total NaN at each column in DataFrame\n",
        "print(nz_crime_data.isnull().sum())\n",
        "\n",
        "# Count all NaN in a DataFrame (both columns & Rows)\n",
        "print(nz_crime_data.isnull().sum().sum())\n",
        "\n",
        "# erase every row (axis=0) that has \"any\" Null value in it.\n",
        "nz_crime_data = nz_crime_data.dropna(how='any',axis=0)"
      ],
      "execution_count": 6,
      "outputs": [
        {
          "output_type": "stream",
          "text": [
            "DATE_NO_TIME                 0\n",
            "DATE_TIME                    0\n",
            "DAY_AREA_CRIME_COUNT_ROLL    0\n",
            "DAY_AREA_CRIME_COUNT         0\n",
            "MONTH_AREA_CRIME_COUNT       0\n",
            "YEAR_AREA_CRIME_COUNT        0\n",
            "TIME_SINCE_LAST_CRIME        0\n",
            "MONTH                        0\n",
            "QUARTER                      0\n",
            "DAY_OF_WEEK                  0\n",
            "DAY                          0\n",
            "HOUR                         0\n",
            "HOUR_PARTITION               0\n",
            "MESHBLOCK                    0\n",
            "AREA_0                       0\n",
            "AREA_1                       0\n",
            "WEAPON_TYPE                  0\n",
            "CRIME_TYPE                   0\n",
            "RISK                         0\n",
            "dtype: int64\n",
            "0\n"
          ],
          "name": "stdout"
        }
      ]
    },
    {
      "cell_type": "code",
      "metadata": {
        "id": "WjVqOh1gliG9",
        "colab_type": "code",
        "colab": {
          "base_uri": "https://localhost:8080/",
          "height": 353
        },
        "outputId": "fdf9d60b-c666-46e4-e3e5-5fe4c1ecd5b5"
      },
      "source": [
        "nz_crime_data.dtypes"
      ],
      "execution_count": 7,
      "outputs": [
        {
          "output_type": "execute_result",
          "data": {
            "text/plain": [
              "DATE_NO_TIME                  object\n",
              "DATE_TIME                     object\n",
              "DAY_AREA_CRIME_COUNT_ROLL    float64\n",
              "DAY_AREA_CRIME_COUNT           int64\n",
              "MONTH_AREA_CRIME_COUNT         int64\n",
              "YEAR_AREA_CRIME_COUNT          int64\n",
              "TIME_SINCE_LAST_CRIME        float64\n",
              "MONTH                          int64\n",
              "QUARTER                      float64\n",
              "DAY_OF_WEEK                   object\n",
              "DAY                          float64\n",
              "HOUR                         float64\n",
              "HOUR_PARTITION               float64\n",
              "MESHBLOCK                      int64\n",
              "AREA_0                        object\n",
              "AREA_1                        object\n",
              "WEAPON_TYPE                    int64\n",
              "CRIME_TYPE                    object\n",
              "RISK                         float64\n",
              "dtype: object"
            ]
          },
          "metadata": {
            "tags": []
          },
          "execution_count": 7
        }
      ]
    },
    {
      "cell_type": "code",
      "metadata": {
        "id": "4wHI_AVTl44F",
        "colab_type": "code",
        "colab": {}
      },
      "source": [
        "categorical_columns = ['AREA_0','AREA_1','CRIME_TYPE']"
      ],
      "execution_count": 8,
      "outputs": []
    },
    {
      "cell_type": "code",
      "metadata": {
        "id": "xSqwpEN7mG_q",
        "colab_type": "code",
        "colab": {}
      },
      "source": [
        "numerical_columns  = ['DAY_AREA_CRIME_COUNT_ROLL', 'MONTH', 'DAY', 'QUARTER', 'HOUR_PARTITION', 'WEAPON_TYPE']"
      ],
      "execution_count": 9,
      "outputs": []
    },
    {
      "cell_type": "code",
      "metadata": {
        "id": "5qqcd_hQmiI6",
        "colab_type": "code",
        "colab": {}
      },
      "source": [
        "outputs = ['RISK'] "
      ],
      "execution_count": 11,
      "outputs": []
    },
    {
      "cell_type": "code",
      "metadata": {
        "id": "elBMVKLmlvM1",
        "colab_type": "code",
        "colab": {}
      },
      "source": [
        "for category in categorical_columns:\n",
        "    nz_crime_data[category] = nz_crime_data[category].astype('category')"
      ],
      "execution_count": 12,
      "outputs": []
    },
    {
      "cell_type": "code",
      "metadata": {
        "id": "BkXpW6Fiz9Pj",
        "colab_type": "code",
        "colab": {}
      },
      "source": [
        "#convert_crime = {\"CRIME_TYPE\": {\"Theft and Related Offences\": 0,\n",
        "                                 #\"Unlawful Entry With Intent/Burglary, Break and Enter\": 1,\n",
        "                                 #\"Acts Intended to Cause Injury\": 2,\n",
        "                                # \"Robbery, Extortion and Related Offences\": 6,\n",
        "                                # \"Sexual Assault and Related Offences\": 3,\n",
        "                               #  \"Abduction, Harassment and Other Related Offences Against a Person\": 5}}\n",
        "#nz_crime_data.replace(convert_crime, inplace=True)"
      ],
      "execution_count": null,
      "outputs": []
    },
    {
      "cell_type": "code",
      "metadata": {
        "id": "dDuStPUAnK9T",
        "colab_type": "code",
        "colab": {}
      },
      "source": [
        "#nz_crime_data['CRIME_TYPE'] = nz_crime_data['CRIME_TYPE'].astype(object).astype(int)"
      ],
      "execution_count": null,
      "outputs": []
    },
    {
      "cell_type": "code",
      "metadata": {
        "id": "-MgYxR5Om2N_",
        "colab_type": "code",
        "colab": {
          "base_uri": "https://localhost:8080/",
          "height": 353
        },
        "outputId": "000c9b54-8ea1-443c-938a-e33cc8cb4c63"
      },
      "source": [
        "nz_crime_data.dtypes"
      ],
      "execution_count": 13,
      "outputs": [
        {
          "output_type": "execute_result",
          "data": {
            "text/plain": [
              "DATE_NO_TIME                   object\n",
              "DATE_TIME                      object\n",
              "DAY_AREA_CRIME_COUNT_ROLL     float64\n",
              "DAY_AREA_CRIME_COUNT            int64\n",
              "MONTH_AREA_CRIME_COUNT          int64\n",
              "YEAR_AREA_CRIME_COUNT           int64\n",
              "TIME_SINCE_LAST_CRIME         float64\n",
              "MONTH                           int64\n",
              "QUARTER                       float64\n",
              "DAY_OF_WEEK                    object\n",
              "DAY                           float64\n",
              "HOUR                          float64\n",
              "HOUR_PARTITION                float64\n",
              "MESHBLOCK                       int64\n",
              "AREA_0                       category\n",
              "AREA_1                       category\n",
              "WEAPON_TYPE                     int64\n",
              "CRIME_TYPE                   category\n",
              "RISK                          float64\n",
              "dtype: object"
            ]
          },
          "metadata": {
            "tags": []
          },
          "execution_count": 13
        }
      ]
    },
    {
      "cell_type": "code",
      "metadata": {
        "id": "u4qDvXwN0zM4",
        "colab_type": "code",
        "colab": {
          "base_uri": "https://localhost:8080/",
          "height": 383
        },
        "outputId": "161a5362-a5d8-4cdb-d646-0fc26a7e6c31"
      },
      "source": [
        "nz_crime_data.head()"
      ],
      "execution_count": 14,
      "outputs": [
        {
          "output_type": "execute_result",
          "data": {
            "text/html": [
              "<div>\n",
              "<style scoped>\n",
              "    .dataframe tbody tr th:only-of-type {\n",
              "        vertical-align: middle;\n",
              "    }\n",
              "\n",
              "    .dataframe tbody tr th {\n",
              "        vertical-align: top;\n",
              "    }\n",
              "\n",
              "    .dataframe thead th {\n",
              "        text-align: right;\n",
              "    }\n",
              "</style>\n",
              "<table border=\"1\" class=\"dataframe\">\n",
              "  <thead>\n",
              "    <tr style=\"text-align: right;\">\n",
              "      <th></th>\n",
              "      <th>DATE_NO_TIME</th>\n",
              "      <th>DATE_TIME</th>\n",
              "      <th>DAY_AREA_CRIME_COUNT_ROLL</th>\n",
              "      <th>DAY_AREA_CRIME_COUNT</th>\n",
              "      <th>MONTH_AREA_CRIME_COUNT</th>\n",
              "      <th>YEAR_AREA_CRIME_COUNT</th>\n",
              "      <th>TIME_SINCE_LAST_CRIME</th>\n",
              "      <th>MONTH</th>\n",
              "      <th>QUARTER</th>\n",
              "      <th>DAY_OF_WEEK</th>\n",
              "      <th>DAY</th>\n",
              "      <th>HOUR</th>\n",
              "      <th>HOUR_PARTITION</th>\n",
              "      <th>MESHBLOCK</th>\n",
              "      <th>AREA_0</th>\n",
              "      <th>AREA_1</th>\n",
              "      <th>WEAPON_TYPE</th>\n",
              "      <th>CRIME_TYPE</th>\n",
              "      <th>RISK</th>\n",
              "    </tr>\n",
              "  </thead>\n",
              "  <tbody>\n",
              "    <tr>\n",
              "      <th>0</th>\n",
              "      <td>2014-07-03 00:00:00.000000000</td>\n",
              "      <td>2014-07-03 22:00:00.000000000</td>\n",
              "      <td>17402.806665</td>\n",
              "      <td>1445</td>\n",
              "      <td>10</td>\n",
              "      <td>67</td>\n",
              "      <td>0.0</td>\n",
              "      <td>7</td>\n",
              "      <td>3.0</td>\n",
              "      <td>Wednesday</td>\n",
              "      <td>3.0</td>\n",
              "      <td>22.0</td>\n",
              "      <td>21.0</td>\n",
              "      <td>1190602</td>\n",
              "      <td>Bethlehem.</td>\n",
              "      <td>Tauranga City.</td>\n",
              "      <td>0</td>\n",
              "      <td>Theft and Related Offences</td>\n",
              "      <td>0.0</td>\n",
              "    </tr>\n",
              "    <tr>\n",
              "      <th>1</th>\n",
              "      <td>2014-07-03 00:00:00.000000000</td>\n",
              "      <td>2014-07-03 08:00:00.000000000</td>\n",
              "      <td>17402.806665</td>\n",
              "      <td>1445</td>\n",
              "      <td>10</td>\n",
              "      <td>67</td>\n",
              "      <td>0.0</td>\n",
              "      <td>7</td>\n",
              "      <td>3.0</td>\n",
              "      <td>Wednesday</td>\n",
              "      <td>3.0</td>\n",
              "      <td>8.0</td>\n",
              "      <td>6.0</td>\n",
              "      <td>1191100</td>\n",
              "      <td>Bethlehem.</td>\n",
              "      <td>Tauranga City.</td>\n",
              "      <td>0</td>\n",
              "      <td>Theft and Related Offences</td>\n",
              "      <td>0.0</td>\n",
              "    </tr>\n",
              "    <tr>\n",
              "      <th>2</th>\n",
              "      <td>2014-07-03 00:00:00.000000000</td>\n",
              "      <td>2014-07-03 14:00:00.000000000</td>\n",
              "      <td>17402.806665</td>\n",
              "      <td>1445</td>\n",
              "      <td>10</td>\n",
              "      <td>67</td>\n",
              "      <td>0.0</td>\n",
              "      <td>7</td>\n",
              "      <td>3.0</td>\n",
              "      <td>Wednesday</td>\n",
              "      <td>3.0</td>\n",
              "      <td>14.0</td>\n",
              "      <td>12.0</td>\n",
              "      <td>1191100</td>\n",
              "      <td>Bethlehem.</td>\n",
              "      <td>Tauranga City.</td>\n",
              "      <td>0</td>\n",
              "      <td>Theft and Related Offences</td>\n",
              "      <td>0.0</td>\n",
              "    </tr>\n",
              "    <tr>\n",
              "      <th>3</th>\n",
              "      <td>2014-07-03 00:00:00.000000000</td>\n",
              "      <td>2014-07-03 20:00:00.000000000</td>\n",
              "      <td>17402.806665</td>\n",
              "      <td>1445</td>\n",
              "      <td>10</td>\n",
              "      <td>67</td>\n",
              "      <td>0.0</td>\n",
              "      <td>7</td>\n",
              "      <td>3.0</td>\n",
              "      <td>Wednesday</td>\n",
              "      <td>3.0</td>\n",
              "      <td>20.0</td>\n",
              "      <td>18.0</td>\n",
              "      <td>1191206</td>\n",
              "      <td>Bethlehem.</td>\n",
              "      <td>Tauranga City.</td>\n",
              "      <td>0</td>\n",
              "      <td>Theft and Related Offences</td>\n",
              "      <td>0.0</td>\n",
              "    </tr>\n",
              "    <tr>\n",
              "      <th>4</th>\n",
              "      <td>2014-07-05 00:00:00.000000000</td>\n",
              "      <td>2014-07-05 17:00:00.000000000</td>\n",
              "      <td>17402.806665</td>\n",
              "      <td>1397</td>\n",
              "      <td>10</td>\n",
              "      <td>67</td>\n",
              "      <td>0.0</td>\n",
              "      <td>7</td>\n",
              "      <td>3.0</td>\n",
              "      <td>Friday</td>\n",
              "      <td>5.0</td>\n",
              "      <td>17.0</td>\n",
              "      <td>15.0</td>\n",
              "      <td>1191100</td>\n",
              "      <td>Bethlehem.</td>\n",
              "      <td>Tauranga City.</td>\n",
              "      <td>0</td>\n",
              "      <td>Theft and Related Offences</td>\n",
              "      <td>0.0</td>\n",
              "    </tr>\n",
              "  </tbody>\n",
              "</table>\n",
              "</div>"
            ],
            "text/plain": [
              "                    DATE_NO_TIME  ... RISK\n",
              "0  2014-07-03 00:00:00.000000000  ...  0.0\n",
              "1  2014-07-03 00:00:00.000000000  ...  0.0\n",
              "2  2014-07-03 00:00:00.000000000  ...  0.0\n",
              "3  2014-07-03 00:00:00.000000000  ...  0.0\n",
              "4  2014-07-05 00:00:00.000000000  ...  0.0\n",
              "\n",
              "[5 rows x 19 columns]"
            ]
          },
          "metadata": {
            "tags": []
          },
          "execution_count": 14
        }
      ]
    },
    {
      "cell_type": "code",
      "metadata": {
        "id": "sAtYKoOT1OaZ",
        "colab_type": "code",
        "colab": {}
      },
      "source": [
        ""
      ],
      "execution_count": null,
      "outputs": []
    },
    {
      "cell_type": "code",
      "metadata": {
        "id": "6prwFR5usX-i",
        "colab_type": "code",
        "colab": {
          "base_uri": "https://localhost:8080/",
          "height": 34
        },
        "outputId": "3cc8426d-b92d-4529-ff82-c3fe93aac3d9"
      },
      "source": [
        "outputs = np.stack(nz_crime_data['RISK'])\n",
        "outputs[:5]"
      ],
      "execution_count": 15,
      "outputs": [
        {
          "output_type": "execute_result",
          "data": {
            "text/plain": [
              "array([0., 0., 0., 0., 0.])"
            ]
          },
          "metadata": {
            "tags": []
          },
          "execution_count": 15
        }
      ]
    },
    {
      "cell_type": "code",
      "metadata": {
        "id": "jOMEW1SToNVT",
        "colab_type": "code",
        "colab": {
          "base_uri": "https://localhost:8080/",
          "height": 185
        },
        "outputId": "240d0756-7b14-4fc7-f913-4c2081183e2d"
      },
      "source": [
        "\n",
        "AREA_0 = nz_crime_data['AREA_0'].cat.codes.values\n",
        "AREA_1 = nz_crime_data['AREA_1'].cat.codes.values\n",
        "CRIME_TYPE = nz_crime_data['CRIME_TYPE'].cat.codes.values\n",
        "\n",
        "\n",
        "\n",
        "categorical_data = np.stack([AREA_0,AREA_1,CRIME_TYPE], 1)\n",
        "\n",
        "categorical_data[:10]"
      ],
      "execution_count": 16,
      "outputs": [
        {
          "output_type": "execute_result",
          "data": {
            "text/plain": [
              "array([[126,  49,   1],\n",
              "       [126,  49,   1],\n",
              "       [126,  49,   1],\n",
              "       [126,  49,   1],\n",
              "       [126,  49,   1],\n",
              "       [126,  49,   1],\n",
              "       [126,  49,   0],\n",
              "       [126,  49,   1],\n",
              "       [126,  49,   2],\n",
              "       [126,  49,   1]], dtype=int16)"
            ]
          },
          "metadata": {
            "tags": []
          },
          "execution_count": 16
        }
      ]
    },
    {
      "cell_type": "code",
      "metadata": {
        "id": "eEpUi8FCcTZm",
        "colab_type": "code",
        "colab": {
          "base_uri": "https://localhost:8080/",
          "height": 185
        },
        "outputId": "7e9869cc-78a2-4997-dbad-de97b484e3a3"
      },
      "source": [
        "# creating tensor from aforementioned numpy array\n",
        "# convert the categorial data numpy array into a tensor object\n",
        "categorical_data = torch.tensor(categorical_data, dtype=torch.int64)\n",
        "categorical_data[:10]"
      ],
      "execution_count": 17,
      "outputs": [
        {
          "output_type": "execute_result",
          "data": {
            "text/plain": [
              "tensor([[126,  49,   1],\n",
              "        [126,  49,   1],\n",
              "        [126,  49,   1],\n",
              "        [126,  49,   1],\n",
              "        [126,  49,   1],\n",
              "        [126,  49,   1],\n",
              "        [126,  49,   0],\n",
              "        [126,  49,   1],\n",
              "        [126,  49,   2],\n",
              "        [126,  49,   1]])"
            ]
          },
          "metadata": {
            "tags": []
          },
          "execution_count": 17
        }
      ]
    },
    {
      "cell_type": "code",
      "metadata": {
        "id": "yRPz9TiPqCXA",
        "colab_type": "code",
        "colab": {
          "base_uri": "https://localhost:8080/",
          "height": 101
        },
        "outputId": "ab8c3dea-983b-4b1a-f752-16be65457df5"
      },
      "source": [
        "# convert the numerical data numpy array into a tensor object\n",
        "numerical_data = np.stack([nz_crime_data[col].values for col in numerical_columns], 1)\n",
        "numerical_data = torch.tensor(numerical_data, dtype=torch.float)\n",
        "numerical_data[:5]\n",
        "\n"
      ],
      "execution_count": 18,
      "outputs": [
        {
          "output_type": "execute_result",
          "data": {
            "text/plain": [
              "tensor([[1.7403e+04, 7.0000e+00, 3.0000e+00, 3.0000e+00, 2.1000e+01, 0.0000e+00],\n",
              "        [1.7403e+04, 7.0000e+00, 3.0000e+00, 3.0000e+00, 6.0000e+00, 0.0000e+00],\n",
              "        [1.7403e+04, 7.0000e+00, 3.0000e+00, 3.0000e+00, 1.2000e+01, 0.0000e+00],\n",
              "        [1.7403e+04, 7.0000e+00, 3.0000e+00, 3.0000e+00, 1.8000e+01, 0.0000e+00],\n",
              "        [1.7403e+04, 7.0000e+00, 5.0000e+00, 3.0000e+00, 1.5000e+01, 0.0000e+00]])"
            ]
          },
          "metadata": {
            "tags": []
          },
          "execution_count": 18
        }
      ]
    },
    {
      "cell_type": "code",
      "metadata": {
        "id": "vECkA6KDuGZS",
        "colab_type": "code",
        "colab": {
          "base_uri": "https://localhost:8080/",
          "height": 34
        },
        "outputId": "a8e7667b-b792-4be0-c52a-42036a3e21f9"
      },
      "source": [
        "outputs = np.stack(outputs)\n",
        "outputs = torch.tensor(outputs, dtype=torch.float).flatten()\n",
        "outputs[:5]\n",
        "\n"
      ],
      "execution_count": 19,
      "outputs": [
        {
          "output_type": "execute_result",
          "data": {
            "text/plain": [
              "tensor([0., 0., 0., 0., 0.])"
            ]
          },
          "metadata": {
            "tags": []
          },
          "execution_count": 19
        }
      ]
    },
    {
      "cell_type": "code",
      "metadata": {
        "id": "0khYHrAovW39",
        "colab_type": "code",
        "colab": {
          "base_uri": "https://localhost:8080/",
          "height": 67
        },
        "outputId": "0d6ddb19-cb0b-4493-f7aa-48e0c017a39d"
      },
      "source": [
        "print(categorical_data.shape)\n",
        "print(numerical_data.shape)\n",
        "print(outputs.shape)"
      ],
      "execution_count": 20,
      "outputs": [
        {
          "output_type": "stream",
          "text": [
            "torch.Size([1167347, 3])\n",
            "torch.Size([1167347, 6])\n",
            "torch.Size([1167347])\n"
          ],
          "name": "stdout"
        }
      ]
    },
    {
      "cell_type": "code",
      "metadata": {
        "id": "GUu64kFpvo_p",
        "colab_type": "code",
        "colab": {
          "base_uri": "https://localhost:8080/",
          "height": 34
        },
        "outputId": "be11f40d-1217-4a91-a1bd-73764f21dc0c"
      },
      "source": [
        "# creates a tuple that contains the number of unique values and the dimension sizes for all the categorical columns:\n",
        "categorical_column_sizes = [len(nz_crime_data[column].cat.categories) for column in categorical_columns]\n",
        "categorical_embedding_sizes = [(col_size, min(50, (col_size+1)//2)) for col_size in categorical_column_sizes]\n",
        "print(categorical_embedding_sizes)"
      ],
      "execution_count": 21,
      "outputs": [
        {
          "output_type": "stream",
          "text": [
            "[(1938, 50), (66, 33), (3, 2)]\n"
          ],
          "name": "stdout"
        }
      ]
    },
    {
      "cell_type": "code",
      "metadata": {
        "id": "lQePxePtwEym",
        "colab_type": "code",
        "colab": {}
      },
      "source": [
        "# divide our dataset into training and test sets\n",
        "\n",
        "total_records = 1167347\n",
        "test_records = int(total_records * .3)\n",
        "\n",
        "categorical_train_data = categorical_data[:total_records-test_records]\n",
        "categorical_test_data = categorical_data[total_records-test_records:total_records]\n",
        "numerical_train_data = numerical_data[:total_records-test_records]\n",
        "numerical_test_data = numerical_data[total_records-test_records:total_records]\n",
        "train_outputs = outputs[:total_records-test_records]\n",
        "test_outputs = outputs[total_records-test_records:total_records]"
      ],
      "execution_count": 22,
      "outputs": []
    },
    {
      "cell_type": "code",
      "metadata": {
        "id": "iJF9lrRNwUYO",
        "colab_type": "code",
        "colab": {
          "base_uri": "https://localhost:8080/",
          "height": 118
        },
        "outputId": "138629bd-116c-416f-bfd4-6362707fe81c"
      },
      "source": [
        "print(len(categorical_train_data))\n",
        "print(len(numerical_train_data))\n",
        "print(len(train_outputs))\n",
        "\n",
        "print(len(categorical_test_data))\n",
        "print(len(numerical_test_data))\n",
        "print(len(test_outputs))"
      ],
      "execution_count": 23,
      "outputs": [
        {
          "output_type": "stream",
          "text": [
            "817143\n",
            "817143\n",
            "817143\n",
            "350204\n",
            "350204\n",
            "350204\n"
          ],
          "name": "stdout"
        }
      ]
    },
    {
      "cell_type": "code",
      "metadata": {
        "id": "ZlsH4-sdwZTM",
        "colab_type": "code",
        "colab": {}
      },
      "source": [
        "# define our model.\n",
        "class Model(nn.Module):\n",
        "\n",
        "    def __init__(self, embedding_size, num_numerical_cols, output_size, layers, p=0.4):\n",
        "        super().__init__()\n",
        "        self.all_embeddings = nn.ModuleList([nn.Embedding(ni, nf) for ni, nf in embedding_size])\n",
        "        self.embedding_dropout = nn.Dropout(p)\n",
        "        self.batch_norm_num = nn.BatchNorm1d(num_numerical_cols)\n",
        "\n",
        "        all_layers = []\n",
        "        num_categorical_cols = sum((nf for ni, nf in embedding_size))\n",
        "        input_size = num_categorical_cols + num_numerical_cols\n",
        "\n",
        "        for i in layers:\n",
        "            all_layers.append(nn.Linear(input_size, i))\n",
        "            all_layers.append(nn.ReLU(inplace=True))\n",
        "            all_layers.append(nn.BatchNorm1d(i))\n",
        "            all_layers.append(nn.Dropout(p))\n",
        "            input_size = i\n",
        "\n",
        "        all_layers.append(nn.Linear(layers[-1], output_size))\n",
        "\n",
        "        self.layers = nn.Sequential(*all_layers)\n",
        "\n",
        "    def forward(self, x_categorical, x_numerical):\n",
        "        embeddings = []\n",
        "        for i,e in enumerate(self.all_embeddings):\n",
        "            embeddings.append(e(x_categorical[:,i]))\n",
        "        x = torch.cat(embeddings, 1)\n",
        "        x = self.embedding_dropout(x)\n",
        "\n",
        "        x_numerical = self.batch_norm_num(x_numerical)\n",
        "        x = torch.cat([x, x_numerical], 1)\n",
        "        x = self.layers(x)\n",
        "        return x"
      ],
      "execution_count": 24,
      "outputs": []
    },
    {
      "cell_type": "code",
      "metadata": {
        "id": "_q6phJ8Bw-aI",
        "colab_type": "code",
        "colab": {}
      },
      "source": [
        "#To create the model\n",
        "model = Model(categorical_embedding_sizes, numerical_data.shape[1], 3, [200,100,50], p=0.4)"
      ],
      "execution_count": 25,
      "outputs": []
    },
    {
      "cell_type": "code",
      "metadata": {
        "id": "EdOoTrwIxtki",
        "colab_type": "code",
        "colab": {
          "base_uri": "https://localhost:8080/",
          "height": 420
        },
        "outputId": "4fcc3a57-5a33-4f22-f370-538d1ce0c5ad"
      },
      "source": [
        "print(model)"
      ],
      "execution_count": 26,
      "outputs": [
        {
          "output_type": "stream",
          "text": [
            "Model(\n",
            "  (all_embeddings): ModuleList(\n",
            "    (0): Embedding(1938, 50)\n",
            "    (1): Embedding(66, 33)\n",
            "    (2): Embedding(3, 2)\n",
            "  )\n",
            "  (embedding_dropout): Dropout(p=0.4, inplace=False)\n",
            "  (batch_norm_num): BatchNorm1d(6, eps=1e-05, momentum=0.1, affine=True, track_running_stats=True)\n",
            "  (layers): Sequential(\n",
            "    (0): Linear(in_features=91, out_features=200, bias=True)\n",
            "    (1): ReLU(inplace=True)\n",
            "    (2): BatchNorm1d(200, eps=1e-05, momentum=0.1, affine=True, track_running_stats=True)\n",
            "    (3): Dropout(p=0.4, inplace=False)\n",
            "    (4): Linear(in_features=200, out_features=100, bias=True)\n",
            "    (5): ReLU(inplace=True)\n",
            "    (6): BatchNorm1d(100, eps=1e-05, momentum=0.1, affine=True, track_running_stats=True)\n",
            "    (7): Dropout(p=0.4, inplace=False)\n",
            "    (8): Linear(in_features=100, out_features=50, bias=True)\n",
            "    (9): ReLU(inplace=True)\n",
            "    (10): BatchNorm1d(50, eps=1e-05, momentum=0.1, affine=True, track_running_stats=True)\n",
            "    (11): Dropout(p=0.4, inplace=False)\n",
            "    (12): Linear(in_features=50, out_features=3, bias=True)\n",
            "  )\n",
            ")\n"
          ],
          "name": "stdout"
        }
      ]
    },
    {
      "cell_type": "code",
      "metadata": {
        "id": "vT_2s4PUya62",
        "colab_type": "code",
        "colab": {}
      },
      "source": [
        " # define the loss function and the optimizer that will be used to train the model.\n",
        "loss_function = nn.CrossEntropyLoss()\n",
        "optimizer = torch.optim.Adam(model.parameters(), lr=0.001)"
      ],
      "execution_count": 27,
      "outputs": []
    },
    {
      "cell_type": "code",
      "metadata": {
        "id": "yLAQO4Re803h",
        "colab_type": "code",
        "colab": {
          "base_uri": "https://localhost:8080/",
          "height": 67
        },
        "outputId": "b967b018-ae6c-4a36-8af1-c6a83a3dcff3"
      },
      "source": [
        "epochs = 32\n",
        "aggregated_losses = []\n",
        " \n",
        "\n",
        "for i in range(epochs):\n",
        "    running_loss = 0\n",
        "    total_train = 0\n",
        "    correct_train = 0\n",
        "    i += 1\n",
        "    y_pred = model(categorical_train_data, numerical_train_data)\n",
        "    single_loss = loss_function(y_pred, train_outputs.long())\n",
        "    aggregated_losses.append(single_loss)\n",
        "    \n",
        "\n",
        "    if i%25 == 1:\n",
        "      print(f'epoch: {i:3} loss: {single_loss.item():10.8f}')\n",
        "\n",
        "    optimizer.zero_grad()\n",
        "    single_loss.backward()\n",
        "    optimizer.step()\n",
        "\n",
        "   \n",
        "print(f'epoch: {i:3} loss: {single_loss.item():10.10f}')"
      ],
      "execution_count": 28,
      "outputs": [
        {
          "output_type": "stream",
          "text": [
            "epoch:   1 loss: 1.25533819\n",
            "epoch:  26 loss: 0.92153126\n",
            "epoch:  32 loss: 0.8795971274\n"
          ],
          "name": "stdout"
        }
      ]
    },
    {
      "cell_type": "code",
      "metadata": {
        "id": "YPeTtfA9r8sa",
        "colab_type": "code",
        "colab": {
          "base_uri": "https://localhost:8080/",
          "height": 279
        },
        "outputId": "2a0a6d80-927a-4ada-8087-621c025e87e8"
      },
      "source": [
        "plt.plot(range(epochs), aggregated_losses)\n",
        "plt.ylabel('Loss')\n",
        "plt.xlabel('epoch');"
      ],
      "execution_count": 29,
      "outputs": [
        {
          "output_type": "display_data",
          "data": {
            "image/png": "[encoded data removed]",
            "text/plain": [
              "<Figure size 432x288 with 1 Axes>"
            ]
          },
          "metadata": {
            "tags": [],
            "needs_background": "light"
          }
        }
      ]
    },
    {
      "cell_type": "code",
      "metadata": {
        "id": "F_B_5mRqsUb7",
        "colab_type": "code",
        "colab": {
          "base_uri": "https://localhost:8080/",
          "height": 354
        },
        "outputId": "b78207f7-265d-4325-acdd-a10581665b52"
      },
      "source": [
        "# Making Predictions on the test class and prints the cross entropy loss for the test data\n",
        "\n",
        "with torch.no_grad():\n",
        "    y_val = model(categorical_test_data, numerical_test_data)\n",
        "    loss = loss_function(y_val, test_outputs.long)\n",
        "print(f'Loss: {loss:.8f}')"
      ],
      "execution_count": 30,
      "outputs": [
        {
          "output_type": "error",
          "ename": "AttributeError",
          "evalue": "ignored",
          "traceback": [
            "\u001b[0;31m---------------------------------------------------------------------------\u001b[0m",
            "\u001b[0;31mAttributeError\u001b[0m                            Traceback (most recent call last)",
            "\u001b[0;32m<ipython-input-30-b1ea4e55f76f>\u001b[0m in \u001b[0;36m<module>\u001b[0;34m()\u001b[0m\n\u001b[1;32m      3\u001b[0m \u001b[0;32mwith\u001b[0m \u001b[0mtorch\u001b[0m\u001b[0;34m.\u001b[0m\u001b[0mno_grad\u001b[0m\u001b[0;34m(\u001b[0m\u001b[0;34m)\u001b[0m\u001b[0;34m:\u001b[0m\u001b[0;34m\u001b[0m\u001b[0;34m\u001b[0m\u001b[0m\n\u001b[1;32m      4\u001b[0m     \u001b[0my_val\u001b[0m \u001b[0;34m=\u001b[0m \u001b[0mmodel\u001b[0m\u001b[0;34m(\u001b[0m\u001b[0mcategorical_test_data\u001b[0m\u001b[0;34m,\u001b[0m \u001b[0mnumerical_test_data\u001b[0m\u001b[0;34m)\u001b[0m\u001b[0;34m\u001b[0m\u001b[0;34m\u001b[0m\u001b[0m\n\u001b[0;32m----> 5\u001b[0;31m     \u001b[0mloss\u001b[0m \u001b[0;34m=\u001b[0m \u001b[0mloss_function\u001b[0m\u001b[0;34m(\u001b[0m\u001b[0my_val\u001b[0m\u001b[0;34m,\u001b[0m \u001b[0mtest_outputs\u001b[0m\u001b[0;34m.\u001b[0m\u001b[0mlong\u001b[0m\u001b[0;34m)\u001b[0m\u001b[0;34m\u001b[0m\u001b[0;34m\u001b[0m\u001b[0m\n\u001b[0m\u001b[1;32m      6\u001b[0m \u001b[0mprint\u001b[0m\u001b[0;34m(\u001b[0m\u001b[0;34mf'Loss: {loss:.8f}'\u001b[0m\u001b[0;34m)\u001b[0m\u001b[0;34m\u001b[0m\u001b[0;34m\u001b[0m\u001b[0m\n",
            "\u001b[0;32m/usr/local/lib/python3.6/dist-packages/torch/nn/modules/module.py\u001b[0m in \u001b[0;36m__call__\u001b[0;34m(self, *input, **kwargs)\u001b[0m\n\u001b[1;32m    548\u001b[0m             \u001b[0mresult\u001b[0m \u001b[0;34m=\u001b[0m \u001b[0mself\u001b[0m\u001b[0;34m.\u001b[0m\u001b[0m_slow_forward\u001b[0m\u001b[0;34m(\u001b[0m\u001b[0;34m*\u001b[0m\u001b[0minput\u001b[0m\u001b[0;34m,\u001b[0m \u001b[0;34m**\u001b[0m\u001b[0mkwargs\u001b[0m\u001b[0;34m)\u001b[0m\u001b[0;34m\u001b[0m\u001b[0;34m\u001b[0m\u001b[0m\n\u001b[1;32m    549\u001b[0m         \u001b[0;32melse\u001b[0m\u001b[0;34m:\u001b[0m\u001b[0;34m\u001b[0m\u001b[0;34m\u001b[0m\u001b[0m\n\u001b[0;32m--> 550\u001b[0;31m             \u001b[0mresult\u001b[0m \u001b[0;34m=\u001b[0m \u001b[0mself\u001b[0m\u001b[0;34m.\u001b[0m\u001b[0mforward\u001b[0m\u001b[0;34m(\u001b[0m\u001b[0;34m*\u001b[0m\u001b[0minput\u001b[0m\u001b[0;34m,\u001b[0m \u001b[0;34m**\u001b[0m\u001b[0mkwargs\u001b[0m\u001b[0;34m)\u001b[0m\u001b[0;34m\u001b[0m\u001b[0;34m\u001b[0m\u001b[0m\n\u001b[0m\u001b[1;32m    551\u001b[0m         \u001b[0;32mfor\u001b[0m \u001b[0mhook\u001b[0m \u001b[0;32min\u001b[0m \u001b[0mself\u001b[0m\u001b[0;34m.\u001b[0m\u001b[0m_forward_hooks\u001b[0m\u001b[0;34m.\u001b[0m\u001b[0mvalues\u001b[0m\u001b[0;34m(\u001b[0m\u001b[0;34m)\u001b[0m\u001b[0;34m:\u001b[0m\u001b[0;34m\u001b[0m\u001b[0;34m\u001b[0m\u001b[0m\n\u001b[1;32m    552\u001b[0m             \u001b[0mhook_result\u001b[0m \u001b[0;34m=\u001b[0m \u001b[0mhook\u001b[0m\u001b[0;34m(\u001b[0m\u001b[0mself\u001b[0m\u001b[0;34m,\u001b[0m \u001b[0minput\u001b[0m\u001b[0;34m,\u001b[0m \u001b[0mresult\u001b[0m\u001b[0;34m)\u001b[0m\u001b[0;34m\u001b[0m\u001b[0;34m\u001b[0m\u001b[0m\n",
            "\u001b[0;32m/usr/local/lib/python3.6/dist-packages/torch/nn/modules/loss.py\u001b[0m in \u001b[0;36mforward\u001b[0;34m(self, input, target)\u001b[0m\n\u001b[1;32m    930\u001b[0m     \u001b[0;32mdef\u001b[0m \u001b[0mforward\u001b[0m\u001b[0;34m(\u001b[0m\u001b[0mself\u001b[0m\u001b[0;34m,\u001b[0m \u001b[0minput\u001b[0m\u001b[0;34m,\u001b[0m \u001b[0mtarget\u001b[0m\u001b[0;34m)\u001b[0m\u001b[0;34m:\u001b[0m\u001b[0;34m\u001b[0m\u001b[0;34m\u001b[0m\u001b[0m\n\u001b[1;32m    931\u001b[0m         return F.cross_entropy(input, target, weight=self.weight,\n\u001b[0;32m--> 932\u001b[0;31m                                ignore_index=self.ignore_index, reduction=self.reduction)\n\u001b[0m\u001b[1;32m    933\u001b[0m \u001b[0;34m\u001b[0m\u001b[0m\n\u001b[1;32m    934\u001b[0m \u001b[0;34m\u001b[0m\u001b[0m\n",
            "\u001b[0;32m/usr/local/lib/python3.6/dist-packages/torch/nn/functional.py\u001b[0m in \u001b[0;36mcross_entropy\u001b[0;34m(input, target, weight, size_average, ignore_index, reduce, reduction)\u001b[0m\n\u001b[1;32m   2315\u001b[0m     \u001b[0;32mif\u001b[0m \u001b[0msize_average\u001b[0m \u001b[0;32mis\u001b[0m \u001b[0;32mnot\u001b[0m \u001b[0;32mNone\u001b[0m \u001b[0;32mor\u001b[0m \u001b[0mreduce\u001b[0m \u001b[0;32mis\u001b[0m \u001b[0;32mnot\u001b[0m \u001b[0;32mNone\u001b[0m\u001b[0;34m:\u001b[0m\u001b[0;34m\u001b[0m\u001b[0;34m\u001b[0m\u001b[0m\n\u001b[1;32m   2316\u001b[0m         \u001b[0mreduction\u001b[0m \u001b[0;34m=\u001b[0m \u001b[0m_Reduction\u001b[0m\u001b[0;34m.\u001b[0m\u001b[0mlegacy_get_string\u001b[0m\u001b[0;34m(\u001b[0m\u001b[0msize_average\u001b[0m\u001b[0;34m,\u001b[0m \u001b[0mreduce\u001b[0m\u001b[0;34m)\u001b[0m\u001b[0;34m\u001b[0m\u001b[0;34m\u001b[0m\u001b[0m\n\u001b[0;32m-> 2317\u001b[0;31m     \u001b[0;32mreturn\u001b[0m \u001b[0mnll_loss\u001b[0m\u001b[0;34m(\u001b[0m\u001b[0mlog_softmax\u001b[0m\u001b[0;34m(\u001b[0m\u001b[0minput\u001b[0m\u001b[0;34m,\u001b[0m \u001b[0;36m1\u001b[0m\u001b[0;34m)\u001b[0m\u001b[0;34m,\u001b[0m \u001b[0mtarget\u001b[0m\u001b[0;34m,\u001b[0m \u001b[0mweight\u001b[0m\u001b[0;34m,\u001b[0m \u001b[0;32mNone\u001b[0m\u001b[0;34m,\u001b[0m \u001b[0mignore_index\u001b[0m\u001b[0;34m,\u001b[0m \u001b[0;32mNone\u001b[0m\u001b[0;34m,\u001b[0m \u001b[0mreduction\u001b[0m\u001b[0;34m)\u001b[0m\u001b[0;34m\u001b[0m\u001b[0;34m\u001b[0m\u001b[0m\n\u001b[0m\u001b[1;32m   2318\u001b[0m \u001b[0;34m\u001b[0m\u001b[0m\n\u001b[1;32m   2319\u001b[0m \u001b[0;34m\u001b[0m\u001b[0m\n",
            "\u001b[0;32m/usr/local/lib/python3.6/dist-packages/torch/nn/functional.py\u001b[0m in \u001b[0;36mnll_loss\u001b[0;34m(input, target, weight, size_average, ignore_index, reduce, reduction)\u001b[0m\n\u001b[1;32m   2109\u001b[0m         \u001b[0;32mraise\u001b[0m \u001b[0mValueError\u001b[0m\u001b[0;34m(\u001b[0m\u001b[0;34m'Expected 2 or more dimensions (got {})'\u001b[0m\u001b[0;34m.\u001b[0m\u001b[0mformat\u001b[0m\u001b[0;34m(\u001b[0m\u001b[0mdim\u001b[0m\u001b[0;34m)\u001b[0m\u001b[0;34m)\u001b[0m\u001b[0;34m\u001b[0m\u001b[0;34m\u001b[0m\u001b[0m\n\u001b[1;32m   2110\u001b[0m \u001b[0;34m\u001b[0m\u001b[0m\n\u001b[0;32m-> 2111\u001b[0;31m     \u001b[0;32mif\u001b[0m \u001b[0minput\u001b[0m\u001b[0;34m.\u001b[0m\u001b[0msize\u001b[0m\u001b[0;34m(\u001b[0m\u001b[0;36m0\u001b[0m\u001b[0;34m)\u001b[0m \u001b[0;34m!=\u001b[0m \u001b[0mtarget\u001b[0m\u001b[0;34m.\u001b[0m\u001b[0msize\u001b[0m\u001b[0;34m(\u001b[0m\u001b[0;36m0\u001b[0m\u001b[0;34m)\u001b[0m\u001b[0;34m:\u001b[0m\u001b[0;34m\u001b[0m\u001b[0;34m\u001b[0m\u001b[0m\n\u001b[0m\u001b[1;32m   2112\u001b[0m         raise ValueError('Expected input batch_size ({}) to match target batch_size ({}).'\n\u001b[1;32m   2113\u001b[0m                          .format(input.size(0), target.size(0)))\n",
            "\u001b[0;31mAttributeError\u001b[0m: 'builtin_function_or_method' object has no attribute 'size'"
          ]
        }
      ]
    },
    {
      "cell_type": "code",
      "metadata": {
        "id": "bI1XwERDsdZp",
        "colab_type": "code",
        "colab": {
          "base_uri": "https://localhost:8080/",
          "height": 101
        },
        "outputId": "36c31455-eba2-4212-fc6d-27382e40c870"
      },
      "source": [
        "# It is important to note that since we specified that our output layer will contain 3 neurons, each prediction will contain 3 values. For instance, the first 5 predicted values look like this:\n",
        "print(y_val[:5])"
      ],
      "execution_count": 31,
      "outputs": [
        {
          "output_type": "stream",
          "text": [
            "tensor([[ 0.5354, -0.3499, -0.9388],\n",
            "        [ 0.3594,  0.8014, -1.4063],\n",
            "        [-0.0942,  0.4605, -0.2947],\n",
            "        [ 1.1023, -0.1317, -1.5035],\n",
            "        [ 0.4429, -0.2957, -0.4710]])\n"
          ],
          "name": "stdout"
        }
      ]
    },
    {
      "cell_type": "code",
      "metadata": {
        "id": "Fegyt56vsv8w",
        "colab_type": "code",
        "colab": {}
      },
      "source": [
        "y_val = np.argmax(y_val, axis=1)"
      ],
      "execution_count": 32,
      "outputs": []
    },
    {
      "cell_type": "code",
      "metadata": {
        "id": "6I7Jw_ADs0oi",
        "colab_type": "code",
        "colab": {
          "base_uri": "https://localhost:8080/",
          "height": 34
        },
        "outputId": "1552e5e0-0ba7-42c7-e450-1ce3b4759e5c"
      },
      "source": [
        "print(y_val[:5])"
      ],
      "execution_count": 33,
      "outputs": [
        {
          "output_type": "stream",
          "text": [
            "tensor([0, 1, 1, 0, 0])\n"
          ],
          "name": "stdout"
        }
      ]
    },
    {
      "cell_type": "code",
      "metadata": {
        "id": "Jynq_tXys3Lh",
        "colab_type": "code",
        "colab": {
          "base_uri": "https://localhost:8080/",
          "height": 252
        },
        "outputId": "74bc2fb8-c217-4f0b-cc9c-9620e586808e"
      },
      "source": [
        "from sklearn.metrics import classification_report, confusion_matrix, accuracy_score\n",
        "\n",
        "print(confusion_matrix(test_outputs,y_val))\n",
        "print(classification_report(test_outputs,y_val))\n",
        "print(accuracy_score(test_outputs, y_val))"
      ],
      "execution_count": 34,
      "outputs": [
        {
          "output_type": "stream",
          "text": [
            "[[53859 44271 20449]\n",
            " [36003 70806 26324]\n",
            " [ 9776 22705 66011]]\n",
            "              precision    recall  f1-score   support\n",
            "\n",
            "         0.0       0.54      0.45      0.49    118579\n",
            "         1.0       0.51      0.53      0.52    133133\n",
            "         2.0       0.59      0.67      0.62     98492\n",
            "\n",
            "    accuracy                           0.54    350204\n",
            "   macro avg       0.55      0.55      0.55    350204\n",
            "weighted avg       0.54      0.54      0.54    350204\n",
            "\n",
            "0.5444712224874645\n"
          ],
          "name": "stdout"
        }
      ]
    },
    {
      "cell_type": "code",
      "metadata": {
        "id": "8aBzj2yPKr3n",
        "colab_type": "code",
        "colab": {
          "base_uri": "https://localhost:8080/",
          "height": 84
        },
        "outputId": "31e32ebe-958d-49da-9b25-40deb6d5d4ea"
      },
      "source": [
        "epochs = 64\n",
        "aggregated_losses = []\n",
        " \n",
        "\n",
        "for i in range(epochs):\n",
        "    running_loss = 0\n",
        "    total_train = 0\n",
        "    correct_train = 0\n",
        "    i += 1\n",
        "    y_pred = model(categorical_train_data, numerical_train_data)\n",
        "    single_loss = loss_function(y_pred, train_outputs.long())\n",
        "    aggregated_losses.append(single_loss)\n",
        "    \n",
        "\n",
        "    if i%25 == 1:\n",
        "      print(f'epoch: {i:3} loss: {single_loss.item():10.8f}')\n",
        "\n",
        "    optimizer.zero_grad()\n",
        "    single_loss.backward()\n",
        "    optimizer.step()\n",
        "\n",
        "   \n",
        "print(f'epoch: {i:3} loss: {single_loss.item():10.10f}')"
      ],
      "execution_count": 35,
      "outputs": [
        {
          "output_type": "stream",
          "text": [
            "epoch:   1 loss: 0.87373507\n",
            "epoch:  26 loss: 0.75537890\n",
            "epoch:  51 loss: 0.68488765\n",
            "epoch:  64 loss: 0.6569600701\n"
          ],
          "name": "stdout"
        }
      ]
    },
    {
      "cell_type": "code",
      "metadata": {
        "id": "JYb8xc0RZTQh",
        "colab_type": "code",
        "colab": {
          "base_uri": "https://localhost:8080/",
          "height": 354
        },
        "outputId": "3292b392-350b-469a-dccd-29f6bf8bfc57"
      },
      "source": [
        "\n",
        "with torch.no_grad():\n",
        "    y_val = model(categorical_test_data, numerical_test_data)\n",
        "    loss = loss_function(y_val, test_outputs.long)\n",
        "print(f'Loss: {loss:.8f}')"
      ],
      "execution_count": 36,
      "outputs": [
        {
          "output_type": "error",
          "ename": "AttributeError",
          "evalue": "ignored",
          "traceback": [
            "\u001b[0;31m---------------------------------------------------------------------------\u001b[0m",
            "\u001b[0;31mAttributeError\u001b[0m                            Traceback (most recent call last)",
            "\u001b[0;32m<ipython-input-36-caa1b86a7096>\u001b[0m in \u001b[0;36m<module>\u001b[0;34m()\u001b[0m\n\u001b[1;32m      2\u001b[0m \u001b[0;32mwith\u001b[0m \u001b[0mtorch\u001b[0m\u001b[0;34m.\u001b[0m\u001b[0mno_grad\u001b[0m\u001b[0;34m(\u001b[0m\u001b[0;34m)\u001b[0m\u001b[0;34m:\u001b[0m\u001b[0;34m\u001b[0m\u001b[0;34m\u001b[0m\u001b[0m\n\u001b[1;32m      3\u001b[0m     \u001b[0my_val\u001b[0m \u001b[0;34m=\u001b[0m \u001b[0mmodel\u001b[0m\u001b[0;34m(\u001b[0m\u001b[0mcategorical_test_data\u001b[0m\u001b[0;34m,\u001b[0m \u001b[0mnumerical_test_data\u001b[0m\u001b[0;34m)\u001b[0m\u001b[0;34m\u001b[0m\u001b[0;34m\u001b[0m\u001b[0m\n\u001b[0;32m----> 4\u001b[0;31m     \u001b[0mloss\u001b[0m \u001b[0;34m=\u001b[0m \u001b[0mloss_function\u001b[0m\u001b[0;34m(\u001b[0m\u001b[0my_val\u001b[0m\u001b[0;34m,\u001b[0m \u001b[0mtest_outputs\u001b[0m\u001b[0;34m.\u001b[0m\u001b[0mlong\u001b[0m\u001b[0;34m)\u001b[0m\u001b[0;34m\u001b[0m\u001b[0;34m\u001b[0m\u001b[0m\n\u001b[0m\u001b[1;32m      5\u001b[0m \u001b[0mprint\u001b[0m\u001b[0;34m(\u001b[0m\u001b[0;34mf'Loss: {loss:.8f}'\u001b[0m\u001b[0;34m)\u001b[0m\u001b[0;34m\u001b[0m\u001b[0;34m\u001b[0m\u001b[0m\n",
            "\u001b[0;32m/usr/local/lib/python3.6/dist-packages/torch/nn/modules/module.py\u001b[0m in \u001b[0;36m__call__\u001b[0;34m(self, *input, **kwargs)\u001b[0m\n\u001b[1;32m    548\u001b[0m             \u001b[0mresult\u001b[0m \u001b[0;34m=\u001b[0m \u001b[0mself\u001b[0m\u001b[0;34m.\u001b[0m\u001b[0m_slow_forward\u001b[0m\u001b[0;34m(\u001b[0m\u001b[0;34m*\u001b[0m\u001b[0minput\u001b[0m\u001b[0;34m,\u001b[0m \u001b[0;34m**\u001b[0m\u001b[0mkwargs\u001b[0m\u001b[0;34m)\u001b[0m\u001b[0;34m\u001b[0m\u001b[0;34m\u001b[0m\u001b[0m\n\u001b[1;32m    549\u001b[0m         \u001b[0;32melse\u001b[0m\u001b[0;34m:\u001b[0m\u001b[0;34m\u001b[0m\u001b[0;34m\u001b[0m\u001b[0m\n\u001b[0;32m--> 550\u001b[0;31m             \u001b[0mresult\u001b[0m \u001b[0;34m=\u001b[0m \u001b[0mself\u001b[0m\u001b[0;34m.\u001b[0m\u001b[0mforward\u001b[0m\u001b[0;34m(\u001b[0m\u001b[0;34m*\u001b[0m\u001b[0minput\u001b[0m\u001b[0;34m,\u001b[0m \u001b[0;34m**\u001b[0m\u001b[0mkwargs\u001b[0m\u001b[0;34m)\u001b[0m\u001b[0;34m\u001b[0m\u001b[0;34m\u001b[0m\u001b[0m\n\u001b[0m\u001b[1;32m    551\u001b[0m         \u001b[0;32mfor\u001b[0m \u001b[0mhook\u001b[0m \u001b[0;32min\u001b[0m \u001b[0mself\u001b[0m\u001b[0;34m.\u001b[0m\u001b[0m_forward_hooks\u001b[0m\u001b[0;34m.\u001b[0m\u001b[0mvalues\u001b[0m\u001b[0;34m(\u001b[0m\u001b[0;34m)\u001b[0m\u001b[0;34m:\u001b[0m\u001b[0;34m\u001b[0m\u001b[0;34m\u001b[0m\u001b[0m\n\u001b[1;32m    552\u001b[0m             \u001b[0mhook_result\u001b[0m \u001b[0;34m=\u001b[0m \u001b[0mhook\u001b[0m\u001b[0;34m(\u001b[0m\u001b[0mself\u001b[0m\u001b[0;34m,\u001b[0m \u001b[0minput\u001b[0m\u001b[0;34m,\u001b[0m \u001b[0mresult\u001b[0m\u001b[0;34m)\u001b[0m\u001b[0;34m\u001b[0m\u001b[0;34m\u001b[0m\u001b[0m\n",
            "\u001b[0;32m/usr/local/lib/python3.6/dist-packages/torch/nn/modules/loss.py\u001b[0m in \u001b[0;36mforward\u001b[0;34m(self, input, target)\u001b[0m\n\u001b[1;32m    930\u001b[0m     \u001b[0;32mdef\u001b[0m \u001b[0mforward\u001b[0m\u001b[0;34m(\u001b[0m\u001b[0mself\u001b[0m\u001b[0;34m,\u001b[0m \u001b[0minput\u001b[0m\u001b[0;34m,\u001b[0m \u001b[0mtarget\u001b[0m\u001b[0;34m)\u001b[0m\u001b[0;34m:\u001b[0m\u001b[0;34m\u001b[0m\u001b[0;34m\u001b[0m\u001b[0m\n\u001b[1;32m    931\u001b[0m         return F.cross_entropy(input, target, weight=self.weight,\n\u001b[0;32m--> 932\u001b[0;31m                                ignore_index=self.ignore_index, reduction=self.reduction)\n\u001b[0m\u001b[1;32m    933\u001b[0m \u001b[0;34m\u001b[0m\u001b[0m\n\u001b[1;32m    934\u001b[0m \u001b[0;34m\u001b[0m\u001b[0m\n",
            "\u001b[0;32m/usr/local/lib/python3.6/dist-packages/torch/nn/functional.py\u001b[0m in \u001b[0;36mcross_entropy\u001b[0;34m(input, target, weight, size_average, ignore_index, reduce, reduction)\u001b[0m\n\u001b[1;32m   2315\u001b[0m     \u001b[0;32mif\u001b[0m \u001b[0msize_average\u001b[0m \u001b[0;32mis\u001b[0m \u001b[0;32mnot\u001b[0m \u001b[0;32mNone\u001b[0m \u001b[0;32mor\u001b[0m \u001b[0mreduce\u001b[0m \u001b[0;32mis\u001b[0m \u001b[0;32mnot\u001b[0m \u001b[0;32mNone\u001b[0m\u001b[0;34m:\u001b[0m\u001b[0;34m\u001b[0m\u001b[0;34m\u001b[0m\u001b[0m\n\u001b[1;32m   2316\u001b[0m         \u001b[0mreduction\u001b[0m \u001b[0;34m=\u001b[0m \u001b[0m_Reduction\u001b[0m\u001b[0;34m.\u001b[0m\u001b[0mlegacy_get_string\u001b[0m\u001b[0;34m(\u001b[0m\u001b[0msize_average\u001b[0m\u001b[0;34m,\u001b[0m \u001b[0mreduce\u001b[0m\u001b[0;34m)\u001b[0m\u001b[0;34m\u001b[0m\u001b[0;34m\u001b[0m\u001b[0m\n\u001b[0;32m-> 2317\u001b[0;31m     \u001b[0;32mreturn\u001b[0m \u001b[0mnll_loss\u001b[0m\u001b[0;34m(\u001b[0m\u001b[0mlog_softmax\u001b[0m\u001b[0;34m(\u001b[0m\u001b[0minput\u001b[0m\u001b[0;34m,\u001b[0m \u001b[0;36m1\u001b[0m\u001b[0;34m)\u001b[0m\u001b[0;34m,\u001b[0m \u001b[0mtarget\u001b[0m\u001b[0;34m,\u001b[0m \u001b[0mweight\u001b[0m\u001b[0;34m,\u001b[0m \u001b[0;32mNone\u001b[0m\u001b[0;34m,\u001b[0m \u001b[0mignore_index\u001b[0m\u001b[0;34m,\u001b[0m \u001b[0;32mNone\u001b[0m\u001b[0;34m,\u001b[0m \u001b[0mreduction\u001b[0m\u001b[0;34m)\u001b[0m\u001b[0;34m\u001b[0m\u001b[0;34m\u001b[0m\u001b[0m\n\u001b[0m\u001b[1;32m   2318\u001b[0m \u001b[0;34m\u001b[0m\u001b[0m\n\u001b[1;32m   2319\u001b[0m \u001b[0;34m\u001b[0m\u001b[0m\n",
            "\u001b[0;32m/usr/local/lib/python3.6/dist-packages/torch/nn/functional.py\u001b[0m in \u001b[0;36mnll_loss\u001b[0;34m(input, target, weight, size_average, ignore_index, reduce, reduction)\u001b[0m\n\u001b[1;32m   2109\u001b[0m         \u001b[0;32mraise\u001b[0m \u001b[0mValueError\u001b[0m\u001b[0;34m(\u001b[0m\u001b[0;34m'Expected 2 or more dimensions (got {})'\u001b[0m\u001b[0;34m.\u001b[0m\u001b[0mformat\u001b[0m\u001b[0;34m(\u001b[0m\u001b[0mdim\u001b[0m\u001b[0;34m)\u001b[0m\u001b[0;34m)\u001b[0m\u001b[0;34m\u001b[0m\u001b[0;34m\u001b[0m\u001b[0m\n\u001b[1;32m   2110\u001b[0m \u001b[0;34m\u001b[0m\u001b[0m\n\u001b[0;32m-> 2111\u001b[0;31m     \u001b[0;32mif\u001b[0m \u001b[0minput\u001b[0m\u001b[0;34m.\u001b[0m\u001b[0msize\u001b[0m\u001b[0;34m(\u001b[0m\u001b[0;36m0\u001b[0m\u001b[0;34m)\u001b[0m \u001b[0;34m!=\u001b[0m \u001b[0mtarget\u001b[0m\u001b[0;34m.\u001b[0m\u001b[0msize\u001b[0m\u001b[0;34m(\u001b[0m\u001b[0;36m0\u001b[0m\u001b[0;34m)\u001b[0m\u001b[0;34m:\u001b[0m\u001b[0;34m\u001b[0m\u001b[0;34m\u001b[0m\u001b[0m\n\u001b[0m\u001b[1;32m   2112\u001b[0m         raise ValueError('Expected input batch_size ({}) to match target batch_size ({}).'\n\u001b[1;32m   2113\u001b[0m                          .format(input.size(0), target.size(0)))\n",
            "\u001b[0;31mAttributeError\u001b[0m: 'builtin_function_or_method' object has no attribute 'size'"
          ]
        }
      ]
    },
    {
      "cell_type": "code",
      "metadata": {
        "id": "oUaAqix8Y5LJ",
        "colab_type": "code",
        "colab": {
          "base_uri": "https://localhost:8080/",
          "height": 101
        },
        "outputId": "bfb778be-dc40-42c4-bffd-af07edcb451f"
      },
      "source": [
        "print(y_val[:5])"
      ],
      "execution_count": 37,
      "outputs": [
        {
          "output_type": "stream",
          "text": [
            "tensor([[ 1.0574,  1.7066, -2.3525],\n",
            "        [ 1.4167,  0.8792, -1.5580],\n",
            "        [ 1.1293,  0.8494, -1.0556],\n",
            "        [ 1.5402,  1.0211, -2.1557],\n",
            "        [ 1.7582,  0.4473, -2.4387]])\n"
          ],
          "name": "stdout"
        }
      ]
    },
    {
      "cell_type": "code",
      "metadata": {
        "id": "_cGSL6NGY_aZ",
        "colab_type": "code",
        "colab": {}
      },
      "source": [
        "y_val = np.argmax(y_val, axis=1)"
      ],
      "execution_count": 38,
      "outputs": []
    },
    {
      "cell_type": "code",
      "metadata": {
        "id": "JCoMxFsAZAA0",
        "colab_type": "code",
        "colab": {
          "base_uri": "https://localhost:8080/",
          "height": 34
        },
        "outputId": "291ff735-0bdb-4ddf-9bcd-db5c72ed868d"
      },
      "source": [
        "print(y_val[:5])"
      ],
      "execution_count": 39,
      "outputs": [
        {
          "output_type": "stream",
          "text": [
            "tensor([1, 0, 0, 0, 0])\n"
          ],
          "name": "stdout"
        }
      ]
    },
    {
      "cell_type": "code",
      "metadata": {
        "id": "SwKmHatNZANS",
        "colab_type": "code",
        "colab": {
          "base_uri": "https://localhost:8080/",
          "height": 252
        },
        "outputId": "b2d10add-457f-493e-c875-be62c640d625"
      },
      "source": [
        "from sklearn.metrics import classification_report, confusion_matrix, accuracy_score\n",
        "\n",
        "print(confusion_matrix(test_outputs,y_val))\n",
        "print(classification_report(test_outputs,y_val))\n",
        "print(accuracy_score(test_outputs, y_val))"
      ],
      "execution_count": 40,
      "outputs": [
        {
          "output_type": "stream",
          "text": [
            "[[67469 43268  7842]\n",
            " [28487 91518 13128]\n",
            " [ 2177 22980 73335]]\n",
            "              precision    recall  f1-score   support\n",
            "\n",
            "         0.0       0.69      0.57      0.62    118579\n",
            "         1.0       0.58      0.69      0.63    133133\n",
            "         2.0       0.78      0.74      0.76     98492\n",
            "\n",
            "    accuracy                           0.66    350204\n",
            "   macro avg       0.68      0.67      0.67    350204\n",
            "weighted avg       0.67      0.66      0.66    350204\n",
            "\n",
            "0.6633904809768021\n"
          ],
          "name": "stdout"
        }
      ]
    },
    {
      "cell_type": "code",
      "metadata": {
        "id": "hYLex0Y9ZAZe",
        "colab_type": "code",
        "colab": {}
      },
      "source": [
        ""
      ],
      "execution_count": null,
      "outputs": []
    }
  ]
}